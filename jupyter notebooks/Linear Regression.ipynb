{
 "cells": [
  {
   "cell_type": "code",
   "execution_count": 1,
   "metadata": {},
   "outputs": [],
   "source": [
    "import pandas as pd\n",
    "import numpy as np\n",
    "from sklearn.linear_model import LinearRegression\n",
    "from sklearn.model_selection import train_test_split\n",
    "import seaborn as sns\n",
    "from sklearn import metrics\n",
    "from statsmodels.formula.api import ols\n",
    "from statsmodels.stats.anova import anova_lm"
   ]
  },
  {
   "cell_type": "markdown",
   "metadata": {},
   "source": [
    "# Setting Data Up"
   ]
  },
  {
   "cell_type": "code",
   "execution_count": 2,
   "metadata": {},
   "outputs": [
    {
     "data": {
      "text/html": [
       "<div>\n",
       "<style scoped>\n",
       "    .dataframe tbody tr th:only-of-type {\n",
       "        vertical-align: middle;\n",
       "    }\n",
       "\n",
       "    .dataframe tbody tr th {\n",
       "        vertical-align: top;\n",
       "    }\n",
       "\n",
       "    .dataframe thead th {\n",
       "        text-align: right;\n",
       "    }\n",
       "</style>\n",
       "<table border=\"1\" class=\"dataframe\">\n",
       "  <thead>\n",
       "    <tr style=\"text-align: right;\">\n",
       "      <th></th>\n",
       "      <th>communityID</th>\n",
       "      <th>added</th>\n",
       "      <th>changed</th>\n",
       "      <th>deleted</th>\n",
       "      <th>unchanged</th>\n",
       "      <th>subscribers_1</th>\n",
       "      <th>subscribers_2</th>\n",
       "      <th>rules_1</th>\n",
       "      <th>rules_2</th>\n",
       "      <th>timestamp_1</th>\n",
       "      <th>timestamp_2</th>\n",
       "      <th>founding_date</th>\n",
       "      <th>age_in_months</th>\n",
       "      <th>log_subscribers</th>\n",
       "      <th>age_and_subs</th>\n",
       "      <th>rules_and_subs</th>\n",
       "      <th>rules_and_age</th>\n",
       "    </tr>\n",
       "  </thead>\n",
       "  <tbody>\n",
       "    <tr>\n",
       "      <th>0</th>\n",
       "      <td>007_link</td>\n",
       "      <td>0.0</td>\n",
       "      <td>0.0</td>\n",
       "      <td>0.0</td>\n",
       "      <td>1.0</td>\n",
       "      <td>7</td>\n",
       "      <td>7</td>\n",
       "      <td>1</td>\n",
       "      <td>1</td>\n",
       "      <td>1.627687e+09</td>\n",
       "      <td>1.644941e+09</td>\n",
       "      <td>1.579930e+09</td>\n",
       "      <td>14.908671</td>\n",
       "      <td>2.197225</td>\n",
       "      <td>32.757698</td>\n",
       "      <td>2.197225</td>\n",
       "      <td>14.908671</td>\n",
       "    </tr>\n",
       "    <tr>\n",
       "      <th>1</th>\n",
       "      <td>007nightfire</td>\n",
       "      <td>0.0</td>\n",
       "      <td>0.0</td>\n",
       "      <td>0.0</td>\n",
       "      <td>5.0</td>\n",
       "      <td>68</td>\n",
       "      <td>91</td>\n",
       "      <td>5</td>\n",
       "      <td>5</td>\n",
       "      <td>1.625925e+09</td>\n",
       "      <td>1.643361e+09</td>\n",
       "      <td>1.609863e+09</td>\n",
       "      <td>3.526107</td>\n",
       "      <td>4.248495</td>\n",
       "      <td>14.980651</td>\n",
       "      <td>21.242476</td>\n",
       "      <td>17.630537</td>\n",
       "    </tr>\n",
       "    <tr>\n",
       "      <th>2</th>\n",
       "      <td>00games</td>\n",
       "      <td>0.0</td>\n",
       "      <td>0.0</td>\n",
       "      <td>0.0</td>\n",
       "      <td>4.0</td>\n",
       "      <td>2</td>\n",
       "      <td>3</td>\n",
       "      <td>4</td>\n",
       "      <td>4</td>\n",
       "      <td>1.630524e+09</td>\n",
       "      <td>1.646246e+09</td>\n",
       "      <td>1.580752e+09</td>\n",
       "      <td>14.596170</td>\n",
       "      <td>1.386294</td>\n",
       "      <td>20.234588</td>\n",
       "      <td>5.545177</td>\n",
       "      <td>58.384679</td>\n",
       "    </tr>\n",
       "    <tr>\n",
       "      <th>3</th>\n",
       "      <td>00saesthetics</td>\n",
       "      <td>0.0</td>\n",
       "      <td>0.0</td>\n",
       "      <td>0.0</td>\n",
       "      <td>6.0</td>\n",
       "      <td>2836</td>\n",
       "      <td>2995</td>\n",
       "      <td>6</td>\n",
       "      <td>6</td>\n",
       "      <td>1.624697e+09</td>\n",
       "      <td>1.642362e+09</td>\n",
       "      <td>1.562924e+09</td>\n",
       "      <td>21.375357</td>\n",
       "      <td>7.950855</td>\n",
       "      <td>169.952359</td>\n",
       "      <td>47.705129</td>\n",
       "      <td>128.252141</td>\n",
       "    </tr>\n",
       "    <tr>\n",
       "      <th>4</th>\n",
       "      <td>00sbabies</td>\n",
       "      <td>0.0</td>\n",
       "      <td>0.0</td>\n",
       "      <td>0.0</td>\n",
       "      <td>6.0</td>\n",
       "      <td>300</td>\n",
       "      <td>298</td>\n",
       "      <td>6</td>\n",
       "      <td>6</td>\n",
       "      <td>1.625180e+09</td>\n",
       "      <td>1.642880e+09</td>\n",
       "      <td>1.595696e+09</td>\n",
       "      <td>8.913409</td>\n",
       "      <td>5.710427</td>\n",
       "      <td>50.899370</td>\n",
       "      <td>34.262562</td>\n",
       "      <td>53.480452</td>\n",
       "    </tr>\n",
       "    <tr>\n",
       "      <th>...</th>\n",
       "      <td>...</td>\n",
       "      <td>...</td>\n",
       "      <td>...</td>\n",
       "      <td>...</td>\n",
       "      <td>...</td>\n",
       "      <td>...</td>\n",
       "      <td>...</td>\n",
       "      <td>...</td>\n",
       "      <td>...</td>\n",
       "      <td>...</td>\n",
       "      <td>...</td>\n",
       "      <td>...</td>\n",
       "      <td>...</td>\n",
       "      <td>...</td>\n",
       "      <td>...</td>\n",
       "      <td>...</td>\n",
       "      <td>...</td>\n",
       "    </tr>\n",
       "    <tr>\n",
       "      <th>130846</th>\n",
       "      <td>zyramains</td>\n",
       "      <td>0.0</td>\n",
       "      <td>0.0</td>\n",
       "      <td>0.0</td>\n",
       "      <td>9.0</td>\n",
       "      <td>10085</td>\n",
       "      <td>11382</td>\n",
       "      <td>9</td>\n",
       "      <td>9</td>\n",
       "      <td>1.624172e+09</td>\n",
       "      <td>1.642224e+09</td>\n",
       "      <td>1.419736e+09</td>\n",
       "      <td>75.824785</td>\n",
       "      <td>9.219003</td>\n",
       "      <td>699.028897</td>\n",
       "      <td>82.971025</td>\n",
       "      <td>682.423061</td>\n",
       "    </tr>\n",
       "    <tr>\n",
       "      <th>130847</th>\n",
       "      <td>zyxcomments</td>\n",
       "      <td>0.0</td>\n",
       "      <td>0.0</td>\n",
       "      <td>0.0</td>\n",
       "      <td>1.0</td>\n",
       "      <td>8</td>\n",
       "      <td>8</td>\n",
       "      <td>1</td>\n",
       "      <td>1</td>\n",
       "      <td>1.627579e+09</td>\n",
       "      <td>1.644794e+09</td>\n",
       "      <td>1.562897e+09</td>\n",
       "      <td>21.385681</td>\n",
       "      <td>2.302585</td>\n",
       "      <td>49.242349</td>\n",
       "      <td>2.302585</td>\n",
       "      <td>21.385681</td>\n",
       "    </tr>\n",
       "    <tr>\n",
       "      <th>130848</th>\n",
       "      <td>zyzz</td>\n",
       "      <td>1.0</td>\n",
       "      <td>0.0</td>\n",
       "      <td>1.0</td>\n",
       "      <td>1.0</td>\n",
       "      <td>7245</td>\n",
       "      <td>11991</td>\n",
       "      <td>2</td>\n",
       "      <td>2</td>\n",
       "      <td>1.624310e+09</td>\n",
       "      <td>1.642229e+09</td>\n",
       "      <td>1.311994e+09</td>\n",
       "      <td>116.795459</td>\n",
       "      <td>8.888343</td>\n",
       "      <td>1038.118088</td>\n",
       "      <td>17.776686</td>\n",
       "      <td>233.590919</td>\n",
       "    </tr>\n",
       "    <tr>\n",
       "      <th>130849</th>\n",
       "      <td>zztails</td>\n",
       "      <td>0.0</td>\n",
       "      <td>0.0</td>\n",
       "      <td>0.0</td>\n",
       "      <td>2.0</td>\n",
       "      <td>137</td>\n",
       "      <td>142</td>\n",
       "      <td>2</td>\n",
       "      <td>2</td>\n",
       "      <td>1.625469e+09</td>\n",
       "      <td>1.643165e+09</td>\n",
       "      <td>1.546838e+09</td>\n",
       "      <td>27.492575</td>\n",
       "      <td>4.934474</td>\n",
       "      <td>135.661394</td>\n",
       "      <td>9.868948</td>\n",
       "      <td>54.985150</td>\n",
       "    </tr>\n",
       "    <tr>\n",
       "      <th>130850</th>\n",
       "      <td>zzzbleeeeppzzz</td>\n",
       "      <td>0.0</td>\n",
       "      <td>0.0</td>\n",
       "      <td>0.0</td>\n",
       "      <td>1.0</td>\n",
       "      <td>3</td>\n",
       "      <td>3</td>\n",
       "      <td>1</td>\n",
       "      <td>1</td>\n",
       "      <td>1.628945e+09</td>\n",
       "      <td>1.645972e+09</td>\n",
       "      <td>1.560556e+09</td>\n",
       "      <td>22.276055</td>\n",
       "      <td>1.609438</td>\n",
       "      <td>35.851928</td>\n",
       "      <td>1.609438</td>\n",
       "      <td>22.276055</td>\n",
       "    </tr>\n",
       "  </tbody>\n",
       "</table>\n",
       "<p>130851 rows × 17 columns</p>\n",
       "</div>"
      ],
      "text/plain": [
       "           communityID  added  changed  deleted  unchanged  subscribers_1  \\\n",
       "0             007_link    0.0      0.0      0.0        1.0              7   \n",
       "1         007nightfire    0.0      0.0      0.0        5.0             68   \n",
       "2              00games    0.0      0.0      0.0        4.0              2   \n",
       "3        00saesthetics    0.0      0.0      0.0        6.0           2836   \n",
       "4            00sbabies    0.0      0.0      0.0        6.0            300   \n",
       "...                ...    ...      ...      ...        ...            ...   \n",
       "130846       zyramains    0.0      0.0      0.0        9.0          10085   \n",
       "130847     zyxcomments    0.0      0.0      0.0        1.0              8   \n",
       "130848            zyzz    1.0      0.0      1.0        1.0           7245   \n",
       "130849         zztails    0.0      0.0      0.0        2.0            137   \n",
       "130850  zzzbleeeeppzzz    0.0      0.0      0.0        1.0              3   \n",
       "\n",
       "        subscribers_2  rules_1  rules_2   timestamp_1   timestamp_2  \\\n",
       "0                   7        1        1  1.627687e+09  1.644941e+09   \n",
       "1                  91        5        5  1.625925e+09  1.643361e+09   \n",
       "2                   3        4        4  1.630524e+09  1.646246e+09   \n",
       "3                2995        6        6  1.624697e+09  1.642362e+09   \n",
       "4                 298        6        6  1.625180e+09  1.642880e+09   \n",
       "...               ...      ...      ...           ...           ...   \n",
       "130846          11382        9        9  1.624172e+09  1.642224e+09   \n",
       "130847              8        1        1  1.627579e+09  1.644794e+09   \n",
       "130848          11991        2        2  1.624310e+09  1.642229e+09   \n",
       "130849            142        2        2  1.625469e+09  1.643165e+09   \n",
       "130850              3        1        1  1.628945e+09  1.645972e+09   \n",
       "\n",
       "        founding_date  age_in_months  log_subscribers  age_and_subs  \\\n",
       "0        1.579930e+09      14.908671         2.197225     32.757698   \n",
       "1        1.609863e+09       3.526107         4.248495     14.980651   \n",
       "2        1.580752e+09      14.596170         1.386294     20.234588   \n",
       "3        1.562924e+09      21.375357         7.950855    169.952359   \n",
       "4        1.595696e+09       8.913409         5.710427     50.899370   \n",
       "...               ...            ...              ...           ...   \n",
       "130846   1.419736e+09      75.824785         9.219003    699.028897   \n",
       "130847   1.562897e+09      21.385681         2.302585     49.242349   \n",
       "130848   1.311994e+09     116.795459         8.888343   1038.118088   \n",
       "130849   1.546838e+09      27.492575         4.934474    135.661394   \n",
       "130850   1.560556e+09      22.276055         1.609438     35.851928   \n",
       "\n",
       "        rules_and_subs  rules_and_age  \n",
       "0             2.197225      14.908671  \n",
       "1            21.242476      17.630537  \n",
       "2             5.545177      58.384679  \n",
       "3            47.705129     128.252141  \n",
       "4            34.262562      53.480452  \n",
       "...                ...            ...  \n",
       "130846       82.971025     682.423061  \n",
       "130847        2.302585      21.385681  \n",
       "130848       17.776686     233.590919  \n",
       "130849        9.868948      54.985150  \n",
       "130850        1.609438      22.276055  \n",
       "\n",
       "[130851 rows x 17 columns]"
      ]
     },
     "execution_count": 2,
     "metadata": {},
     "output_type": "execute_result"
    }
   ],
   "source": [
    "regression_data = pd.read_csv(\"../output_data/seth/sub_level_data.csv\")\n",
    "regression_data['log_subscribers'] = np.log(regression_data.subscribers_1 + 2)\n",
    "regression_data['age_and_subs'] = regression_data.log_subscribers * regression_data.age_in_months\n",
    "regression_data['rules_and_subs'] = regression_data.log_subscribers * regression_data.rules_1\n",
    "regression_data['rules_and_age'] = regression_data.age_in_months * regression_data.rules_1\n",
    "regression_data"
   ]
  },
  {
   "cell_type": "code",
   "execution_count": 3,
   "metadata": {},
   "outputs": [
    {
     "data": {
      "text/plain": [
       "130851"
      ]
     },
     "execution_count": 3,
     "metadata": {},
     "output_type": "execute_result"
    }
   ],
   "source": [
    "len(regression_data)"
   ]
  },
  {
   "cell_type": "code",
   "execution_count": 4,
   "metadata": {},
   "outputs": [
    {
     "data": {
      "text/plain": [
       "0.049414983454463476"
      ]
     },
     "execution_count": 4,
     "metadata": {},
     "output_type": "execute_result"
    }
   ],
   "source": [
    "len(regression_data[regression_data.added > 0])/len(regression_data)"
   ]
  },
  {
   "cell_type": "code",
   "execution_count": 5,
   "metadata": {},
   "outputs": [],
   "source": [
    "regression_data.replace([np.inf, -np.inf], np.nan, inplace=True)"
   ]
  },
  {
   "cell_type": "code",
   "execution_count": 6,
   "metadata": {},
   "outputs": [],
   "source": [
    "added_rules = regression_data[regression_data.added > 0]"
   ]
  },
  {
   "cell_type": "markdown",
   "metadata": {},
   "source": [
    "# Regression"
   ]
  },
  {
   "cell_type": "markdown",
   "metadata": {},
   "source": [
    "## Rule Additions"
   ]
  },
  {
   "cell_type": "code",
   "execution_count": 7,
   "metadata": {},
   "outputs": [
    {
     "name": "stdout",
     "output_type": "stream",
     "text": [
      "mse: 0.5786090526948314\n",
      "rmse: 0.7606635607775828\n",
      "r2: 0.05405085950898725\n"
     ]
    }
   ],
   "source": [
    "X = regression_data[['age_in_months', 'log_subscribers', 'subscribers_1', \n",
    "                     'age_and_subs', 'rules_1', 'rules_and_subs', 'rules_and_age']].values.astype(np.ndarray)\n",
    "y = np.array(regression_data.added)\n",
    "# Split the data into training and testing sets with a 70:30 ratio\n",
    "X_train, X_test, y_train, y_test = train_test_split(X, y, test_size=0.3)\n",
    "\n",
    "# logistic regression\n",
    "reg = LinearRegression().fit(X_train, y_train)\n",
    "predictions = reg.predict(X_test)\n",
    "print(f'mse: {metrics.mean_squared_error(y_test, predictions)}')\n",
    "print(f'rmse: {metrics.mean_squared_error(y_test, predictions, squared=False)}')\n",
    "print(f'r2: {metrics.r2_score(y_test, predictions)}')"
   ]
  },
  {
   "cell_type": "markdown",
   "metadata": {},
   "source": [
    "## Rule Deletions"
   ]
  },
  {
   "cell_type": "code",
   "execution_count": 8,
   "metadata": {},
   "outputs": [
    {
     "name": "stdout",
     "output_type": "stream",
     "text": [
      "mse: 0.2888126955312714\n",
      "rmse: 0.5374129655407203\n",
      "r2: 0.04129618861297513\n"
     ]
    }
   ],
   "source": [
    "X = regression_data[['age_in_months', 'log_subscribers', 'subscribers_1', 'age_and_subs', 'rules_1']].values.astype(np.ndarray)\n",
    "y = np.array(regression_data.deleted)\n",
    "# Split the data into training and testing sets with a 70:30 ratio\n",
    "X_train, X_test, y_train, y_test = train_test_split(X, y, test_size=0.3)\n",
    "\n",
    "# logistic regression\n",
    "reg = LinearRegression().fit(X_train, y_train)\n",
    "predictions = reg.predict(X_test)\n",
    "print(f'mse: {metrics.mean_squared_error(y_test, predictions)}')\n",
    "print(f'rmse: {metrics.mean_squared_error(y_test, predictions, squared=False)}')\n",
    "print(f'r2: {metrics.r2_score(y_test, predictions)}')"
   ]
  },
  {
   "cell_type": "markdown",
   "metadata": {},
   "source": [
    "# Regression Comparisons For All Subs"
   ]
  },
  {
   "cell_type": "code",
   "execution_count": 9,
   "metadata": {},
   "outputs": [
    {
     "name": "stdout",
     "output_type": "stream",
     "text": [
      "   df_resid           ssr  df_diff     ss_diff           F  Pr(>F)\n",
      "0  130843.0  72508.958755      0.0         NaN         NaN     NaN\n",
      "1  130847.0  73138.903762     -4.0 -629.945007  281.746137     NaN\n"
     ]
    }
   ],
   "source": [
    "m01 = ols('added ~ subscribers_1 + log_subscribers + age_in_months + age_and_subs + rules_1 + rules_and_subs + rules_and_age', data=regression_data).fit()\n",
    "m02 = ols('added ~ log_subscribers + age_in_months + rules_1', data=regression_data).fit()\n",
    "\n",
    "anovaResults = anova_lm(m01, m02)\n",
    "print(anovaResults)"
   ]
  },
  {
   "cell_type": "code",
   "execution_count": 10,
   "metadata": {},
   "outputs": [
    {
     "name": "stdout",
     "output_type": "stream",
     "text": [
      "                            OLS Regression Results                            \n",
      "==============================================================================\n",
      "Dep. Variable:                  added   R-squared:                       0.058\n",
      "Model:                            OLS   Adj. R-squared:                  0.058\n",
      "Method:                 Least Squares   F-statistic:                     1150.\n",
      "Date:                Tue, 16 May 2023   Prob (F-statistic):               0.00\n",
      "Time:                        18:21:53   Log-Likelihood:            -1.4705e+05\n",
      "No. Observations:              130851   AIC:                         2.941e+05\n",
      "Df Residuals:                  130843   BIC:                         2.942e+05\n",
      "Df Model:                           7                                         \n",
      "Covariance Type:            nonrobust                                         \n",
      "===================================================================================\n",
      "                      coef    std err          t      P>|t|      [0.025      0.975]\n",
      "-----------------------------------------------------------------------------------\n",
      "Intercept           0.0159      0.008      1.879      0.060      -0.001       0.032\n",
      "subscribers_1   -4.761e-08   5.17e-09     -9.215      0.000   -5.77e-08   -3.75e-08\n",
      "log_subscribers     0.0021      0.002      1.190      0.234      -0.001       0.006\n",
      "age_in_months      -0.0012      0.000     -7.357      0.000      -0.002      -0.001\n",
      "age_and_subs        0.0002   2.16e-05      9.637      0.000       0.000       0.000\n",
      "rules_1            -0.0180      0.002    -10.626      0.000      -0.021      -0.015\n",
      "rules_and_subs      0.0077      0.000     25.474      0.000       0.007       0.008\n",
      "rules_and_age   -2.046e-05   2.66e-05     -0.769      0.442   -7.27e-05    3.17e-05\n",
      "==============================================================================\n",
      "Omnibus:                   185606.106   Durbin-Watson:                   1.953\n",
      "Prob(Omnibus):                  0.000   Jarque-Bera (JB):         52173483.775\n",
      "Skew:                           8.580   Prob(JB):                         0.00\n",
      "Kurtosis:                      99.307   Cond. No.                     1.78e+06\n",
      "==============================================================================\n",
      "\n",
      "Warnings:\n",
      "[1] Standard Errors assume that the covariance matrix of the errors is correctly specified.\n",
      "[2] The condition number is large, 1.78e+06. This might indicate that there are\n",
      "strong multicollinearity or other numerical problems.\n"
     ]
    }
   ],
   "source": [
    "print(m01.summary())"
   ]
  }
 ],
 "metadata": {
  "kernelspec": {
   "display_name": "Python 3",
   "language": "python",
   "name": "python3"
  },
  "language_info": {
   "codemirror_mode": {
    "name": "ipython",
    "version": 3
   },
   "file_extension": ".py",
   "mimetype": "text/x-python",
   "name": "python",
   "nbconvert_exporter": "python",
   "pygments_lexer": "ipython3",
   "version": "3.8.3"
  }
 },
 "nbformat": 4,
 "nbformat_minor": 4
}
