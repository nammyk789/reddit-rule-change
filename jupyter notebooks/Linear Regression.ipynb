{
 "cells": [
  {
   "cell_type": "code",
   "execution_count": 11,
   "metadata": {},
   "outputs": [],
   "source": [
    "import pandas as pd\n",
    "import numpy as np\n",
    "from statsmodels.formula.api import ols\n",
    "from statsmodels.stats.anova import anova_lm"
   ]
  },
  {
   "cell_type": "markdown",
   "metadata": {},
   "source": [
    "# Setting Data Up"
   ]
  },
  {
   "cell_type": "code",
   "execution_count": 2,
   "metadata": {},
   "outputs": [
    {
     "data": {
      "text/html": [
       "<div>\n",
       "<style scoped>\n",
       "    .dataframe tbody tr th:only-of-type {\n",
       "        vertical-align: middle;\n",
       "    }\n",
       "\n",
       "    .dataframe tbody tr th {\n",
       "        vertical-align: top;\n",
       "    }\n",
       "\n",
       "    .dataframe thead th {\n",
       "        text-align: right;\n",
       "    }\n",
       "</style>\n",
       "<table border=\"1\" class=\"dataframe\">\n",
       "  <thead>\n",
       "    <tr style=\"text-align: right;\">\n",
       "      <th></th>\n",
       "      <th>communityID</th>\n",
       "      <th>added</th>\n",
       "      <th>changed</th>\n",
       "      <th>deleted</th>\n",
       "      <th>unchanged</th>\n",
       "      <th>subscribers_1</th>\n",
       "      <th>subscribers_2</th>\n",
       "      <th>rules_1</th>\n",
       "      <th>rules_2</th>\n",
       "      <th>timestamp_1</th>\n",
       "      <th>timestamp_2</th>\n",
       "      <th>founding_date</th>\n",
       "      <th>age_in_months</th>\n",
       "      <th>log_subscribers</th>\n",
       "      <th>age_and_subs</th>\n",
       "    </tr>\n",
       "  </thead>\n",
       "  <tbody>\n",
       "    <tr>\n",
       "      <th>0</th>\n",
       "      <td>007_link</td>\n",
       "      <td>0.0</td>\n",
       "      <td>0.0</td>\n",
       "      <td>0.0</td>\n",
       "      <td>1.0</td>\n",
       "      <td>7</td>\n",
       "      <td>7</td>\n",
       "      <td>1</td>\n",
       "      <td>1</td>\n",
       "      <td>1.627687e+09</td>\n",
       "      <td>1.644941e+09</td>\n",
       "      <td>1.579930e+09</td>\n",
       "      <td>14.908671</td>\n",
       "      <td>2.197225</td>\n",
       "      <td>32.757698</td>\n",
       "    </tr>\n",
       "    <tr>\n",
       "      <th>1</th>\n",
       "      <td>007nightfire</td>\n",
       "      <td>0.0</td>\n",
       "      <td>0.0</td>\n",
       "      <td>0.0</td>\n",
       "      <td>5.0</td>\n",
       "      <td>68</td>\n",
       "      <td>91</td>\n",
       "      <td>5</td>\n",
       "      <td>5</td>\n",
       "      <td>1.625925e+09</td>\n",
       "      <td>1.643361e+09</td>\n",
       "      <td>1.609863e+09</td>\n",
       "      <td>3.526107</td>\n",
       "      <td>4.248495</td>\n",
       "      <td>14.980651</td>\n",
       "    </tr>\n",
       "    <tr>\n",
       "      <th>2</th>\n",
       "      <td>00games</td>\n",
       "      <td>0.0</td>\n",
       "      <td>0.0</td>\n",
       "      <td>0.0</td>\n",
       "      <td>4.0</td>\n",
       "      <td>2</td>\n",
       "      <td>3</td>\n",
       "      <td>4</td>\n",
       "      <td>4</td>\n",
       "      <td>1.630524e+09</td>\n",
       "      <td>1.646246e+09</td>\n",
       "      <td>1.580752e+09</td>\n",
       "      <td>14.596170</td>\n",
       "      <td>1.386294</td>\n",
       "      <td>20.234588</td>\n",
       "    </tr>\n",
       "    <tr>\n",
       "      <th>3</th>\n",
       "      <td>00saesthetics</td>\n",
       "      <td>0.0</td>\n",
       "      <td>0.0</td>\n",
       "      <td>0.0</td>\n",
       "      <td>6.0</td>\n",
       "      <td>2836</td>\n",
       "      <td>2995</td>\n",
       "      <td>6</td>\n",
       "      <td>6</td>\n",
       "      <td>1.624697e+09</td>\n",
       "      <td>1.642362e+09</td>\n",
       "      <td>1.562924e+09</td>\n",
       "      <td>21.375357</td>\n",
       "      <td>7.950855</td>\n",
       "      <td>169.952359</td>\n",
       "    </tr>\n",
       "    <tr>\n",
       "      <th>4</th>\n",
       "      <td>00sbabies</td>\n",
       "      <td>0.0</td>\n",
       "      <td>0.0</td>\n",
       "      <td>0.0</td>\n",
       "      <td>6.0</td>\n",
       "      <td>300</td>\n",
       "      <td>298</td>\n",
       "      <td>6</td>\n",
       "      <td>6</td>\n",
       "      <td>1.625180e+09</td>\n",
       "      <td>1.642880e+09</td>\n",
       "      <td>1.595696e+09</td>\n",
       "      <td>8.913409</td>\n",
       "      <td>5.710427</td>\n",
       "      <td>50.899370</td>\n",
       "    </tr>\n",
       "    <tr>\n",
       "      <th>...</th>\n",
       "      <td>...</td>\n",
       "      <td>...</td>\n",
       "      <td>...</td>\n",
       "      <td>...</td>\n",
       "      <td>...</td>\n",
       "      <td>...</td>\n",
       "      <td>...</td>\n",
       "      <td>...</td>\n",
       "      <td>...</td>\n",
       "      <td>...</td>\n",
       "      <td>...</td>\n",
       "      <td>...</td>\n",
       "      <td>...</td>\n",
       "      <td>...</td>\n",
       "      <td>...</td>\n",
       "    </tr>\n",
       "    <tr>\n",
       "      <th>130846</th>\n",
       "      <td>zyramains</td>\n",
       "      <td>0.0</td>\n",
       "      <td>0.0</td>\n",
       "      <td>0.0</td>\n",
       "      <td>9.0</td>\n",
       "      <td>10085</td>\n",
       "      <td>11382</td>\n",
       "      <td>9</td>\n",
       "      <td>9</td>\n",
       "      <td>1.624172e+09</td>\n",
       "      <td>1.642224e+09</td>\n",
       "      <td>1.419736e+09</td>\n",
       "      <td>75.824785</td>\n",
       "      <td>9.219003</td>\n",
       "      <td>699.028897</td>\n",
       "    </tr>\n",
       "    <tr>\n",
       "      <th>130847</th>\n",
       "      <td>zyxcomments</td>\n",
       "      <td>0.0</td>\n",
       "      <td>0.0</td>\n",
       "      <td>0.0</td>\n",
       "      <td>1.0</td>\n",
       "      <td>8</td>\n",
       "      <td>8</td>\n",
       "      <td>1</td>\n",
       "      <td>1</td>\n",
       "      <td>1.627579e+09</td>\n",
       "      <td>1.644794e+09</td>\n",
       "      <td>1.562897e+09</td>\n",
       "      <td>21.385681</td>\n",
       "      <td>2.302585</td>\n",
       "      <td>49.242349</td>\n",
       "    </tr>\n",
       "    <tr>\n",
       "      <th>130848</th>\n",
       "      <td>zyzz</td>\n",
       "      <td>1.0</td>\n",
       "      <td>0.0</td>\n",
       "      <td>1.0</td>\n",
       "      <td>1.0</td>\n",
       "      <td>7245</td>\n",
       "      <td>11991</td>\n",
       "      <td>2</td>\n",
       "      <td>2</td>\n",
       "      <td>1.624310e+09</td>\n",
       "      <td>1.642229e+09</td>\n",
       "      <td>1.311994e+09</td>\n",
       "      <td>116.795459</td>\n",
       "      <td>8.888343</td>\n",
       "      <td>1038.118088</td>\n",
       "    </tr>\n",
       "    <tr>\n",
       "      <th>130849</th>\n",
       "      <td>zztails</td>\n",
       "      <td>0.0</td>\n",
       "      <td>0.0</td>\n",
       "      <td>0.0</td>\n",
       "      <td>2.0</td>\n",
       "      <td>137</td>\n",
       "      <td>142</td>\n",
       "      <td>2</td>\n",
       "      <td>2</td>\n",
       "      <td>1.625469e+09</td>\n",
       "      <td>1.643165e+09</td>\n",
       "      <td>1.546838e+09</td>\n",
       "      <td>27.492575</td>\n",
       "      <td>4.934474</td>\n",
       "      <td>135.661394</td>\n",
       "    </tr>\n",
       "    <tr>\n",
       "      <th>130850</th>\n",
       "      <td>zzzbleeeeppzzz</td>\n",
       "      <td>0.0</td>\n",
       "      <td>0.0</td>\n",
       "      <td>0.0</td>\n",
       "      <td>1.0</td>\n",
       "      <td>3</td>\n",
       "      <td>3</td>\n",
       "      <td>1</td>\n",
       "      <td>1</td>\n",
       "      <td>1.628945e+09</td>\n",
       "      <td>1.645972e+09</td>\n",
       "      <td>1.560556e+09</td>\n",
       "      <td>22.276055</td>\n",
       "      <td>1.609438</td>\n",
       "      <td>35.851928</td>\n",
       "    </tr>\n",
       "  </tbody>\n",
       "</table>\n",
       "<p>130851 rows × 15 columns</p>\n",
       "</div>"
      ],
      "text/plain": [
       "           communityID  added  changed  deleted  unchanged  subscribers_1  \\\n",
       "0             007_link    0.0      0.0      0.0        1.0              7   \n",
       "1         007nightfire    0.0      0.0      0.0        5.0             68   \n",
       "2              00games    0.0      0.0      0.0        4.0              2   \n",
       "3        00saesthetics    0.0      0.0      0.0        6.0           2836   \n",
       "4            00sbabies    0.0      0.0      0.0        6.0            300   \n",
       "...                ...    ...      ...      ...        ...            ...   \n",
       "130846       zyramains    0.0      0.0      0.0        9.0          10085   \n",
       "130847     zyxcomments    0.0      0.0      0.0        1.0              8   \n",
       "130848            zyzz    1.0      0.0      1.0        1.0           7245   \n",
       "130849         zztails    0.0      0.0      0.0        2.0            137   \n",
       "130850  zzzbleeeeppzzz    0.0      0.0      0.0        1.0              3   \n",
       "\n",
       "        subscribers_2  rules_1  rules_2   timestamp_1   timestamp_2  \\\n",
       "0                   7        1        1  1.627687e+09  1.644941e+09   \n",
       "1                  91        5        5  1.625925e+09  1.643361e+09   \n",
       "2                   3        4        4  1.630524e+09  1.646246e+09   \n",
       "3                2995        6        6  1.624697e+09  1.642362e+09   \n",
       "4                 298        6        6  1.625180e+09  1.642880e+09   \n",
       "...               ...      ...      ...           ...           ...   \n",
       "130846          11382        9        9  1.624172e+09  1.642224e+09   \n",
       "130847              8        1        1  1.627579e+09  1.644794e+09   \n",
       "130848          11991        2        2  1.624310e+09  1.642229e+09   \n",
       "130849            142        2        2  1.625469e+09  1.643165e+09   \n",
       "130850              3        1        1  1.628945e+09  1.645972e+09   \n",
       "\n",
       "        founding_date  age_in_months  log_subscribers  age_and_subs  \n",
       "0        1.579930e+09      14.908671         2.197225     32.757698  \n",
       "1        1.609863e+09       3.526107         4.248495     14.980651  \n",
       "2        1.580752e+09      14.596170         1.386294     20.234588  \n",
       "3        1.562924e+09      21.375357         7.950855    169.952359  \n",
       "4        1.595696e+09       8.913409         5.710427     50.899370  \n",
       "...               ...            ...              ...           ...  \n",
       "130846   1.419736e+09      75.824785         9.219003    699.028897  \n",
       "130847   1.562897e+09      21.385681         2.302585     49.242349  \n",
       "130848   1.311994e+09     116.795459         8.888343   1038.118088  \n",
       "130849   1.546838e+09      27.492575         4.934474    135.661394  \n",
       "130850   1.560556e+09      22.276055         1.609438     35.851928  \n",
       "\n",
       "[130851 rows x 15 columns]"
      ]
     },
     "execution_count": 2,
     "metadata": {},
     "output_type": "execute_result"
    }
   ],
   "source": [
    "regression_data = pd.read_csv(\"../output_data/seth/sub_level_data.csv\")\n",
    "regression_data['log_subscribers'] = np.log(regression_data.subscribers_1 + 2)\n",
    "regression_data['age_and_subs'] = regression_data.log_subscribers * regression_data.age_in_months\n",
    "regression_data"
   ]
  },
  {
   "cell_type": "code",
   "execution_count": 3,
   "metadata": {},
   "outputs": [
    {
     "data": {
      "text/plain": [
       "communityID        False\n",
       "added              False\n",
       "changed            False\n",
       "deleted            False\n",
       "unchanged          False\n",
       "subscribers_1      False\n",
       "subscribers_2      False\n",
       "rules_1            False\n",
       "rules_2            False\n",
       "timestamp_1        False\n",
       "timestamp_2        False\n",
       "founding_date      False\n",
       "age_in_months      False\n",
       "log_subscribers    False\n",
       "age_and_subs       False\n",
       "dtype: bool"
      ]
     },
     "execution_count": 3,
     "metadata": {},
     "output_type": "execute_result"
    }
   ],
   "source": [
    "regression_data.replace([np.inf, -np.inf], np.nan, inplace=True)"
   ]
  },
  {
   "cell_type": "markdown",
   "metadata": {},
   "source": [
    "# Regression Comparisons"
   ]
  },
  {
   "cell_type": "code",
   "execution_count": 4,
   "metadata": {},
   "outputs": [
    {
     "name": "stdout",
     "output_type": "stream",
     "text": [
      "   df_resid           ssr  df_diff      ss_diff            F  Pr(>F)\n",
      "0  130846.0  73521.001122      0.0          NaN          NaN     NaN\n",
      "1  130849.0  76853.348823     -3.0 -3332.347701  1891.196549     NaN\n"
     ]
    }
   ],
   "source": [
    "m01 = ols('added ~ subscribers_2 + log_subscribers + age_in_months + age_and_subs', data=regression_data).fit()\n",
    "m02 = ols('added ~ subscribers_2', data=regression_data).fit()\n",
    "m03 = ols('added ~ log_subscribers', data=regression_data).fit()\n",
    "m04 = ols('added ~ age_in_months', data=regression_data).fit()\n",
    "m05 = ols('added ~ age_and_subs', data=regression_data).fit()\n",
    "m06 = ols('added ~ log_subscribers + age_in_months', data=regression_data).fit()\n",
    "\n",
    "anovaResults = anova_lm(m01, m02)\n",
    "print(anovaResults)"
   ]
  },
  {
   "cell_type": "code",
   "execution_count": 5,
   "metadata": {},
   "outputs": [
    {
     "name": "stdout",
     "output_type": "stream",
     "text": [
      "                            OLS Regression Results                            \n",
      "==============================================================================\n",
      "Dep. Variable:                  added   R-squared:                       0.045\n",
      "Model:                            OLS   Adj. R-squared:                  0.045\n",
      "Method:                 Least Squares   F-statistic:                     1535.\n",
      "Date:                Thu, 11 May 2023   Prob (F-statistic):               0.00\n",
      "Time:                        12:30:41   Log-Likelihood:            -1.4795e+05\n",
      "No. Observations:              130851   AIC:                         2.959e+05\n",
      "Df Residuals:                  130846   BIC:                         2.960e+05\n",
      "Df Model:                           4                                         \n",
      "Covariance Type:            nonrobust                                         \n",
      "===================================================================================\n",
      "                      coef    std err          t      P>|t|      [0.025      0.975]\n",
      "-----------------------------------------------------------------------------------\n",
      "Intercept          -0.0575      0.006     -9.523      0.000      -0.069      -0.046\n",
      "subscribers_2   -2.144e-08   4.96e-09     -4.327      0.000   -3.12e-08   -1.17e-08\n",
      "log_subscribers     0.0371      0.001     32.568      0.000       0.035       0.039\n",
      "age_in_months      -0.0025      0.000    -16.040      0.000      -0.003      -0.002\n",
      "age_and_subs        0.0004   1.98e-05     18.915      0.000       0.000       0.000\n",
      "==============================================================================\n",
      "Omnibus:                   187387.991   Durbin-Watson:                   1.952\n",
      "Prob(Omnibus):                  0.000   Jarque-Bera (JB):         54542516.653\n",
      "Skew:                           8.731   Prob(JB):                         0.00\n",
      "Kurtosis:                     101.483   Cond. No.                     1.31e+06\n",
      "==============================================================================\n",
      "\n",
      "Warnings:\n",
      "[1] Standard Errors assume that the covariance matrix of the errors is correctly specified.\n",
      "[2] The condition number is large, 1.31e+06. This might indicate that there are\n",
      "strong multicollinearity or other numerical problems.\n"
     ]
    }
   ],
   "source": [
    "print(m01.summary())"
   ]
  },
  {
   "cell_type": "code",
   "execution_count": 6,
   "metadata": {},
   "outputs": [
    {
     "name": "stdout",
     "output_type": "stream",
     "text": [
      "                            OLS Regression Results                            \n",
      "==============================================================================\n",
      "Dep. Variable:                  added   R-squared:                       0.002\n",
      "Model:                            OLS   Adj. R-squared:                  0.002\n",
      "Method:                 Least Squares   F-statistic:                     199.2\n",
      "Date:                Thu, 11 May 2023   Prob (F-statistic):           3.31e-45\n",
      "Time:                        12:30:45   Log-Likelihood:            -1.5085e+05\n",
      "No. Observations:              130851   AIC:                         3.017e+05\n",
      "Df Residuals:                  130849   BIC:                         3.017e+05\n",
      "Df Model:                           1                                         \n",
      "Covariance Type:            nonrobust                                         \n",
      "=================================================================================\n",
      "                    coef    std err          t      P>|t|      [0.025      0.975]\n",
      "---------------------------------------------------------------------------------\n",
      "Intercept         0.1259      0.002     59.315      0.000       0.122       0.130\n",
      "subscribers_2  6.772e-08    4.8e-09     14.115      0.000    5.83e-08    7.71e-08\n",
      "==============================================================================\n",
      "Omnibus:                   190079.623   Durbin-Watson:                   1.947\n",
      "Prob(Omnibus):                  0.000   Jarque-Bera (JB):         56839486.822\n",
      "Skew:                           8.977   Prob(JB):                         0.00\n",
      "Kurtosis:                     103.513   Cond. No.                     4.43e+05\n",
      "==============================================================================\n",
      "\n",
      "Warnings:\n",
      "[1] Standard Errors assume that the covariance matrix of the errors is correctly specified.\n",
      "[2] The condition number is large, 4.43e+05. This might indicate that there are\n",
      "strong multicollinearity or other numerical problems.\n"
     ]
    }
   ],
   "source": [
    "print(m02.summary())"
   ]
  },
  {
   "cell_type": "code",
   "execution_count": 15,
   "metadata": {},
   "outputs": [
    {
     "name": "stdout",
     "output_type": "stream",
     "text": [
      "   df_resid           ssr  df_diff     ss_diff           F  Pr(>F)\n",
      "0  130846.0  73521.001122      0.0         NaN         NaN     NaN\n",
      "1  130849.0  73725.426845     -3.0 -204.425722  120.939286     NaN\n"
     ]
    }
   ],
   "source": [
    "anovaResults = anova_lm(m01, m03)\n",
    "print(anovaResults)"
   ]
  },
  {
   "cell_type": "code",
   "execution_count": 7,
   "metadata": {},
   "outputs": [
    {
     "name": "stdout",
     "output_type": "stream",
     "text": [
      "                            OLS Regression Results                            \n",
      "==============================================================================\n",
      "Dep. Variable:                  added   R-squared:                       0.042\n",
      "Model:                            OLS   Adj. R-squared:                  0.042\n",
      "Method:                 Least Squares   F-statistic:                     5759.\n",
      "Date:                Thu, 11 May 2023   Prob (F-statistic):               0.00\n",
      "Time:                        12:30:56   Log-Likelihood:            -1.4813e+05\n",
      "No. Observations:              130851   AIC:                         2.963e+05\n",
      "Df Residuals:                  130849   BIC:                         2.963e+05\n",
      "Df Model:                           1                                         \n",
      "Covariance Type:            nonrobust                                         \n",
      "===================================================================================\n",
      "                      coef    std err          t      P>|t|      [0.025      0.975]\n",
      "-----------------------------------------------------------------------------------\n",
      "Intercept          -0.1405      0.004    -34.283      0.000      -0.149      -0.132\n",
      "log_subscribers     0.0529      0.001     75.889      0.000       0.052       0.054\n",
      "==============================================================================\n",
      "Omnibus:                   187736.183   Durbin-Watson:                   1.953\n",
      "Prob(Omnibus):                  0.000   Jarque-Bera (JB):         55105594.103\n",
      "Skew:                           8.760   Prob(JB):                         0.00\n",
      "Kurtosis:                     101.996   Cond. No.                         11.9\n",
      "==============================================================================\n",
      "\n",
      "Warnings:\n",
      "[1] Standard Errors assume that the covariance matrix of the errors is correctly specified.\n"
     ]
    }
   ],
   "source": [
    "print(m03.summary())"
   ]
  },
  {
   "cell_type": "code",
   "execution_count": 16,
   "metadata": {},
   "outputs": [
    {
     "name": "stdout",
     "output_type": "stream",
     "text": [
      "   df_resid           ssr  df_diff      ss_diff            F  Pr(>F)\n",
      "0  130846.0  73521.001122      0.0          NaN          NaN     NaN\n",
      "1  130849.0  75966.366684     -3.0 -2445.365562  1404.014488     NaN\n"
     ]
    }
   ],
   "source": [
    "anovaResults = anova_lm(m01, m04)\n",
    "print(anovaResults)"
   ]
  },
  {
   "cell_type": "code",
   "execution_count": 8,
   "metadata": {},
   "outputs": [
    {
     "name": "stdout",
     "output_type": "stream",
     "text": [
      "                            OLS Regression Results                            \n",
      "==============================================================================\n",
      "Dep. Variable:                  added   R-squared:                       0.013\n",
      "Model:                            OLS   Adj. R-squared:                  0.013\n",
      "Method:                 Least Squares   F-statistic:                     1729.\n",
      "Date:                Thu, 11 May 2023   Prob (F-statistic):               0.00\n",
      "Time:                        12:31:07   Log-Likelihood:            -1.5009e+05\n",
      "No. Observations:              130851   AIC:                         3.002e+05\n",
      "Df Residuals:                  130849   BIC:                         3.002e+05\n",
      "Df Model:                           1                                         \n",
      "Covariance Type:            nonrobust                                         \n",
      "=================================================================================\n",
      "                    coef    std err          t      P>|t|      [0.025      0.975]\n",
      "---------------------------------------------------------------------------------\n",
      "Intercept         0.0396      0.003     13.252      0.000       0.034       0.045\n",
      "age_in_months     0.0025   5.93e-05     41.585      0.000       0.002       0.003\n",
      "==============================================================================\n",
      "Omnibus:                   189317.329   Durbin-Watson:                   1.942\n",
      "Prob(Omnibus):                  0.000   Jarque-Bera (JB):         55968202.399\n",
      "Skew:                           8.909   Prob(JB):                         0.00\n",
      "Kurtosis:                     102.739   Cond. No.                         71.4\n",
      "==============================================================================\n",
      "\n",
      "Warnings:\n",
      "[1] Standard Errors assume that the covariance matrix of the errors is correctly specified.\n"
     ]
    }
   ],
   "source": [
    "print(m04.summary())"
   ]
  },
  {
   "cell_type": "code",
   "execution_count": 17,
   "metadata": {},
   "outputs": [
    {
     "name": "stdout",
     "output_type": "stream",
     "text": [
      "   df_resid           ssr  df_diff      ss_diff           F  Pr(>F)\n",
      "0  130846.0  73521.001122      0.0          NaN         NaN     NaN\n",
      "1  130849.0  74787.299119     -3.0 -1266.297997  738.511434     NaN\n"
     ]
    }
   ],
   "source": [
    "anovaResults = anova_lm(m01, m05)\n",
    "print(anovaResults)"
   ]
  },
  {
   "cell_type": "code",
   "execution_count": 9,
   "metadata": {},
   "outputs": [
    {
     "name": "stdout",
     "output_type": "stream",
     "text": [
      "                            OLS Regression Results                            \n",
      "==============================================================================\n",
      "Dep. Variable:                  added   R-squared:                       0.028\n",
      "Model:                            OLS   Adj. R-squared:                  0.028\n",
      "Method:                 Least Squares   F-statistic:                     3820.\n",
      "Date:                Thu, 11 May 2023   Prob (F-statistic):               0.00\n",
      "Time:                        12:31:16   Log-Likelihood:            -1.4907e+05\n",
      "No. Observations:              130851   AIC:                         2.981e+05\n",
      "Df Residuals:                  130849   BIC:                         2.982e+05\n",
      "Df Model:                           1                                         \n",
      "Covariance Type:            nonrobust                                         \n",
      "================================================================================\n",
      "                   coef    std err          t      P>|t|      [0.025      0.975]\n",
      "--------------------------------------------------------------------------------\n",
      "Intercept        0.0416      0.003     16.551      0.000       0.037       0.046\n",
      "age_and_subs     0.0004   5.88e-06     61.802      0.000       0.000       0.000\n",
      "==============================================================================\n",
      "Omnibus:                   188300.220   Durbin-Watson:                   1.943\n",
      "Prob(Omnibus):                  0.000   Jarque-Bera (JB):         54959384.148\n",
      "Skew:                           8.817   Prob(JB):                         0.00\n",
      "Kurtosis:                     101.840   Cond. No.                         513.\n",
      "==============================================================================\n",
      "\n",
      "Warnings:\n",
      "[1] Standard Errors assume that the covariance matrix of the errors is correctly specified.\n"
     ]
    }
   ],
   "source": [
    "print(m05.summary())"
   ]
  },
  {
   "cell_type": "code",
   "execution_count": 19,
   "metadata": {},
   "outputs": [
    {
     "name": "stdout",
     "output_type": "stream",
     "text": [
      "   df_resid           ssr  df_diff     ss_diff           F  Pr(>F)\n",
      "0  130846.0  73521.001122      0.0         NaN         NaN     NaN\n",
      "1  130848.0  73722.391941     -2.0 -201.390819  178.721723     NaN\n"
     ]
    }
   ],
   "source": [
    "anovaResults = anova_lm(m01, m06)\n",
    "print(anovaResults)"
   ]
  },
  {
   "cell_type": "code",
   "execution_count": 10,
   "metadata": {},
   "outputs": [
    {
     "name": "stdout",
     "output_type": "stream",
     "text": [
      "                            OLS Regression Results                            \n",
      "==============================================================================\n",
      "Dep. Variable:                  added   R-squared:                       0.042\n",
      "Model:                            OLS   Adj. R-squared:                  0.042\n",
      "Method:                 Least Squares   F-statistic:                     2882.\n",
      "Date:                Thu, 11 May 2023   Prob (F-statistic):               0.00\n",
      "Time:                        12:31:22   Log-Likelihood:            -1.4813e+05\n",
      "No. Observations:              130851   AIC:                         2.963e+05\n",
      "Df Residuals:                  130848   BIC:                         2.963e+05\n",
      "Df Model:                           2                                         \n",
      "Covariance Type:            nonrobust                                         \n",
      "===================================================================================\n",
      "                      coef    std err          t      P>|t|      [0.025      0.975]\n",
      "-----------------------------------------------------------------------------------\n",
      "Intercept          -0.1411      0.004    -34.361      0.000      -0.149      -0.133\n",
      "log_subscribers     0.0519      0.001     63.109      0.000       0.050       0.054\n",
      "age_in_months       0.0002   6.89e-05      2.321      0.020    2.49e-05       0.000\n",
      "==============================================================================\n",
      "Omnibus:                   187726.029   Durbin-Watson:                   1.953\n",
      "Prob(Omnibus):                  0.000   Jarque-Bera (JB):         55078514.267\n",
      "Skew:                           8.759   Prob(JB):                         0.00\n",
      "Kurtosis:                     101.971   Cond. No.                         101.\n",
      "==============================================================================\n",
      "\n",
      "Warnings:\n",
      "[1] Standard Errors assume that the covariance matrix of the errors is correctly specified.\n"
     ]
    }
   ],
   "source": [
    "print(m06.summary())"
   ]
  },
  {
   "cell_type": "code",
   "execution_count": null,
   "metadata": {},
   "outputs": [],
   "source": []
  }
 ],
 "metadata": {
  "kernelspec": {
   "display_name": "Python 3",
   "language": "python",
   "name": "python3"
  },
  "language_info": {
   "codemirror_mode": {
    "name": "ipython",
    "version": 3
   },
   "file_extension": ".py",
   "mimetype": "text/x-python",
   "name": "python",
   "nbconvert_exporter": "python",
   "pygments_lexer": "ipython3",
   "version": "3.8.3"
  }
 },
 "nbformat": 4,
 "nbformat_minor": 4
}
