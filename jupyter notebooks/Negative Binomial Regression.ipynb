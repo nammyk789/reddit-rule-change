{
 "cells": [
  {
   "cell_type": "code",
   "execution_count": 1,
   "metadata": {},
   "outputs": [
    {
     "name": "stderr",
     "output_type": "stream",
     "text": [
      "C:\\Users\\nammy\\anaconda3\\lib\\site-packages\\statsmodels\\tsa\\base\\tsa_model.py:7: FutureWarning: pandas.Int64Index is deprecated and will be removed from pandas in a future version. Use pandas.Index with the appropriate dtype instead.\n",
      "  from pandas import (to_datetime, Int64Index, DatetimeIndex, Period,\n",
      "C:\\Users\\nammy\\anaconda3\\lib\\site-packages\\statsmodels\\tsa\\base\\tsa_model.py:7: FutureWarning: pandas.Float64Index is deprecated and will be removed from pandas in a future version. Use pandas.Index with the appropriate dtype instead.\n",
      "  from pandas import (to_datetime, Int64Index, DatetimeIndex, Period,\n"
     ]
    }
   ],
   "source": [
    "import pandas as pd\n",
    "import numpy as np\n",
    "from patsy import dmatrices\n",
    "import statsmodels.api as sm\n",
    "import statsmodels.formula.api as smf\n",
    "import matplotlib.pyplot as plt\n",
    "from scipy.stats import chi2\n",
    "\n",
    "from datetime import datetime, timedelta\n",
    "import matplotlib.pyplot as plt\n",
    "import plotly.express as px\n",
    "import seaborn as sns"
   ]
  },
  {
   "cell_type": "markdown",
   "metadata": {},
   "source": [
    "https://timeseriesreasoning.com/contents/negative-binomial-regression-model/"
   ]
  },
  {
   "cell_type": "code",
   "execution_count": 14,
   "metadata": {},
   "outputs": [
    {
     "data": {
      "text/html": [
       "<div>\n",
       "<style scoped>\n",
       "    .dataframe tbody tr th:only-of-type {\n",
       "        vertical-align: middle;\n",
       "    }\n",
       "\n",
       "    .dataframe tbody tr th {\n",
       "        vertical-align: top;\n",
       "    }\n",
       "\n",
       "    .dataframe thead th {\n",
       "        text-align: right;\n",
       "    }\n",
       "</style>\n",
       "<table border=\"1\" class=\"dataframe\">\n",
       "  <thead>\n",
       "    <tr style=\"text-align: right;\">\n",
       "      <th></th>\n",
       "      <th>communityID</th>\n",
       "      <th>added</th>\n",
       "      <th>changed</th>\n",
       "      <th>deleted</th>\n",
       "      <th>unchanged</th>\n",
       "      <th>subscribers_1</th>\n",
       "      <th>subscribers_2</th>\n",
       "      <th>rules_1</th>\n",
       "      <th>rules_2</th>\n",
       "      <th>timestamp_1</th>\n",
       "      <th>timestamp_2</th>\n",
       "      <th>founding_date</th>\n",
       "      <th>age_in_months</th>\n",
       "      <th>age_in_years</th>\n",
       "      <th>log_subscribers</th>\n",
       "      <th>age_and_subs</th>\n",
       "      <th>rules_and_subs</th>\n",
       "      <th>rules_and_age</th>\n",
       "    </tr>\n",
       "  </thead>\n",
       "  <tbody>\n",
       "    <tr>\n",
       "      <th>0</th>\n",
       "      <td>007_link</td>\n",
       "      <td>0.0</td>\n",
       "      <td>0.0</td>\n",
       "      <td>0.0</td>\n",
       "      <td>1.0</td>\n",
       "      <td>7</td>\n",
       "      <td>7</td>\n",
       "      <td>1</td>\n",
       "      <td>1</td>\n",
       "      <td>1.627687e+09</td>\n",
       "      <td>1.644941e+09</td>\n",
       "      <td>1.579930e+09</td>\n",
       "      <td>14.908671</td>\n",
       "      <td>1.242389</td>\n",
       "      <td>2.197225</td>\n",
       "      <td>2.729808</td>\n",
       "      <td>2.197225</td>\n",
       "      <td>1.242389</td>\n",
       "    </tr>\n",
       "    <tr>\n",
       "      <th>1</th>\n",
       "      <td>007nightfire</td>\n",
       "      <td>0.0</td>\n",
       "      <td>0.0</td>\n",
       "      <td>0.0</td>\n",
       "      <td>5.0</td>\n",
       "      <td>68</td>\n",
       "      <td>91</td>\n",
       "      <td>5</td>\n",
       "      <td>5</td>\n",
       "      <td>1.625925e+09</td>\n",
       "      <td>1.643361e+09</td>\n",
       "      <td>1.609863e+09</td>\n",
       "      <td>3.526107</td>\n",
       "      <td>0.293842</td>\n",
       "      <td>4.248495</td>\n",
       "      <td>1.248388</td>\n",
       "      <td>21.242476</td>\n",
       "      <td>1.469211</td>\n",
       "    </tr>\n",
       "    <tr>\n",
       "      <th>2</th>\n",
       "      <td>00games</td>\n",
       "      <td>0.0</td>\n",
       "      <td>0.0</td>\n",
       "      <td>0.0</td>\n",
       "      <td>4.0</td>\n",
       "      <td>2</td>\n",
       "      <td>3</td>\n",
       "      <td>4</td>\n",
       "      <td>4</td>\n",
       "      <td>1.630524e+09</td>\n",
       "      <td>1.646246e+09</td>\n",
       "      <td>1.580752e+09</td>\n",
       "      <td>14.596170</td>\n",
       "      <td>1.216347</td>\n",
       "      <td>1.386294</td>\n",
       "      <td>1.686216</td>\n",
       "      <td>5.545177</td>\n",
       "      <td>4.865390</td>\n",
       "    </tr>\n",
       "    <tr>\n",
       "      <th>3</th>\n",
       "      <td>00saesthetics</td>\n",
       "      <td>0.0</td>\n",
       "      <td>0.0</td>\n",
       "      <td>0.0</td>\n",
       "      <td>6.0</td>\n",
       "      <td>2836</td>\n",
       "      <td>2995</td>\n",
       "      <td>6</td>\n",
       "      <td>6</td>\n",
       "      <td>1.624697e+09</td>\n",
       "      <td>1.642362e+09</td>\n",
       "      <td>1.562924e+09</td>\n",
       "      <td>21.375357</td>\n",
       "      <td>1.781280</td>\n",
       "      <td>7.950855</td>\n",
       "      <td>14.162697</td>\n",
       "      <td>47.705129</td>\n",
       "      <td>10.687678</td>\n",
       "    </tr>\n",
       "    <tr>\n",
       "      <th>4</th>\n",
       "      <td>00sbabies</td>\n",
       "      <td>0.0</td>\n",
       "      <td>0.0</td>\n",
       "      <td>0.0</td>\n",
       "      <td>6.0</td>\n",
       "      <td>300</td>\n",
       "      <td>298</td>\n",
       "      <td>6</td>\n",
       "      <td>6</td>\n",
       "      <td>1.625180e+09</td>\n",
       "      <td>1.642880e+09</td>\n",
       "      <td>1.595696e+09</td>\n",
       "      <td>8.913409</td>\n",
       "      <td>0.742784</td>\n",
       "      <td>5.710427</td>\n",
       "      <td>4.241614</td>\n",
       "      <td>34.262562</td>\n",
       "      <td>4.456704</td>\n",
       "    </tr>\n",
       "    <tr>\n",
       "      <th>...</th>\n",
       "      <td>...</td>\n",
       "      <td>...</td>\n",
       "      <td>...</td>\n",
       "      <td>...</td>\n",
       "      <td>...</td>\n",
       "      <td>...</td>\n",
       "      <td>...</td>\n",
       "      <td>...</td>\n",
       "      <td>...</td>\n",
       "      <td>...</td>\n",
       "      <td>...</td>\n",
       "      <td>...</td>\n",
       "      <td>...</td>\n",
       "      <td>...</td>\n",
       "      <td>...</td>\n",
       "      <td>...</td>\n",
       "      <td>...</td>\n",
       "      <td>...</td>\n",
       "    </tr>\n",
       "    <tr>\n",
       "      <th>130846</th>\n",
       "      <td>zyramains</td>\n",
       "      <td>0.0</td>\n",
       "      <td>0.0</td>\n",
       "      <td>0.0</td>\n",
       "      <td>9.0</td>\n",
       "      <td>10085</td>\n",
       "      <td>11382</td>\n",
       "      <td>9</td>\n",
       "      <td>9</td>\n",
       "      <td>1.624172e+09</td>\n",
       "      <td>1.642224e+09</td>\n",
       "      <td>1.419736e+09</td>\n",
       "      <td>75.824785</td>\n",
       "      <td>6.318732</td>\n",
       "      <td>9.219003</td>\n",
       "      <td>58.252408</td>\n",
       "      <td>82.971025</td>\n",
       "      <td>56.868588</td>\n",
       "    </tr>\n",
       "    <tr>\n",
       "      <th>130847</th>\n",
       "      <td>zyxcomments</td>\n",
       "      <td>0.0</td>\n",
       "      <td>0.0</td>\n",
       "      <td>0.0</td>\n",
       "      <td>1.0</td>\n",
       "      <td>8</td>\n",
       "      <td>8</td>\n",
       "      <td>1</td>\n",
       "      <td>1</td>\n",
       "      <td>1.627579e+09</td>\n",
       "      <td>1.644794e+09</td>\n",
       "      <td>1.562897e+09</td>\n",
       "      <td>21.385681</td>\n",
       "      <td>1.782140</td>\n",
       "      <td>2.302585</td>\n",
       "      <td>4.103529</td>\n",
       "      <td>2.302585</td>\n",
       "      <td>1.782140</td>\n",
       "    </tr>\n",
       "    <tr>\n",
       "      <th>130848</th>\n",
       "      <td>zyzz</td>\n",
       "      <td>1.0</td>\n",
       "      <td>0.0</td>\n",
       "      <td>1.0</td>\n",
       "      <td>1.0</td>\n",
       "      <td>7245</td>\n",
       "      <td>11991</td>\n",
       "      <td>2</td>\n",
       "      <td>2</td>\n",
       "      <td>1.624310e+09</td>\n",
       "      <td>1.642229e+09</td>\n",
       "      <td>1.311994e+09</td>\n",
       "      <td>116.795459</td>\n",
       "      <td>9.732955</td>\n",
       "      <td>8.888343</td>\n",
       "      <td>86.509841</td>\n",
       "      <td>17.776686</td>\n",
       "      <td>19.465910</td>\n",
       "    </tr>\n",
       "    <tr>\n",
       "      <th>130849</th>\n",
       "      <td>zztails</td>\n",
       "      <td>0.0</td>\n",
       "      <td>0.0</td>\n",
       "      <td>0.0</td>\n",
       "      <td>2.0</td>\n",
       "      <td>137</td>\n",
       "      <td>142</td>\n",
       "      <td>2</td>\n",
       "      <td>2</td>\n",
       "      <td>1.625469e+09</td>\n",
       "      <td>1.643165e+09</td>\n",
       "      <td>1.546838e+09</td>\n",
       "      <td>27.492575</td>\n",
       "      <td>2.291048</td>\n",
       "      <td>4.934474</td>\n",
       "      <td>11.305116</td>\n",
       "      <td>9.868948</td>\n",
       "      <td>4.582096</td>\n",
       "    </tr>\n",
       "    <tr>\n",
       "      <th>130850</th>\n",
       "      <td>zzzbleeeeppzzz</td>\n",
       "      <td>0.0</td>\n",
       "      <td>0.0</td>\n",
       "      <td>0.0</td>\n",
       "      <td>1.0</td>\n",
       "      <td>3</td>\n",
       "      <td>3</td>\n",
       "      <td>1</td>\n",
       "      <td>1</td>\n",
       "      <td>1.628945e+09</td>\n",
       "      <td>1.645972e+09</td>\n",
       "      <td>1.560556e+09</td>\n",
       "      <td>22.276055</td>\n",
       "      <td>1.856338</td>\n",
       "      <td>1.609438</td>\n",
       "      <td>2.987661</td>\n",
       "      <td>1.609438</td>\n",
       "      <td>1.856338</td>\n",
       "    </tr>\n",
       "  </tbody>\n",
       "</table>\n",
       "<p>130851 rows × 18 columns</p>\n",
       "</div>"
      ],
      "text/plain": [
       "           communityID  added  changed  deleted  unchanged  subscribers_1  \\\n",
       "0             007_link    0.0      0.0      0.0        1.0              7   \n",
       "1         007nightfire    0.0      0.0      0.0        5.0             68   \n",
       "2              00games    0.0      0.0      0.0        4.0              2   \n",
       "3        00saesthetics    0.0      0.0      0.0        6.0           2836   \n",
       "4            00sbabies    0.0      0.0      0.0        6.0            300   \n",
       "...                ...    ...      ...      ...        ...            ...   \n",
       "130846       zyramains    0.0      0.0      0.0        9.0          10085   \n",
       "130847     zyxcomments    0.0      0.0      0.0        1.0              8   \n",
       "130848            zyzz    1.0      0.0      1.0        1.0           7245   \n",
       "130849         zztails    0.0      0.0      0.0        2.0            137   \n",
       "130850  zzzbleeeeppzzz    0.0      0.0      0.0        1.0              3   \n",
       "\n",
       "        subscribers_2  rules_1  rules_2   timestamp_1   timestamp_2  \\\n",
       "0                   7        1        1  1.627687e+09  1.644941e+09   \n",
       "1                  91        5        5  1.625925e+09  1.643361e+09   \n",
       "2                   3        4        4  1.630524e+09  1.646246e+09   \n",
       "3                2995        6        6  1.624697e+09  1.642362e+09   \n",
       "4                 298        6        6  1.625180e+09  1.642880e+09   \n",
       "...               ...      ...      ...           ...           ...   \n",
       "130846          11382        9        9  1.624172e+09  1.642224e+09   \n",
       "130847              8        1        1  1.627579e+09  1.644794e+09   \n",
       "130848          11991        2        2  1.624310e+09  1.642229e+09   \n",
       "130849            142        2        2  1.625469e+09  1.643165e+09   \n",
       "130850              3        1        1  1.628945e+09  1.645972e+09   \n",
       "\n",
       "        founding_date  age_in_months  age_in_years  log_subscribers  \\\n",
       "0        1.579930e+09      14.908671      1.242389         2.197225   \n",
       "1        1.609863e+09       3.526107      0.293842         4.248495   \n",
       "2        1.580752e+09      14.596170      1.216347         1.386294   \n",
       "3        1.562924e+09      21.375357      1.781280         7.950855   \n",
       "4        1.595696e+09       8.913409      0.742784         5.710427   \n",
       "...               ...            ...           ...              ...   \n",
       "130846   1.419736e+09      75.824785      6.318732         9.219003   \n",
       "130847   1.562897e+09      21.385681      1.782140         2.302585   \n",
       "130848   1.311994e+09     116.795459      9.732955         8.888343   \n",
       "130849   1.546838e+09      27.492575      2.291048         4.934474   \n",
       "130850   1.560556e+09      22.276055      1.856338         1.609438   \n",
       "\n",
       "        age_and_subs  rules_and_subs  rules_and_age  \n",
       "0           2.729808        2.197225       1.242389  \n",
       "1           1.248388       21.242476       1.469211  \n",
       "2           1.686216        5.545177       4.865390  \n",
       "3          14.162697       47.705129      10.687678  \n",
       "4           4.241614       34.262562       4.456704  \n",
       "...              ...             ...            ...  \n",
       "130846     58.252408       82.971025      56.868588  \n",
       "130847      4.103529        2.302585       1.782140  \n",
       "130848     86.509841       17.776686      19.465910  \n",
       "130849     11.305116        9.868948       4.582096  \n",
       "130850      2.987661        1.609438       1.856338  \n",
       "\n",
       "[130851 rows x 18 columns]"
      ]
     },
     "execution_count": 14,
     "metadata": {},
     "output_type": "execute_result"
    }
   ],
   "source": [
    "regression_data = pd.read_csv(\"../output_data/seth/sub_level_data.csv\")\n",
    "regression_data['age_in_years'] = regression_data.age_in_months/12\n",
    "regression_data['log_subscribers'] = np.log(regression_data.subscribers_1 + 2)\n",
    "regression_data"
   ]
  },
  {
   "cell_type": "code",
   "execution_count": 15,
   "metadata": {},
   "outputs": [],
   "source": [
    "regression_data.replace([np.inf, -np.inf], np.nan, inplace=True)"
   ]
  },
  {
   "cell_type": "markdown",
   "metadata": {},
   "source": [
    "# Poisson Regression"
   ]
  },
  {
   "cell_type": "code",
   "execution_count": 33,
   "metadata": {},
   "outputs": [],
   "source": [
    "mask = np.random.rand(len(regression_data)) < 0.7\n",
    "df_train = regression_data[mask]\n",
    "df_test = regression_data[~mask]\n",
    "\n",
    "change_type = 'added'\n",
    "expr = f\"\"\"{change_type} ~ rules_1  + age_in_years + log_subscribers + \n",
    "        age_in_years*log_subscribers + rules_1*log_subscribers + rules_1*age_in_years\"\"\"\n",
    "# expr = f\"\"\"{change_type} ~ rules_1 + log_subscribers + rules_and_subs + age_and_subs + subscribers_1 + rules_and_subs\"\"\" # best model compared to above so far\n",
    "\n",
    "\n",
    "y_train, X_train = dmatrices(expr, df_train, return_type='dataframe')\n",
    "y_test, X_test = dmatrices(expr, df_test, return_type='dataframe')"
   ]
  },
  {
   "cell_type": "code",
   "execution_count": 34,
   "metadata": {},
   "outputs": [
    {
     "name": "stdout",
     "output_type": "stream",
     "text": [
      "                 Generalized Linear Model Regression Results                  \n",
      "==============================================================================\n",
      "Dep. Variable:                  added   No. Observations:                91230\n",
      "Model:                            GLM   Df Residuals:                    91223\n",
      "Model Family:                 Poisson   Df Model:                            6\n",
      "Link Function:                    log   Scale:                          1.0000\n",
      "Method:                          IRLS   Log-Likelihood:                -36103.\n",
      "Date:                Thu, 18 May 2023   Deviance:                       60480.\n",
      "Time:                        21:04:13   Pearson chi2:                 3.42e+05\n",
      "No. Iterations:                     7                                         \n",
      "Covariance Type:                  HC3                                         \n",
      "================================================================================================\n",
      "                                   coef    std err          z      P>|z|      [0.025      0.975]\n",
      "------------------------------------------------------------------------------------------------\n",
      "Intercept                       -6.0467      0.115    -52.380      0.000      -6.273      -5.820\n",
      "rules_1                          0.3045      0.016     18.856      0.000       0.273       0.336\n",
      "age_in_years                     0.0831      0.020      4.137      0.000       0.044       0.122\n",
      "log_subscribers                  0.4774      0.016     30.187      0.000       0.446       0.508\n",
      "age_in_years:log_subscribers    -0.0126      0.002     -7.105      0.000      -0.016      -0.009\n",
      "rules_1:log_subscribers         -0.0226      0.002    -11.321      0.000      -0.027      -0.019\n",
      "rules_1:age_in_years             0.0056      0.002      2.703      0.007       0.002       0.010\n",
      "================================================================================================\n"
     ]
    }
   ],
   "source": [
    "poisson_training_results = sm.GLM(y_train, X_train, family=sm.families.Poisson()).fit(cov_type='HC3')\n",
    "print(poisson_training_results.summary())"
   ]
  },
  {
   "cell_type": "markdown",
   "metadata": {},
   "source": [
    "# Get alpha"
   ]
  },
  {
   "cell_type": "code",
   "execution_count": 35,
   "metadata": {},
   "outputs": [
    {
     "name": "stderr",
     "output_type": "stream",
     "text": [
      "<ipython-input-35-c1ca5e251f17>:1: SettingWithCopyWarning: \n",
      "A value is trying to be set on a copy of a slice from a DataFrame.\n",
      "Try using .loc[row_indexer,col_indexer] = value instead\n",
      "\n",
      "See the caveats in the documentation: https://pandas.pydata.org/pandas-docs/stable/user_guide/indexing.html#returning-a-view-versus-a-copy\n",
      "  df_train['type_lambda'] = poisson_training_results.mu\n"
     ]
    }
   ],
   "source": [
    "df_train['type_lambda'] = poisson_training_results.mu"
   ]
  },
  {
   "cell_type": "code",
   "execution_count": 36,
   "metadata": {},
   "outputs": [
    {
     "name": "stderr",
     "output_type": "stream",
     "text": [
      "<ipython-input-36-7d7aa2d0f563>:1: SettingWithCopyWarning: \n",
      "A value is trying to be set on a copy of a slice from a DataFrame.\n",
      "Try using .loc[row_indexer,col_indexer] = value instead\n",
      "\n",
      "See the caveats in the documentation: https://pandas.pydata.org/pandas-docs/stable/user_guide/indexing.html#returning-a-view-versus-a-copy\n",
      "  df_train['AUX_OLS_DEP'] = df_train.apply(lambda x: ((x[f'{change_type}'] - x['type_lambda'])**2 - x['type_lambda']) / x['type_lambda'], axis=1)\n"
     ]
    }
   ],
   "source": [
    "df_train['AUX_OLS_DEP'] = df_train.apply(lambda x: ((x[f'{change_type}'] - x['type_lambda'])**2 - x['type_lambda']) / x['type_lambda'], axis=1)"
   ]
  },
  {
   "cell_type": "code",
   "execution_count": 37,
   "metadata": {},
   "outputs": [],
   "source": [
    "ols_expr = \"\"\"AUX_OLS_DEP ~ type_lambda - 1\"\"\"\n",
    "aux_olsr_results = smf.ols(ols_expr, df_train).fit()"
   ]
  },
  {
   "cell_type": "code",
   "execution_count": 38,
   "metadata": {},
   "outputs": [
    {
     "name": "stdout",
     "output_type": "stream",
     "text": [
      "type_lambda    7.853994\n",
      "dtype: float64\n"
     ]
    }
   ],
   "source": [
    "print(aux_olsr_results.params)"
   ]
  },
  {
   "cell_type": "code",
   "execution_count": 39,
   "metadata": {},
   "outputs": [
    {
     "data": {
      "text/plain": [
       "type_lambda    7.660294\n",
       "dtype: float64"
      ]
     },
     "execution_count": 39,
     "metadata": {},
     "output_type": "execute_result"
    }
   ],
   "source": [
    "aux_olsr_results.tvalues # this is significant"
   ]
  },
  {
   "cell_type": "markdown",
   "metadata": {},
   "source": [
    "# Train Negative Binomial Regression Model"
   ]
  },
  {
   "cell_type": "markdown",
   "metadata": {},
   "source": [
    "change age in months to age in years\n",
    "remove subscribers\n",
    "look into elegantly constructing interaction terms in python\n",
    "look into a robust model (covariance type)\n",
    "change P threshhold to 0.01"
   ]
  },
  {
   "cell_type": "code",
   "execution_count": 40,
   "metadata": {},
   "outputs": [
    {
     "name": "stdout",
     "output_type": "stream",
     "text": [
      "                 Generalized Linear Model Regression Results                  \n",
      "==============================================================================\n",
      "Dep. Variable:                  added   No. Observations:                91230\n",
      "Model:                            GLM   Df Residuals:                    91223\n",
      "Model Family:        NegativeBinomial   Df Model:                            6\n",
      "Link Function:                    log   Scale:                          1.0000\n",
      "Method:                          IRLS   Log-Likelihood:                -23760.\n",
      "Date:                Thu, 18 May 2023   Deviance:                       19630.\n",
      "Time:                        21:04:15   Pearson chi2:                 2.22e+05\n",
      "No. Iterations:                    13                                         \n",
      "Covariance Type:                  HC3                                         \n",
      "================================================================================================\n",
      "                                   coef    std err          z      P>|z|      [0.005      0.995]\n",
      "------------------------------------------------------------------------------------------------\n",
      "Intercept                       -5.9618      0.154    -38.691      0.000      -6.359      -5.565\n",
      "rules_1                          0.2613      0.023     11.271      0.000       0.202       0.321\n",
      "age_in_years                     0.0383      0.026      1.483      0.138      -0.028       0.105\n",
      "log_subscribers                  0.4705      0.021     22.212      0.000       0.416       0.525\n",
      "age_in_years:log_subscribers    -0.0058      0.003     -2.255      0.024      -0.012       0.001\n",
      "rules_1:log_subscribers         -0.0154      0.003     -5.187      0.000      -0.023      -0.008\n",
      "rules_1:age_in_years            -0.0013      0.002     -0.615      0.539      -0.007       0.004\n",
      "================================================================================================\n"
     ]
    }
   ],
   "source": [
    "nb2_training_results = sm.GLM(y_train, X_train,family=sm.families.NegativeBinomial(alpha=aux_olsr_results.params[0])).fit(cov_type='HC3')\n",
    "print(nb2_training_results.summary(alpha=0.01))"
   ]
  },
  {
   "cell_type": "code",
   "execution_count": 41,
   "metadata": {},
   "outputs": [
    {
     "ename": "NameError",
     "evalue": "name 'sub_metadata' is not defined",
     "output_type": "error",
     "traceback": [
      "\u001b[1;31m---------------------------------------------------------------------------\u001b[0m",
      "\u001b[1;31mNameError\u001b[0m                                 Traceback (most recent call last)",
      "\u001b[1;32m<ipython-input-41-6c64cb9120b9>\u001b[0m in \u001b[0;36m<module>\u001b[1;34m\u001b[0m\n\u001b[0;32m      1\u001b[0m \u001b[1;31m#     1 scatterplot x = #subscribers, y = sum(rules changed  + rules deleted)\u001b[0m\u001b[1;33m\u001b[0m\u001b[1;33m\u001b[0m\u001b[1;33m\u001b[0m\u001b[0m\n\u001b[1;32m----> 2\u001b[1;33m \u001b[0mx\u001b[0m \u001b[1;33m=\u001b[0m \u001b[0mnp\u001b[0m\u001b[1;33m.\u001b[0m\u001b[0marray\u001b[0m\u001b[1;33m(\u001b[0m\u001b[0msub_metadata\u001b[0m\u001b[1;33m.\u001b[0m\u001b[0msubscribers_1\u001b[0m \u001b[1;33m+\u001b[0m \u001b[1;36m2\u001b[0m\u001b[1;33m)\u001b[0m\u001b[1;33m\u001b[0m\u001b[1;33m\u001b[0m\u001b[0m\n\u001b[0m\u001b[0;32m      3\u001b[0m \u001b[0my\u001b[0m \u001b[1;33m=\u001b[0m \u001b[0mnp\u001b[0m\u001b[1;33m.\u001b[0m\u001b[0marray\u001b[0m\u001b[1;33m(\u001b[0m\u001b[0msub_metadata\u001b[0m\u001b[1;33m.\u001b[0m\u001b[0mdeleted\u001b[0m \u001b[1;33m+\u001b[0m \u001b[0msub_metadata\u001b[0m\u001b[1;33m.\u001b[0m\u001b[0mchanged\u001b[0m\u001b[1;33m)\u001b[0m \u001b[1;33m+\u001b[0m \u001b[0mnp\u001b[0m\u001b[1;33m.\u001b[0m\u001b[0mrandom\u001b[0m\u001b[1;33m.\u001b[0m\u001b[0mnormal\u001b[0m\u001b[1;33m(\u001b[0m\u001b[1;36m0\u001b[0m\u001b[1;33m,\u001b[0m\u001b[1;36m0.3\u001b[0m\u001b[1;33m,\u001b[0m\u001b[0mlen\u001b[0m\u001b[1;33m(\u001b[0m\u001b[0msub_metadata\u001b[0m\u001b[1;33m)\u001b[0m\u001b[1;33m)\u001b[0m\u001b[1;33m\u001b[0m\u001b[1;33m\u001b[0m\u001b[0m\n\u001b[0;32m      4\u001b[0m \u001b[1;31m# Plot the scatter plot with the calculated area\u001b[0m\u001b[1;33m\u001b[0m\u001b[1;33m\u001b[0m\u001b[1;33m\u001b[0m\u001b[0m\n\u001b[0;32m      5\u001b[0m \u001b[0mplt\u001b[0m\u001b[1;33m.\u001b[0m\u001b[0mscatter\u001b[0m\u001b[1;33m(\u001b[0m\u001b[0mx\u001b[0m\u001b[1;33m,\u001b[0m \u001b[0my\u001b[0m\u001b[1;33m,\u001b[0m \u001b[0malpha\u001b[0m\u001b[1;33m=\u001b[0m\u001b[1;36m0.3\u001b[0m\u001b[1;33m)\u001b[0m\u001b[1;33m\u001b[0m\u001b[1;33m\u001b[0m\u001b[0m\n",
      "\u001b[1;31mNameError\u001b[0m: name 'sub_metadata' is not defined"
     ]
    }
   ],
   "source": [
    "#     1 scatterplot x = #subscribers, y = sum(rules changed  + rules deleted)\n",
    "x = np.array(sub_metadata.subscribers_1 + 2)\n",
    "y = np.array(sub_metadata.deleted + sub_metadata.changed) + np.random.normal(0,0.3,len(sub_metadata))\n",
    "# Plot the scatter plot with the calculated area\n",
    "plt.scatter(x, y, alpha=0.3)\n",
    "plt.xscale(\"log\")\n",
    "\n",
    "# LOESS smoother\n",
    "sample_size = 10000\n",
    "sample_indices = np.random.choice(len(x), sample_size, replace=False)\n",
    "x_sample = x[sample_indices]\n",
    "y_sample = y[sample_indices]\n",
    "smoothed = lowess(y_sample, x_sample, frac=0.3)\n",
    "plt.plot(smoothed[:,0], smoothed[:,1], label='Lowess Smoother', color='red')\n",
    "plt.legend()\n",
    "\n",
    "\n",
    "plt.xlabel(\"# subscribers\")\n",
    "plt.ylabel(\"# rules changed and deleted\")\n",
    "plt.title(\"Subreddit Size and Rule Change\")\n",
    "# plt.savefig('../result_figures/subscribers_and_changes_scatterplot.png', dpi=300, bbox_inches='tight')\n",
    "\n",
    "\n",
    "plt.show()"
   ]
  },
  {
   "cell_type": "markdown",
   "metadata": {},
   "source": [
    "# Make Predictions"
   ]
  },
  {
   "cell_type": "code",
   "execution_count": 12,
   "metadata": {},
   "outputs": [],
   "source": [
    "nb2_predictions = nb2_training_results.get_prediction(X_test)\n",
    "predictions_summary_frame = nb2_predictions.summary_frame()"
   ]
  },
  {
   "cell_type": "code",
   "execution_count": 13,
   "metadata": {},
   "outputs": [
    {
     "data": {
      "image/png": "[encoded data removed]",
      "text/plain": [
       "<Figure size 432x288 with 1 Axes>"
      ]
     },
     "metadata": {
      "needs_background": "light"
     },
     "output_type": "display_data"
    }
   ],
   "source": [
    "mask = np.random.rand(len(y_test)) < 0.05\n",
    "predicted_counts = predictions_summary_frame[mask]\n",
    "actual_counts = y_test[mask]\n",
    "X_index = X_test[mask]\n",
    "\n",
    "\n",
    "predicted_counts=predicted_counts['mean']\n",
    "actual_counts = actual_counts['added']\n",
    "fig = plt.figure()\n",
    "fig.suptitle('Predicted versus actual bicyclist counts on the Brooklyn bridge')\n",
    "actual, = plt.plot(X_index.index, actual_counts, 'ro-', label='Actual counts')\n",
    "predicted, = plt.plot(X_index.index, predicted_counts, 'go-', alpha = 0.6, label='Predicted counts')\n",
    "\n",
    "plt.legend(handles=[predicted, actual])\n",
    "plt.show()"
   ]
  },
  {
   "cell_type": "markdown",
   "metadata": {},
   "source": [
    "# Goodness of Fit"
   ]
  },
  {
   "cell_type": "code",
   "execution_count": 14,
   "metadata": {},
   "outputs": [
    {
     "data": {
      "text/plain": [
       "91584"
      ]
     },
     "execution_count": 14,
     "metadata": {},
     "output_type": "execute_result"
    }
   ],
   "source": [
    "len(df_train)"
   ]
  },
  {
   "cell_type": "markdown",
   "metadata": {},
   "source": [
    "### LR test"
   ]
  },
  {
   "cell_type": "code",
   "execution_count": 15,
   "metadata": {},
   "outputs": [
    {
     "data": {
      "text/plain": [
       "24972"
      ]
     },
     "execution_count": 15,
     "metadata": {},
     "output_type": "execute_result"
    }
   ],
   "source": [
    "# The Likelihood-ratio test is used to compare how well two models fit the data.\n",
    "# The LR test statistic is simply negative two times the difference in the fitted log-likelihoods of the two models.\n",
    "\n",
    "poisson_ll = -36298\n",
    "nbr_ll = -23812\n",
    "-2 * (poisson_ll - nbr_ll)  # NBR is much better"
   ]
  },
  {
   "cell_type": "markdown",
   "metadata": {},
   "source": [
    "### Chi Squared"
   ]
  },
  {
   "cell_type": "code",
   "execution_count": 19,
   "metadata": {},
   "outputs": [
    {
     "name": "stdout",
     "output_type": "stream",
     "text": [
      "P-value: 0.0\n"
     ]
    }
   ],
   "source": [
    "df = 91425\n",
    "# Calculate the p-value\n",
    "p_value = 1 - chi2.cdf(1.62e+05, df)\n",
    "\n",
    "# Print the p-value\n",
    "print(\"P-value:\", p_value)"
   ]
  },
  {
   "cell_type": "markdown",
   "metadata": {},
   "source": [
    "# Compare Models"
   ]
  },
  {
   "cell_type": "code",
   "execution_count": 22,
   "metadata": {},
   "outputs": [],
   "source": [
    "def BIC(deviance, k, x):\n",
    "    # k is the number of parameters, x is the number of observations\n",
    "    return k * np.log(x) + deviance\n",
    "\n",
    "def B(BIC1, BIC2):\n",
    "    # a Bayes factor in the range of 3–10 gives moderate evidence in favour of model 1\n",
    "    # while a Bayes factor greater than 10 indicates strong evidence in favour of that model 2\n",
    "    return np.exp(-1/2*(BIC1-BIC2))"
   ]
  },
  {
   "cell_type": "code",
   "execution_count": 23,
   "metadata": {},
   "outputs": [
    {
     "name": "stderr",
     "output_type": "stream",
     "text": [
      "<ipython-input-22-462e594625bf>:8: RuntimeWarning: overflow encountered in exp\n",
      "  return np.exp(-1/2*(BIC1-BIC2))\n"
     ]
    },
    {
     "data": {
      "text/plain": [
       "inf"
      ]
     },
     "execution_count": 23,
     "metadata": {},
     "output_type": "execute_result"
    }
   ],
   "source": [
    "# Poisson vs Negative Binomial\n",
    "BIC_ng = BIC(19611, 7, 91584)\n",
    "BIC_p = BIC(60717, 7, 91584)\n",
    "B(BIC_ng, BIC_p)"
   ]
  },
  {
   "cell_type": "code",
   "execution_count": 37,
   "metadata": {},
   "outputs": [
    {
     "name": "stderr",
     "output_type": "stream",
     "text": [
      "<ipython-input-35-462e594625bf>:8: RuntimeWarning: overflow encountered in exp\n",
      "  return np.exp(-1/2*(BIC1-BIC2))\n"
     ]
    },
    {
     "data": {
      "text/plain": [
       "inf"
      ]
     },
     "execution_count": 37,
     "metadata": {},
     "output_type": "execute_result"
    }
   ],
   "source": [
    "BIC_lr = 2.942e+05\n",
    "B(BIC_ng, BIC_lr)"
   ]
  },
  {
   "cell_type": "code",
   "execution_count": 50,
   "metadata": {},
   "outputs": [
    {
     "name": "stderr",
     "output_type": "stream",
     "text": [
      "<ipython-input-35-462e594625bf>:8: RuntimeWarning: overflow encountered in exp\n",
      "  return np.exp(-1/2*(BIC1-BIC2))\n"
     ]
    },
    {
     "data": {
      "text/plain": [
       "inf"
      ]
     },
     "execution_count": 50,
     "metadata": {},
     "output_type": "execute_result"
    }
   ],
   "source": [
    "BIC_ng2 = BIC(21107, 3, 91584)\n",
    "B(BIC_ng, BIC_ng2)"
   ]
  },
  {
   "cell_type": "code",
   "execution_count": 25,
   "metadata": {},
   "outputs": [
    {
     "data": {
      "text/plain": [
       "3.466790419901983e-27"
      ]
     },
     "execution_count": 25,
     "metadata": {},
     "output_type": "execute_result"
    }
   ],
   "source": [
    "BIC_ng3 = BIC(19512, 5, 91527) # without subscribers_1, rules_and_age\n",
    "B(BIC_ng, BIC_ng3)"
   ]
  },
  {
   "cell_type": "code",
   "execution_count": null,
   "metadata": {},
   "outputs": [],
   "source": []
  }
 ],
 "metadata": {
  "kernelspec": {
   "display_name": "Python 3",
   "language": "python",
   "name": "python3"
  },
  "language_info": {
   "codemirror_mode": {
    "name": "ipython",
    "version": 3
   },
   "file_extension": ".py",
   "mimetype": "text/x-python",
   "name": "python",
   "nbconvert_exporter": "python",
   "pygments_lexer": "ipython3",
   "version": "3.8.3"
  }
 },
 "nbformat": 4,
 "nbformat_minor": 4
}
