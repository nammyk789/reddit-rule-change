{
 "cells": [
  {
   "cell_type": "code",
   "execution_count": 18,
   "metadata": {},
   "outputs": [],
   "source": [
    "import pandas as pd\n",
    "import numpy as np\n",
    "from patsy import dmatrices\n",
    "import statsmodels.api as sm\n",
    "import statsmodels.formula.api as smf\n",
    "import matplotlib.pyplot as plt\n",
    "from scipy.stats import chi2\n",
    "\n",
    "from datetime import datetime, timedelta\n",
    "import matplotlib.pyplot as plt\n",
    "import plotly.express as px\n",
    "import seaborn as sns"
   ]
  },
  {
   "cell_type": "code",
   "execution_count": 19,
   "metadata": {},
   "outputs": [
    {
     "data": {
      "text/html": [
       "<div>\n",
       "<style scoped>\n",
       "    .dataframe tbody tr th:only-of-type {\n",
       "        vertical-align: middle;\n",
       "    }\n",
       "\n",
       "    .dataframe tbody tr th {\n",
       "        vertical-align: top;\n",
       "    }\n",
       "\n",
       "    .dataframe thead th {\n",
       "        text-align: right;\n",
       "    }\n",
       "</style>\n",
       "<table border=\"1\" class=\"dataframe\">\n",
       "  <thead>\n",
       "    <tr style=\"text-align: right;\">\n",
       "      <th></th>\n",
       "      <th>communityID</th>\n",
       "      <th>added</th>\n",
       "      <th>changed</th>\n",
       "      <th>deleted</th>\n",
       "      <th>unchanged</th>\n",
       "      <th>subscribers_1</th>\n",
       "      <th>subscribers_2</th>\n",
       "      <th>initial_rules</th>\n",
       "      <th>rules_2</th>\n",
       "      <th>timestamp_1</th>\n",
       "      <th>timestamp_2</th>\n",
       "      <th>founding_date</th>\n",
       "      <th>age_in_months</th>\n",
       "      <th>turnover</th>\n",
       "      <th>change_incl</th>\n",
       "      <th>age_in_years</th>\n",
       "      <th>log_subscribers</th>\n",
       "    </tr>\n",
       "  </thead>\n",
       "  <tbody>\n",
       "    <tr>\n",
       "      <th>0</th>\n",
       "      <td>007_link</td>\n",
       "      <td>0.0</td>\n",
       "      <td>0.0</td>\n",
       "      <td>0.0</td>\n",
       "      <td>1.0</td>\n",
       "      <td>7</td>\n",
       "      <td>7</td>\n",
       "      <td>1</td>\n",
       "      <td>1</td>\n",
       "      <td>1.627687e+09</td>\n",
       "      <td>1.644941e+09</td>\n",
       "      <td>1.579930e+09</td>\n",
       "      <td>14.908671</td>\n",
       "      <td>0.0</td>\n",
       "      <td>0.0</td>\n",
       "      <td>1.242389</td>\n",
       "      <td>2.197225</td>\n",
       "    </tr>\n",
       "    <tr>\n",
       "      <th>1</th>\n",
       "      <td>007nightfire</td>\n",
       "      <td>0.0</td>\n",
       "      <td>0.0</td>\n",
       "      <td>0.0</td>\n",
       "      <td>5.0</td>\n",
       "      <td>68</td>\n",
       "      <td>91</td>\n",
       "      <td>5</td>\n",
       "      <td>5</td>\n",
       "      <td>1.625925e+09</td>\n",
       "      <td>1.643361e+09</td>\n",
       "      <td>1.609863e+09</td>\n",
       "      <td>3.526107</td>\n",
       "      <td>0.0</td>\n",
       "      <td>0.0</td>\n",
       "      <td>0.293842</td>\n",
       "      <td>4.248495</td>\n",
       "    </tr>\n",
       "    <tr>\n",
       "      <th>2</th>\n",
       "      <td>00games</td>\n",
       "      <td>0.0</td>\n",
       "      <td>0.0</td>\n",
       "      <td>0.0</td>\n",
       "      <td>4.0</td>\n",
       "      <td>2</td>\n",
       "      <td>3</td>\n",
       "      <td>4</td>\n",
       "      <td>4</td>\n",
       "      <td>1.630524e+09</td>\n",
       "      <td>1.646246e+09</td>\n",
       "      <td>1.580752e+09</td>\n",
       "      <td>14.596170</td>\n",
       "      <td>0.0</td>\n",
       "      <td>0.0</td>\n",
       "      <td>1.216347</td>\n",
       "      <td>1.386294</td>\n",
       "    </tr>\n",
       "    <tr>\n",
       "      <th>3</th>\n",
       "      <td>00saesthetics</td>\n",
       "      <td>0.0</td>\n",
       "      <td>0.0</td>\n",
       "      <td>0.0</td>\n",
       "      <td>6.0</td>\n",
       "      <td>2836</td>\n",
       "      <td>2995</td>\n",
       "      <td>6</td>\n",
       "      <td>6</td>\n",
       "      <td>1.624697e+09</td>\n",
       "      <td>1.642362e+09</td>\n",
       "      <td>1.562924e+09</td>\n",
       "      <td>21.375357</td>\n",
       "      <td>0.0</td>\n",
       "      <td>0.0</td>\n",
       "      <td>1.781280</td>\n",
       "      <td>7.950855</td>\n",
       "    </tr>\n",
       "    <tr>\n",
       "      <th>4</th>\n",
       "      <td>00sbabies</td>\n",
       "      <td>0.0</td>\n",
       "      <td>0.0</td>\n",
       "      <td>0.0</td>\n",
       "      <td>6.0</td>\n",
       "      <td>300</td>\n",
       "      <td>298</td>\n",
       "      <td>6</td>\n",
       "      <td>6</td>\n",
       "      <td>1.625180e+09</td>\n",
       "      <td>1.642880e+09</td>\n",
       "      <td>1.595696e+09</td>\n",
       "      <td>8.913409</td>\n",
       "      <td>0.0</td>\n",
       "      <td>0.0</td>\n",
       "      <td>0.742784</td>\n",
       "      <td>5.710427</td>\n",
       "    </tr>\n",
       "    <tr>\n",
       "      <th>...</th>\n",
       "      <td>...</td>\n",
       "      <td>...</td>\n",
       "      <td>...</td>\n",
       "      <td>...</td>\n",
       "      <td>...</td>\n",
       "      <td>...</td>\n",
       "      <td>...</td>\n",
       "      <td>...</td>\n",
       "      <td>...</td>\n",
       "      <td>...</td>\n",
       "      <td>...</td>\n",
       "      <td>...</td>\n",
       "      <td>...</td>\n",
       "      <td>...</td>\n",
       "      <td>...</td>\n",
       "      <td>...</td>\n",
       "      <td>...</td>\n",
       "    </tr>\n",
       "    <tr>\n",
       "      <th>130846</th>\n",
       "      <td>zyramains</td>\n",
       "      <td>0.0</td>\n",
       "      <td>0.0</td>\n",
       "      <td>0.0</td>\n",
       "      <td>9.0</td>\n",
       "      <td>10085</td>\n",
       "      <td>11382</td>\n",
       "      <td>9</td>\n",
       "      <td>9</td>\n",
       "      <td>1.624172e+09</td>\n",
       "      <td>1.642224e+09</td>\n",
       "      <td>1.419736e+09</td>\n",
       "      <td>75.824785</td>\n",
       "      <td>0.0</td>\n",
       "      <td>0.0</td>\n",
       "      <td>6.318732</td>\n",
       "      <td>9.219003</td>\n",
       "    </tr>\n",
       "    <tr>\n",
       "      <th>130847</th>\n",
       "      <td>zyxcomments</td>\n",
       "      <td>0.0</td>\n",
       "      <td>0.0</td>\n",
       "      <td>0.0</td>\n",
       "      <td>1.0</td>\n",
       "      <td>8</td>\n",
       "      <td>8</td>\n",
       "      <td>1</td>\n",
       "      <td>1</td>\n",
       "      <td>1.627579e+09</td>\n",
       "      <td>1.644794e+09</td>\n",
       "      <td>1.562897e+09</td>\n",
       "      <td>21.385681</td>\n",
       "      <td>0.0</td>\n",
       "      <td>0.0</td>\n",
       "      <td>1.782140</td>\n",
       "      <td>2.302585</td>\n",
       "    </tr>\n",
       "    <tr>\n",
       "      <th>130848</th>\n",
       "      <td>zyzz</td>\n",
       "      <td>1.0</td>\n",
       "      <td>0.0</td>\n",
       "      <td>1.0</td>\n",
       "      <td>1.0</td>\n",
       "      <td>7245</td>\n",
       "      <td>11991</td>\n",
       "      <td>2</td>\n",
       "      <td>2</td>\n",
       "      <td>1.624310e+09</td>\n",
       "      <td>1.642229e+09</td>\n",
       "      <td>1.311994e+09</td>\n",
       "      <td>116.795459</td>\n",
       "      <td>2.0</td>\n",
       "      <td>1.0</td>\n",
       "      <td>9.732955</td>\n",
       "      <td>8.888343</td>\n",
       "    </tr>\n",
       "    <tr>\n",
       "      <th>130849</th>\n",
       "      <td>zztails</td>\n",
       "      <td>0.0</td>\n",
       "      <td>0.0</td>\n",
       "      <td>0.0</td>\n",
       "      <td>2.0</td>\n",
       "      <td>137</td>\n",
       "      <td>142</td>\n",
       "      <td>2</td>\n",
       "      <td>2</td>\n",
       "      <td>1.625469e+09</td>\n",
       "      <td>1.643165e+09</td>\n",
       "      <td>1.546838e+09</td>\n",
       "      <td>27.492575</td>\n",
       "      <td>0.0</td>\n",
       "      <td>0.0</td>\n",
       "      <td>2.291048</td>\n",
       "      <td>4.934474</td>\n",
       "    </tr>\n",
       "    <tr>\n",
       "      <th>130850</th>\n",
       "      <td>zzzbleeeeppzzz</td>\n",
       "      <td>0.0</td>\n",
       "      <td>0.0</td>\n",
       "      <td>0.0</td>\n",
       "      <td>1.0</td>\n",
       "      <td>3</td>\n",
       "      <td>3</td>\n",
       "      <td>1</td>\n",
       "      <td>1</td>\n",
       "      <td>1.628945e+09</td>\n",
       "      <td>1.645972e+09</td>\n",
       "      <td>1.560556e+09</td>\n",
       "      <td>22.276055</td>\n",
       "      <td>0.0</td>\n",
       "      <td>0.0</td>\n",
       "      <td>1.856338</td>\n",
       "      <td>1.609438</td>\n",
       "    </tr>\n",
       "  </tbody>\n",
       "</table>\n",
       "<p>130851 rows × 17 columns</p>\n",
       "</div>"
      ],
      "text/plain": [
       "           communityID  added  changed  deleted  unchanged  subscribers_1  \\\n",
       "0             007_link    0.0      0.0      0.0        1.0              7   \n",
       "1         007nightfire    0.0      0.0      0.0        5.0             68   \n",
       "2              00games    0.0      0.0      0.0        4.0              2   \n",
       "3        00saesthetics    0.0      0.0      0.0        6.0           2836   \n",
       "4            00sbabies    0.0      0.0      0.0        6.0            300   \n",
       "...                ...    ...      ...      ...        ...            ...   \n",
       "130846       zyramains    0.0      0.0      0.0        9.0          10085   \n",
       "130847     zyxcomments    0.0      0.0      0.0        1.0              8   \n",
       "130848            zyzz    1.0      0.0      1.0        1.0           7245   \n",
       "130849         zztails    0.0      0.0      0.0        2.0            137   \n",
       "130850  zzzbleeeeppzzz    0.0      0.0      0.0        1.0              3   \n",
       "\n",
       "        subscribers_2  initial_rules  rules_2   timestamp_1   timestamp_2  \\\n",
       "0                   7              1        1  1.627687e+09  1.644941e+09   \n",
       "1                  91              5        5  1.625925e+09  1.643361e+09   \n",
       "2                   3              4        4  1.630524e+09  1.646246e+09   \n",
       "3                2995              6        6  1.624697e+09  1.642362e+09   \n",
       "4                 298              6        6  1.625180e+09  1.642880e+09   \n",
       "...               ...            ...      ...           ...           ...   \n",
       "130846          11382              9        9  1.624172e+09  1.642224e+09   \n",
       "130847              8              1        1  1.627579e+09  1.644794e+09   \n",
       "130848          11991              2        2  1.624310e+09  1.642229e+09   \n",
       "130849            142              2        2  1.625469e+09  1.643165e+09   \n",
       "130850              3              1        1  1.628945e+09  1.645972e+09   \n",
       "\n",
       "        founding_date  age_in_months  turnover  change_incl  age_in_years  \\\n",
       "0        1.579930e+09      14.908671       0.0          0.0      1.242389   \n",
       "1        1.609863e+09       3.526107       0.0          0.0      0.293842   \n",
       "2        1.580752e+09      14.596170       0.0          0.0      1.216347   \n",
       "3        1.562924e+09      21.375357       0.0          0.0      1.781280   \n",
       "4        1.595696e+09       8.913409       0.0          0.0      0.742784   \n",
       "...               ...            ...       ...          ...           ...   \n",
       "130846   1.419736e+09      75.824785       0.0          0.0      6.318732   \n",
       "130847   1.562897e+09      21.385681       0.0          0.0      1.782140   \n",
       "130848   1.311994e+09     116.795459       2.0          1.0      9.732955   \n",
       "130849   1.546838e+09      27.492575       0.0          0.0      2.291048   \n",
       "130850   1.560556e+09      22.276055       0.0          0.0      1.856338   \n",
       "\n",
       "        log_subscribers  \n",
       "0              2.197225  \n",
       "1              4.248495  \n",
       "2              1.386294  \n",
       "3              7.950855  \n",
       "4              5.710427  \n",
       "...                 ...  \n",
       "130846         9.219003  \n",
       "130847         2.302585  \n",
       "130848         8.888343  \n",
       "130849         4.934474  \n",
       "130850         1.609438  \n",
       "\n",
       "[130851 rows x 17 columns]"
      ]
     },
     "execution_count": 19,
     "metadata": {},
     "output_type": "execute_result"
    }
   ],
   "source": [
    "regression_data = pd.read_csv(\"../output_data/seth/sub_level_data.csv\")\n",
    "regression_data['turnover'] = regression_data.added + regression_data.deleted + regression_data.changed\n",
    "regression_data['change_incl'] = regression_data.deleted + regression_data.changed\n",
    "regression_data['age_in_years'] = regression_data.age_in_months/12\n",
    "regression_data['log_subscribers'] = np.log(regression_data.subscribers_1 + 2)\n",
    "regression_data.rename(columns={'rules_1':'initial_rules'}, inplace=True)\n",
    "regression_data"
   ]
  },
  {
   "cell_type": "code",
   "execution_count": 20,
   "metadata": {},
   "outputs": [
    {
     "data": {
      "text/plain": [
       "130851"
      ]
     },
     "execution_count": 20,
     "metadata": {},
     "output_type": "execute_result"
    }
   ],
   "source": [
    "len(regression_data)"
   ]
  },
  {
   "cell_type": "code",
   "execution_count": 21,
   "metadata": {},
   "outputs": [],
   "source": [
    "regression_data.replace([np.inf, -np.inf], np.nan, inplace=True)"
   ]
  },
  {
   "cell_type": "code",
   "execution_count": 22,
   "metadata": {},
   "outputs": [],
   "source": [
    "def getNBModel(expr, df, change_type):\n",
    "    # https://timeseriesreasoning.com/contents/negative-binomial-regression-model/\n",
    "    # poisson training\n",
    "    y, X = dmatrices(expr, df, return_type='dataframe')\n",
    "    poisson_training_results = sm.GLM(y, X, family=sm.families.Poisson()).fit(cov_type='HC3')\n",
    "\n",
    "    # get alpha\n",
    "    df['type_lambda'] = poisson_training_results.mu\n",
    "    df['AUX_OLS_DEP'] = df.apply(lambda x: ((x[f'{change_type}'] - x['type_lambda'])**2 - x['type_lambda']) / x['type_lambda'], axis=1)\n",
    "    ols_expr = \"\"\"AUX_OLS_DEP ~ type_lambda - 1\"\"\"\n",
    "    aux_olsr_results = smf.ols(ols_expr, df).fit()\n",
    "\n",
    "    if aux_olsr_results.tvalues[0] < 2.326389:\n",
    "        print('alpha is not significant')\n",
    "    return sm.GLM(y, X,family=sm.families.NegativeBinomial(alpha=aux_olsr_results.params[0])).fit(cov_type='HC3')"
   ]
  },
  {
   "cell_type": "code",
   "execution_count": 23,
   "metadata": {},
   "outputs": [],
   "source": [
    "def likelihoodRatioTest(model_nested, model_complex):\n",
    "    # Calculate the deviances\n",
    "    deviance_nested = -2*model_nested.llf\n",
    "    deviance_complex = -2*model_complex.llf\n",
    "\n",
    "    # Calculate the test statistic and degrees of freedom\n",
    "    test_statistic = deviance_nested - deviance_complex\n",
    "    degrees_of_freedom = model_complex.df_model - model_nested.df_model\n",
    "\n",
    "    # Perform the likelihood ratio test\n",
    "    p_value = 1 - chi2.cdf(test_statistic, degrees_of_freedom)\n",
    "    \n",
    "    print(\"Nested Model Deviance:\", deviance_nested)\n",
    "    print(\"Complex Model Deviance:\", deviance_complex)\n",
    "    print(\"Difference in Deviance:\", test_statistic)\n",
    "    print(\"Test Statistic:\", test_statistic)\n",
    "    print(\"Degrees of Freedom:\", degrees_of_freedom)\n",
    "    print(\"P-value:\", p_value)"
   ]
  },
  {
   "cell_type": "code",
   "execution_count": 51,
   "metadata": {},
   "outputs": [
    {
     "name": "stdout",
     "output_type": "stream",
     "text": [
      "                 Generalized Linear Model Regression Results                  \n",
      "==============================================================================\n",
      "Dep. Variable:          deleted_ratio   No. Observations:               130851\n",
      "Model:                            GLM   Df Residuals:                   130844\n",
      "Model Family:        NegativeBinomial   Df Model:                            6\n",
      "Link Function:                    log   Scale:                          1.0000\n",
      "Method:                          IRLS   Log-Likelihood:                -21788.\n",
      "Date:                Sun, 28 May 2023   Deviance:                       984.62\n",
      "Time:                        18:21:46   Pearson chi2:                 2.03e+04\n",
      "No. Iterations:                    17                                         \n",
      "Covariance Type:                  HC3                                         \n",
      "=================================================================================================\n",
      "                                    coef    std err          z      P>|z|      [0.025      0.975]\n",
      "-------------------------------------------------------------------------------------------------\n",
      "Intercept                        -6.7814      0.169    -40.077      0.000      -7.113      -6.450\n",
      "initial_rules                     0.0474      0.029      1.635      0.102      -0.009       0.104\n",
      "age_in_years                     -0.0126      0.029     -0.432      0.666      -0.070       0.044\n",
      "log_subscribers                   0.3583      0.026     13.831      0.000       0.307       0.409\n",
      "age_in_years:log_subscribers     -0.0013      0.003     -0.386      0.700      -0.008       0.005\n",
      "initial_rules:log_subscribers    -0.0005      0.004     -0.132      0.895      -0.008       0.007\n",
      "initial_rules:age_in_years       -0.0004      0.003     -0.160      0.873      -0.005       0.005\n",
      "=================================================================================================\n"
     ]
    }
   ],
   "source": [
    "# mask = np.random.rand(len(regression_data)) < 0.7\n",
    "# df_train = regression_data[mask]\n",
    "# df_test = regression_data[~mask]\n",
    "\n",
    "change_type = 'deleted'\n",
    "\n",
    "complex_expr = f\"\"\"{change_type} ~ initial_rules  + age_in_years + log_subscribers + \n",
    "        age_in_years*log_subscribers + initial_rules*log_subscribers + initial_rules*age_in_years\"\"\"\n",
    "null_expr = f\"\"\"{change_type} ~ 1\"\"\"\n",
    "\n",
    "age_expr = f\"\"\"{change_type} ~ initial_rules + log_subscribers + initial_rules*log_subscribers\"\"\"\n",
    "\n",
    "rules_expr = f\"\"\"{change_type} ~ age_in_years + log_subscribers + age_in_years*log_subscribers \"\"\"\n",
    "\n",
    "subs_expr = f\"\"\"{change_type} ~ initial_rules  + age_in_years +  initial_rules*age_in_years\"\"\"\n",
    "\n",
    "complex_model = getNBModel(complex_expr, regression_data, change_type)\n",
    "null_model = getNBModel(null_expr, regression_data, change_type)\n",
    "age_model = getNBModel(age_expr, regression_data, change_type)\n",
    "rules_model = getNBModel(rules_expr, regression_data, change_type)\n",
    "subs_model = getNBModel(subs_expr, regression_data, change_type)\n",
    "\n",
    "print(complex_model.summary())"
   ]
  },
  {
   "cell_type": "code",
   "execution_count": 45,
   "metadata": {},
   "outputs": [
    {
     "data": {
      "text/plain": [
       "43585.81663905791"
      ]
     },
     "execution_count": 45,
     "metadata": {},
     "output_type": "execute_result"
    }
   ],
   "source": [
    "-2 * complex_model.llf"
   ]
  },
  {
   "cell_type": "code",
   "execution_count": 46,
   "metadata": {},
   "outputs": [
    {
     "name": "stdout",
     "output_type": "stream",
     "text": [
      "0.08585844072081228\n"
     ]
    }
   ],
   "source": [
    "pseudo_R2 = 1 - (complex_model.llf / null_model.llf)\n",
    "print(pseudo_R2)"
   ]
  },
  {
   "cell_type": "code",
   "execution_count": 47,
   "metadata": {},
   "outputs": [
    {
     "name": "stdout",
     "output_type": "stream",
     "text": [
      "Nested Model Deviance: 43659.797728471705\n",
      "Complex Model Deviance: 43585.81663905791\n",
      "Difference in Deviance: 73.98108941379178\n",
      "Test Statistic: 73.98108941379178\n",
      "Degrees of Freedom: 3\n",
      "P-value: 5.551115123125783e-16\n"
     ]
    }
   ],
   "source": [
    "likelihoodRatioTest(age_model, complex_model)"
   ]
  },
  {
   "cell_type": "code",
   "execution_count": 48,
   "metadata": {},
   "outputs": [
    {
     "name": "stdout",
     "output_type": "stream",
     "text": [
      "Nested Model Deviance: 44589.362587558106\n",
      "Complex Model Deviance: 43585.81663905791\n",
      "Difference in Deviance: 1003.545948500192\n",
      "Test Statistic: 1003.545948500192\n",
      "Degrees of Freedom: 3\n",
      "P-value: 0.0\n"
     ]
    }
   ],
   "source": [
    "likelihoodRatioTest(rules_model, complex_model)"
   ]
  },
  {
   "cell_type": "code",
   "execution_count": 49,
   "metadata": {},
   "outputs": [
    {
     "name": "stdout",
     "output_type": "stream",
     "text": [
      "Nested Model Deviance: 45951.85314515423\n",
      "Complex Model Deviance: 43585.81663905791\n",
      "Difference in Deviance: 2366.036506096316\n",
      "Test Statistic: 2366.036506096316\n",
      "Degrees of Freedom: 3\n",
      "P-value: 0.0\n"
     ]
    }
   ],
   "source": [
    "likelihoodRatioTest(subs_model, complex_model)"
   ]
  },
  {
   "cell_type": "markdown",
   "metadata": {},
   "source": [
    "# Make Predictions"
   ]
  },
  {
   "cell_type": "code",
   "execution_count": 25,
   "metadata": {},
   "outputs": [
    {
     "data": {
      "text/plain": [
       "130839"
      ]
     },
     "execution_count": 25,
     "metadata": {},
     "output_type": "execute_result"
    }
   ],
   "source": [
    "len(filtered_subs)"
   ]
  },
  {
   "cell_type": "code",
   "execution_count": 26,
   "metadata": {},
   "outputs": [
    {
     "data": {
      "text/plain": [
       "130851"
      ]
     },
     "execution_count": 26,
     "metadata": {},
     "output_type": "execute_result"
    }
   ],
   "source": [
    "len(regression_data)"
   ]
  },
  {
   "cell_type": "code",
   "execution_count": 31,
   "metadata": {},
   "outputs": [
    {
     "data": {
      "image/png": "[encoded data removed]",
      "text/plain": [
       "<Figure size 432x288 with 1 Axes>"
      ]
     },
     "metadata": {
      "needs_background": "light"
     },
     "output_type": "display_data"
    }
   ],
   "source": [
    "filtered_subs = regression_data[regression_data.subscribers_1 < 5000]\n",
    "x = np.array(filtered_subs.subscribers_1)\n",
    "y = np.array(filtered_subs.added) + np.random.normal(0,0.3,len(filtered_subs))\n",
    "\n",
    "# Plot the scatter plot with the calculated area\n",
    "plt.scatter(x, y, alpha=0.3)\n",
    "\n",
    "# Plot the regression line from NBR\n",
    "sequence = np.linspace(0, max(x), num=10000)\n",
    "preds = np.exp(np.log(sequence + 2)*complex_model.params['log_subscribers'])\n",
    "plt.plot(sequence, preds, label='Negative Binomial Regression', color='red')\n",
    "\n",
    "plt.legend()\n",
    "# plt.xlabel(\"log(subscribers)\")\n",
    "plt.ylabel(\"# rules added\")\n",
    "plt.ylim(0, max(y) + 1)  # Set the range for the y-axis\n",
    "plt.title(\"Subreddit Size and Rule Additions\")\n",
    "plt.show()"
   ]
  },
  {
   "cell_type": "markdown",
   "metadata": {},
   "source": [
    "# Goodness of Fit"
   ]
  },
  {
   "cell_type": "markdown",
   "metadata": {},
   "source": [
    "### LR test"
   ]
  },
  {
   "cell_type": "code",
   "execution_count": 15,
   "metadata": {},
   "outputs": [
    {
     "data": {
      "text/plain": [
       "24972"
      ]
     },
     "execution_count": 15,
     "metadata": {},
     "output_type": "execute_result"
    }
   ],
   "source": [
    "# The Likelihood-ratio test is used to compare how well two models fit the data.\n",
    "# The LR test statistic is simply negative two times the difference in the fitted log-likelihoods of the two models.\n",
    "\n",
    "poisson_ll = -36298\n",
    "nbr_ll = -23812\n",
    "-2 * (poisson_ll - nbr_ll)  # NBR is much better"
   ]
  },
  {
   "cell_type": "markdown",
   "metadata": {},
   "source": [
    "### Chi Squared"
   ]
  },
  {
   "cell_type": "code",
   "execution_count": 19,
   "metadata": {},
   "outputs": [
    {
     "name": "stdout",
     "output_type": "stream",
     "text": [
      "P-value: 0.0\n"
     ]
    }
   ],
   "source": [
    "df = 91425\n",
    "# Calculate the p-value\n",
    "p_value = 1 - chi2.cdf(1.62e+05, df)\n",
    "\n",
    "# Print the p-value\n",
    "print(\"P-value:\", p_value)"
   ]
  },
  {
   "cell_type": "markdown",
   "metadata": {},
   "source": [
    "# Compare Models"
   ]
  },
  {
   "cell_type": "code",
   "execution_count": 22,
   "metadata": {},
   "outputs": [],
   "source": [
    "def BIC(deviance, k, x):\n",
    "    # k is the number of parameters, x is the number of observations\n",
    "    return k * np.log(x) + deviance\n",
    "\n",
    "def B(BIC1, BIC2):\n",
    "    # a Bayes factor in the range of 3–10 gives moderate evidence in favour of model 1\n",
    "    # while a Bayes factor greater than 10 indicates strong evidence in favour of that model 2\n",
    "    return np.exp(-1/2*(BIC1-BIC2))"
   ]
  },
  {
   "cell_type": "code",
   "execution_count": 23,
   "metadata": {},
   "outputs": [
    {
     "name": "stderr",
     "output_type": "stream",
     "text": [
      "<ipython-input-22-462e594625bf>:8: RuntimeWarning: overflow encountered in exp\n",
      "  return np.exp(-1/2*(BIC1-BIC2))\n"
     ]
    },
    {
     "data": {
      "text/plain": [
       "inf"
      ]
     },
     "execution_count": 23,
     "metadata": {},
     "output_type": "execute_result"
    }
   ],
   "source": [
    "# Poisson vs Negative Binomial\n",
    "BIC_ng = BIC(19611, 7, 91584)\n",
    "BIC_p = BIC(60717, 7, 91584)\n",
    "B(BIC_ng, BIC_p)"
   ]
  }
 ],
 "metadata": {
  "kernelspec": {
   "display_name": "Python 3",
   "language": "python",
   "name": "python3"
  },
  "language_info": {
   "codemirror_mode": {
    "name": "ipython",
    "version": 3
   },
   "file_extension": ".py",
   "mimetype": "text/x-python",
   "name": "python",
   "nbconvert_exporter": "python",
   "pygments_lexer": "ipython3",
   "version": "3.8.3"
  }
 },
 "nbformat": 4,
 "nbformat_minor": 4
}
