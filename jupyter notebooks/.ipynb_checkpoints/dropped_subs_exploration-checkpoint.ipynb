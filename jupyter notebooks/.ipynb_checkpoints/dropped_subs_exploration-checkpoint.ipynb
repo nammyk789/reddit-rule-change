{
 "cells": [
  {
   "cell_type": "code",
   "execution_count": 1,
   "metadata": {},
   "outputs": [],
   "source": [
    "import pandas as pd\n",
    "import plotly.express as px"
   ]
  },
  {
   "cell_type": "code",
   "execution_count": 2,
   "metadata": {},
   "outputs": [],
   "source": [
    "df_drop = pd.read_csv(\"../mako snapshot processing pipeline/drop_subs.csv\")\n",
    "df_kept = pd.read_csv(\"../mako snapshot processing pipeline/metadata.csv\")"
   ]
  },
  {
   "cell_type": "code",
   "execution_count": 3,
   "metadata": {},
   "outputs": [
    {
     "data": {
      "text/html": [
       "<div>\n",
       "<style scoped>\n",
       "    .dataframe tbody tr th:only-of-type {\n",
       "        vertical-align: middle;\n",
       "    }\n",
       "\n",
       "    .dataframe tbody tr th {\n",
       "        vertical-align: top;\n",
       "    }\n",
       "\n",
       "    .dataframe thead th {\n",
       "        text-align: right;\n",
       "    }\n",
       "</style>\n",
       "<table border=\"1\" class=\"dataframe\">\n",
       "  <thead>\n",
       "    <tr style=\"text-align: right;\">\n",
       "      <th></th>\n",
       "      <th>communityID</th>\n",
       "      <th>subscribers_1</th>\n",
       "      <th>subscribers_2</th>\n",
       "      <th>founding_date</th>\n",
       "      <th>earliest_scrape_date</th>\n",
       "      <th>latest_scrape_date</th>\n",
       "      <th>num_rules_earliest</th>\n",
       "      <th>num_rules_latest</th>\n",
       "      <th>days_between_scrapes</th>\n",
       "      <th>rule_delta</th>\n",
       "      <th>subscriber_delta</th>\n",
       "    </tr>\n",
       "  </thead>\n",
       "  <tbody>\n",
       "    <tr>\n",
       "      <th>0</th>\n",
       "      <td>09axet</td>\n",
       "      <td>3</td>\n",
       "      <td>2</td>\n",
       "      <td>1.606428e+09</td>\n",
       "      <td>2021-01-10 02:00:11</td>\n",
       "      <td>2022-09-14 05:17:24</td>\n",
       "      <td>7</td>\n",
       "      <td>5</td>\n",
       "      <td>612</td>\n",
       "      <td>-0.003268</td>\n",
       "      <td>-0.001634</td>\n",
       "    </tr>\n",
       "    <tr>\n",
       "      <th>1</th>\n",
       "      <td>0phinyxmemegallery</td>\n",
       "      <td>13</td>\n",
       "      <td>47</td>\n",
       "      <td>1.629335e+09</td>\n",
       "      <td>2021-09-25 15:32:27</td>\n",
       "      <td>2022-09-26 19:21:12</td>\n",
       "      <td>2</td>\n",
       "      <td>8</td>\n",
       "      <td>366</td>\n",
       "      <td>0.016393</td>\n",
       "      <td>0.092896</td>\n",
       "    </tr>\n",
       "    <tr>\n",
       "      <th>2</th>\n",
       "      <td>0sanitymemes</td>\n",
       "      <td>5658</td>\n",
       "      <td>23620</td>\n",
       "      <td>1.591824e+09</td>\n",
       "      <td>2020-09-17 15:08:01</td>\n",
       "      <td>2022-09-02 05:20:57</td>\n",
       "      <td>7</td>\n",
       "      <td>6</td>\n",
       "      <td>714</td>\n",
       "      <td>-0.001401</td>\n",
       "      <td>25.156863</td>\n",
       "    </tr>\n",
       "    <tr>\n",
       "      <th>3</th>\n",
       "      <td>1_700shipbuilders</td>\n",
       "      <td>32</td>\n",
       "      <td>139</td>\n",
       "      <td>1.587064e+09</td>\n",
       "      <td>2020-09-19 02:23:33</td>\n",
       "      <td>2022-09-01 05:33:29</td>\n",
       "      <td>4</td>\n",
       "      <td>5</td>\n",
       "      <td>712</td>\n",
       "      <td>0.001404</td>\n",
       "      <td>0.150281</td>\n",
       "    </tr>\n",
       "    <tr>\n",
       "      <th>4</th>\n",
       "      <td>100movies365days</td>\n",
       "      <td>3634</td>\n",
       "      <td>4274</td>\n",
       "      <td>1.343063e+09</td>\n",
       "      <td>2020-10-03 16:49:08</td>\n",
       "      <td>2022-09-28 10:14:33</td>\n",
       "      <td>8</td>\n",
       "      <td>9</td>\n",
       "      <td>724</td>\n",
       "      <td>0.001381</td>\n",
       "      <td>0.883978</td>\n",
       "    </tr>\n",
       "  </tbody>\n",
       "</table>\n",
       "</div>"
      ],
      "text/plain": [
       "          communityID  subscribers_1  subscribers_2  founding_date  \\\n",
       "0              09axet              3              2   1.606428e+09   \n",
       "1  0phinyxmemegallery             13             47   1.629335e+09   \n",
       "2        0sanitymemes           5658          23620   1.591824e+09   \n",
       "3   1_700shipbuilders             32            139   1.587064e+09   \n",
       "4    100movies365days           3634           4274   1.343063e+09   \n",
       "\n",
       "  earliest_scrape_date   latest_scrape_date  num_rules_earliest  \\\n",
       "0  2021-01-10 02:00:11  2022-09-14 05:17:24                   7   \n",
       "1  2021-09-25 15:32:27  2022-09-26 19:21:12                   2   \n",
       "2  2020-09-17 15:08:01  2022-09-02 05:20:57                   7   \n",
       "3  2020-09-19 02:23:33  2022-09-01 05:33:29                   4   \n",
       "4  2020-10-03 16:49:08  2022-09-28 10:14:33                   8   \n",
       "\n",
       "   num_rules_latest  days_between_scrapes  rule_delta  subscriber_delta  \n",
       "0                 5                   612   -0.003268         -0.001634  \n",
       "1                 8                   366    0.016393          0.092896  \n",
       "2                 6                   714   -0.001401         25.156863  \n",
       "3                 5                   712    0.001404          0.150281  \n",
       "4                 9                   724    0.001381          0.883978  "
      ]
     },
     "execution_count": 3,
     "metadata": {},
     "output_type": "execute_result"
    }
   ],
   "source": [
    "df_drop['days_between_scrapes'] = (pd.to_datetime(df_drop.latest_scrape_date, format='%Y-%m-%d %H:%M:%S')  \n",
    "                         - pd.to_datetime(df_drop.earliest_scrape_date, format='%Y-%m-%d %H:%M:%S')).dt.days\n",
    "df_drop['rule_delta'] = (df_drop.num_rules_latest - df_drop.num_rules_earliest)/df_drop.days_between_scrapes\n",
    "df_drop['subscriber_delta'] = (df_drop.subscribers_2 - df_drop.subscribers_1)/df_drop.days_between_scrapes\n",
    "\n",
    "df_drop[:5]"
   ]
  },
  {
   "cell_type": "code",
   "execution_count": 4,
   "metadata": {},
   "outputs": [
    {
     "data": {
      "text/html": [
       "<div>\n",
       "<style scoped>\n",
       "    .dataframe tbody tr th:only-of-type {\n",
       "        vertical-align: middle;\n",
       "    }\n",
       "\n",
       "    .dataframe tbody tr th {\n",
       "        vertical-align: top;\n",
       "    }\n",
       "\n",
       "    .dataframe thead th {\n",
       "        text-align: right;\n",
       "    }\n",
       "</style>\n",
       "<table border=\"1\" class=\"dataframe\">\n",
       "  <thead>\n",
       "    <tr style=\"text-align: right;\">\n",
       "      <th></th>\n",
       "      <th>communityID</th>\n",
       "      <th>subscribers_1</th>\n",
       "      <th>subscribers_2</th>\n",
       "      <th>founding_date</th>\n",
       "      <th>earliest_scrape_date</th>\n",
       "      <th>latest_scrape_date</th>\n",
       "      <th>num_rules_earliest</th>\n",
       "      <th>num_rules_latest</th>\n",
       "      <th>days_between_scrapes</th>\n",
       "      <th>rule_delta</th>\n",
       "      <th>subscriber_delta</th>\n",
       "    </tr>\n",
       "  </thead>\n",
       "  <tbody>\n",
       "    <tr>\n",
       "      <th>0</th>\n",
       "      <td>0_iq</td>\n",
       "      <td>0</td>\n",
       "      <td>0</td>\n",
       "      <td>1.574846e+09</td>\n",
       "      <td>2020-09-21 17:42:06</td>\n",
       "      <td>2022-08-28 15:19:53</td>\n",
       "      <td>3</td>\n",
       "      <td>3</td>\n",
       "      <td>705</td>\n",
       "      <td>0.0</td>\n",
       "      <td>0.000000</td>\n",
       "    </tr>\n",
       "    <tr>\n",
       "      <th>1</th>\n",
       "      <td>000somethingintheway</td>\n",
       "      <td>0</td>\n",
       "      <td>0</td>\n",
       "      <td>1.551752e+09</td>\n",
       "      <td>2020-09-22 16:59:04</td>\n",
       "      <td>2022-08-25 07:34:37</td>\n",
       "      <td>1</td>\n",
       "      <td>1</td>\n",
       "      <td>701</td>\n",
       "      <td>0.0</td>\n",
       "      <td>0.000000</td>\n",
       "    </tr>\n",
       "    <tr>\n",
       "      <th>2</th>\n",
       "      <td>007_link</td>\n",
       "      <td>7</td>\n",
       "      <td>7</td>\n",
       "      <td>1.579930e+09</td>\n",
       "      <td>2020-09-20 00:13:54</td>\n",
       "      <td>2022-08-29 14:08:58</td>\n",
       "      <td>1</td>\n",
       "      <td>1</td>\n",
       "      <td>708</td>\n",
       "      <td>0.0</td>\n",
       "      <td>0.000000</td>\n",
       "    </tr>\n",
       "    <tr>\n",
       "      <th>3</th>\n",
       "      <td>007nightfire</td>\n",
       "      <td>51</td>\n",
       "      <td>102</td>\n",
       "      <td>1.609863e+09</td>\n",
       "      <td>2021-02-05 09:33:51</td>\n",
       "      <td>2022-09-17 00:07:30</td>\n",
       "      <td>5</td>\n",
       "      <td>5</td>\n",
       "      <td>588</td>\n",
       "      <td>0.0</td>\n",
       "      <td>0.086735</td>\n",
       "    </tr>\n",
       "    <tr>\n",
       "      <th>4</th>\n",
       "      <td>00games</td>\n",
       "      <td>2</td>\n",
       "      <td>3</td>\n",
       "      <td>1.580752e+09</td>\n",
       "      <td>2020-09-19 22:24:49</td>\n",
       "      <td>2022-08-29 17:00:19</td>\n",
       "      <td>4</td>\n",
       "      <td>4</td>\n",
       "      <td>708</td>\n",
       "      <td>0.0</td>\n",
       "      <td>0.001412</td>\n",
       "    </tr>\n",
       "  </tbody>\n",
       "</table>\n",
       "</div>"
      ],
      "text/plain": [
       "            communityID  subscribers_1  subscribers_2  founding_date  \\\n",
       "0                  0_iq              0              0   1.574846e+09   \n",
       "1  000somethingintheway              0              0   1.551752e+09   \n",
       "2              007_link              7              7   1.579930e+09   \n",
       "3          007nightfire             51            102   1.609863e+09   \n",
       "4               00games              2              3   1.580752e+09   \n",
       "\n",
       "  earliest_scrape_date   latest_scrape_date  num_rules_earliest  \\\n",
       "0  2020-09-21 17:42:06  2022-08-28 15:19:53                   3   \n",
       "1  2020-09-22 16:59:04  2022-08-25 07:34:37                   1   \n",
       "2  2020-09-20 00:13:54  2022-08-29 14:08:58                   1   \n",
       "3  2021-02-05 09:33:51  2022-09-17 00:07:30                   5   \n",
       "4  2020-09-19 22:24:49  2022-08-29 17:00:19                   4   \n",
       "\n",
       "   num_rules_latest  days_between_scrapes  rule_delta  subscriber_delta  \n",
       "0                 3                   705         0.0          0.000000  \n",
       "1                 1                   701         0.0          0.000000  \n",
       "2                 1                   708         0.0          0.000000  \n",
       "3                 5                   588         0.0          0.086735  \n",
       "4                 4                   708         0.0          0.001412  "
      ]
     },
     "execution_count": 4,
     "metadata": {},
     "output_type": "execute_result"
    }
   ],
   "source": [
    "df_kept['days_between_scrapes'] = (pd.to_datetime(df_kept.latest_scrape_date, format='%Y-%m-%d %H:%M:%S')  \n",
    "                         - pd.to_datetime(df_kept.earliest_scrape_date, format='%Y-%m-%d %H:%M:%S')).dt.days\n",
    "df_kept['rule_delta'] = (df_kept.num_rules_latest - df_kept.num_rules_earliest)/df_kept.days_between_scrapes\n",
    "df_kept['subscriber_delta'] = (df_kept.subscribers_2 - df_kept.subscribers_1)/df_kept.days_between_scrapes\n",
    "\n",
    "df_kept[:5]"
   ]
  },
  {
   "cell_type": "code",
   "execution_count": 15,
   "metadata": {},
   "outputs": [
    {
     "data": {
      "text/plain": [
       "0.04718905621887562"
      ]
     },
     "execution_count": 15,
     "metadata": {},
     "output_type": "execute_result"
    }
   ],
   "source": [
    "len(df_drop)/(len(df_kept) + len(df_drop))"
   ]
  },
  {
   "cell_type": "code",
   "execution_count": 16,
   "metadata": {},
   "outputs": [
    {
     "name": "stdout",
     "output_type": "stream",
     "text": [
      "average rules changed per day in dropped subs: 0.0038579980552818243\n",
      "average rules changed per day in kept subs:    0.00012925230556213563\n"
     ]
    }
   ],
   "source": [
    "print(f\"average rules changed per day in dropped subs: {df_drop.rule_delta.mean()}\")\n",
    "print(f\"average rules changed per day in kept subs:    {df_kept.rule_delta.mean()}\")"
   ]
  },
  {
   "cell_type": "code",
   "execution_count": 17,
   "metadata": {},
   "outputs": [
    {
     "name": "stdout",
     "output_type": "stream",
     "text": [
      "average number of subscribers changed per day in dropped subs: 80.1862195905499\n",
      "average number of subscribers changed per day in kept subs:    5.022945713598294\n"
     ]
    }
   ],
   "source": [
    "print(f\"average number of subscribers changed per day in dropped subs: {df_drop.subscriber_delta.mean()}\")\n",
    "print(f\"average number of subscribers changed per day in kept subs:    {df_kept.subscriber_delta.mean()}\")"
   ]
  },
  {
   "cell_type": "code",
   "execution_count": 8,
   "metadata": {},
   "outputs": [
    {
     "data": {
      "text/plain": [
       "5.022945713598294"
      ]
     },
     "execution_count": 8,
     "metadata": {},
     "output_type": "execute_result"
    }
   ],
   "source": [
    "print(f\"average number of subscribers in dropped subs: {df_drop.subscribers_1.mean()}\")\n",
    "print(f\"average number of subscribers in kept subs:    {df_kept.subscribers_1.mean()}\")"
   ]
  },
  {
   "cell_type": "code",
   "execution_count": 9,
   "metadata": {},
   "outputs": [
    {
     "data": {
      "text/plain": [
       "85966.20173765629"
      ]
     },
     "execution_count": 9,
     "metadata": {},
     "output_type": "execute_result"
    }
   ],
   "source": []
  },
  {
   "cell_type": "code",
   "execution_count": 10,
   "metadata": {},
   "outputs": [
    {
     "data": {
      "text/plain": [
       "7607.121018439806"
      ]
     },
     "execution_count": 10,
     "metadata": {},
     "output_type": "execute_result"
    }
   ],
   "source": []
  },
  {
   "cell_type": "code",
   "execution_count": 11,
   "metadata": {},
   "outputs": [
    {
     "data": {
      "text/plain": [
       "7.006993006993007"
      ]
     },
     "execution_count": 11,
     "metadata": {},
     "output_type": "execute_result"
    }
   ],
   "source": [
    "df_drop.num_rules_latest.mean()"
   ]
  },
  {
   "cell_type": "code",
   "execution_count": 12,
   "metadata": {},
   "outputs": [
    {
     "data": {
      "text/plain": [
       "3.461992170691519"
      ]
     },
     "execution_count": 12,
     "metadata": {},
     "output_type": "execute_result"
    }
   ],
   "source": [
    "df_kept.num_rules_latest.mean()"
   ]
  }
 ],
 "metadata": {
  "kernelspec": {
   "display_name": "Python 3",
   "language": "python",
   "name": "python3"
  },
  "language_info": {
   "codemirror_mode": {
    "name": "ipython",
    "version": 3
   },
   "file_extension": ".py",
   "mimetype": "text/x-python",
   "name": "python",
   "nbconvert_exporter": "python",
   "pygments_lexer": "ipython3",
   "version": "3.8.3"
  }
 },
 "nbformat": 4,
 "nbformat_minor": 4
}
