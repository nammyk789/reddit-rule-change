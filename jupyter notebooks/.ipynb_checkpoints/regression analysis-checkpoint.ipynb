{
 "cells": [
  {
   "cell_type": "markdown",
   "metadata": {},
   "source": [
    "https://medium.com/analytics-vidhya/f-statistic-understanding-model-significance-using-python-c1371980b796\n",
    "\n",
    "https://sites.duke.edu/bossbackup/files/2013/02/FTestTutorial.pdf"
   ]
  },
  {
   "cell_type": "code",
   "execution_count": 1,
   "metadata": {},
   "outputs": [],
   "source": [
    "import pandas as pd\n",
    "from datetime import datetime\n",
    "import numpy as np"
   ]
  },
  {
   "cell_type": "markdown",
   "metadata": {},
   "source": [
    "# Preparing Data"
   ]
  },
  {
   "cell_type": "code",
   "execution_count": 2,
   "metadata": {},
   "outputs": [
    {
     "data": {
      "text/html": [
       "<div>\n",
       "<style scoped>\n",
       "    .dataframe tbody tr th:only-of-type {\n",
       "        vertical-align: middle;\n",
       "    }\n",
       "\n",
       "    .dataframe tbody tr th {\n",
       "        vertical-align: top;\n",
       "    }\n",
       "\n",
       "    .dataframe thead th {\n",
       "        text-align: right;\n",
       "    }\n",
       "</style>\n",
       "<table border=\"1\" class=\"dataframe\">\n",
       "  <thead>\n",
       "    <tr style=\"text-align: right;\">\n",
       "      <th></th>\n",
       "      <th>communityID</th>\n",
       "      <th>subscribers_1</th>\n",
       "      <th>subscribers_2</th>\n",
       "      <th>founding_date</th>\n",
       "    </tr>\n",
       "  </thead>\n",
       "  <tbody>\n",
       "    <tr>\n",
       "      <th>0</th>\n",
       "      <td>weeklydiscoveries</td>\n",
       "      <td>3</td>\n",
       "      <td>1</td>\n",
       "      <td>1.596440e+09</td>\n",
       "    </tr>\n",
       "    <tr>\n",
       "      <th>1</th>\n",
       "      <td>elbowsafespace</td>\n",
       "      <td>3</td>\n",
       "      <td>3</td>\n",
       "      <td>1.495570e+09</td>\n",
       "    </tr>\n",
       "    <tr>\n",
       "      <th>2</th>\n",
       "      <td>canadastudentsnetwork</td>\n",
       "      <td>4</td>\n",
       "      <td>6</td>\n",
       "      <td>1.601373e+09</td>\n",
       "    </tr>\n",
       "    <tr>\n",
       "      <th>3</th>\n",
       "      <td>kermitcraftofficial</td>\n",
       "      <td>3</td>\n",
       "      <td>3</td>\n",
       "      <td>1.601383e+09</td>\n",
       "    </tr>\n",
       "    <tr>\n",
       "      <th>4</th>\n",
       "      <td>modded_server</td>\n",
       "      <td>2</td>\n",
       "      <td>2</td>\n",
       "      <td>1.601386e+09</td>\n",
       "    </tr>\n",
       "  </tbody>\n",
       "</table>\n",
       "</div>"
      ],
      "text/plain": [
       "             communityID  subscribers_1  subscribers_2  founding_date\n",
       "0      weeklydiscoveries              3              1   1.596440e+09\n",
       "1         elbowsafespace              3              3   1.495570e+09\n",
       "2  canadastudentsnetwork              4              6   1.601373e+09\n",
       "3    kermitcraftofficial              3              3   1.601383e+09\n",
       "4          modded_server              2              2   1.601386e+09"
      ]
     },
     "execution_count": 2,
     "metadata": {},
     "output_type": "execute_result"
    }
   ],
   "source": [
    "metadata = pd.read_csv('metadata.csv')\n",
    "metadata.drop(columns=['moderators_1', 'moderators_2'], inplace=True)\n",
    "metadata.head()"
   ]
  },
  {
   "cell_type": "code",
   "execution_count": 3,
   "metadata": {},
   "outputs": [],
   "source": [
    "df = pd.read_csv(\"step3_rules.csv\")\n",
    "df.sort_values(by=[\"communityID\", \"ruleID\", \"source\"], inplace=True)"
   ]
  },
  {
   "cell_type": "code",
   "execution_count": 4,
   "metadata": {},
   "outputs": [],
   "source": [
    "df['simple_types'] = df.change_type.map({'added':'added',\n",
    " 'change':'changed',\n",
    " 'deleted':'deleted',\n",
    " 'change_added':'changed',\n",
    " 'unchanged':'unchanged'})"
   ]
  },
  {
   "cell_type": "code",
   "execution_count": 5,
   "metadata": {},
   "outputs": [
    {
     "data": {
      "text/html": [
       "<div>\n",
       "<style scoped>\n",
       "    .dataframe tbody tr th:only-of-type {\n",
       "        vertical-align: middle;\n",
       "    }\n",
       "\n",
       "    .dataframe tbody tr th {\n",
       "        vertical-align: top;\n",
       "    }\n",
       "\n",
       "    .dataframe thead th {\n",
       "        text-align: right;\n",
       "    }\n",
       "</style>\n",
       "<table border=\"1\" class=\"dataframe\">\n",
       "  <thead>\n",
       "    <tr style=\"text-align: right;\">\n",
       "      <th>simple_types</th>\n",
       "      <th>added</th>\n",
       "      <th>changed</th>\n",
       "      <th>deleted</th>\n",
       "      <th>unchanged</th>\n",
       "      <th>delta</th>\n",
       "    </tr>\n",
       "    <tr>\n",
       "      <th>communityID</th>\n",
       "      <th></th>\n",
       "      <th></th>\n",
       "      <th></th>\n",
       "      <th></th>\n",
       "      <th></th>\n",
       "    </tr>\n",
       "  </thead>\n",
       "  <tbody>\n",
       "    <tr>\n",
       "      <th>000somethingintheway</th>\n",
       "      <td>0</td>\n",
       "      <td>0</td>\n",
       "      <td>0</td>\n",
       "      <td>1</td>\n",
       "      <td>0</td>\n",
       "    </tr>\n",
       "    <tr>\n",
       "      <th>007nightfire</th>\n",
       "      <td>0</td>\n",
       "      <td>0</td>\n",
       "      <td>0</td>\n",
       "      <td>5</td>\n",
       "      <td>0</td>\n",
       "    </tr>\n",
       "    <tr>\n",
       "      <th>00games</th>\n",
       "      <td>0</td>\n",
       "      <td>0</td>\n",
       "      <td>0</td>\n",
       "      <td>4</td>\n",
       "      <td>0</td>\n",
       "    </tr>\n",
       "    <tr>\n",
       "      <th>00saesthetics</th>\n",
       "      <td>0</td>\n",
       "      <td>0</td>\n",
       "      <td>0</td>\n",
       "      <td>6</td>\n",
       "      <td>0</td>\n",
       "    </tr>\n",
       "    <tr>\n",
       "      <th>00sbabies</th>\n",
       "      <td>1</td>\n",
       "      <td>0</td>\n",
       "      <td>0</td>\n",
       "      <td>5</td>\n",
       "      <td>1</td>\n",
       "    </tr>\n",
       "  </tbody>\n",
       "</table>\n",
       "</div>"
      ],
      "text/plain": [
       "simple_types          added  changed  deleted  unchanged  delta\n",
       "communityID                                                    \n",
       "000somethingintheway      0        0        0          1      0\n",
       "007nightfire              0        0        0          5      0\n",
       "00games                   0        0        0          4      0\n",
       "00saesthetics             0        0        0          6      0\n",
       "00sbabies                 1        0        0          5      1"
      ]
     },
     "execution_count": 5,
     "metadata": {},
     "output_type": "execute_result"
    }
   ],
   "source": [
    "relevant_columns = df[[\"communityID\", \"simple_types\"]]\n",
    "piv_df = pd.pivot_table(relevant_columns, index=['communityID'], columns=['simple_types'], aggfunc=len, fill_value=0)\n",
    "piv_df['delta'] = piv_df['added'] - piv_df['deleted']\n",
    "piv_df.head(5)"
   ]
  },
  {
   "cell_type": "code",
   "execution_count": 6,
   "metadata": {},
   "outputs": [],
   "source": [
    "data = metadata.join(piv_df[['delta']], on='communityID', how='inner')\n",
    "data.reset_index(inplace=True)"
   ]
  },
  {
   "cell_type": "code",
   "execution_count": 7,
   "metadata": {},
   "outputs": [],
   "source": [
    "def age_in_months(start_date):\n",
    "    start_date = datetime.fromtimestamp(start_date) \n",
    "    end_date = datetime.strptime(\"2021-12-10 00:00:00.000\", \"%Y-%m-%d %H:%M:%S.%f\") \n",
    "    return (end_date.year - start_date.year) * 12 + (end_date.month - start_date.month)"
   ]
  },
  {
   "cell_type": "code",
   "execution_count": 8,
   "metadata": {},
   "outputs": [],
   "source": [
    "age = [age_in_months(data.founding_date[i]) for i in range(len(data))]\n",
    "data['age_in_months'] = age"
   ]
  },
  {
   "cell_type": "code",
   "execution_count": 9,
   "metadata": {},
   "outputs": [
    {
     "name": "stderr",
     "output_type": "stream",
     "text": [
      "C:\\Users\\nammy\\anaconda3\\lib\\site-packages\\pandas\\core\\arraylike.py:397: RuntimeWarning: divide by zero encountered in log\n",
      "  result = getattr(ufunc, method)(*inputs, **kwargs)\n"
     ]
    },
    {
     "data": {
      "text/html": [
       "<div>\n",
       "<style scoped>\n",
       "    .dataframe tbody tr th:only-of-type {\n",
       "        vertical-align: middle;\n",
       "    }\n",
       "\n",
       "    .dataframe tbody tr th {\n",
       "        vertical-align: top;\n",
       "    }\n",
       "\n",
       "    .dataframe thead th {\n",
       "        text-align: right;\n",
       "    }\n",
       "</style>\n",
       "<table border=\"1\" class=\"dataframe\">\n",
       "  <thead>\n",
       "    <tr style=\"text-align: right;\">\n",
       "      <th></th>\n",
       "      <th>level_0</th>\n",
       "      <th>index</th>\n",
       "      <th>communityID</th>\n",
       "      <th>subscribers_1</th>\n",
       "      <th>subscribers_2</th>\n",
       "      <th>founding_date</th>\n",
       "      <th>delta</th>\n",
       "      <th>age_in_months</th>\n",
       "      <th>log_subscribers</th>\n",
       "      <th>subscribers_and_age</th>\n",
       "    </tr>\n",
       "  </thead>\n",
       "  <tbody>\n",
       "    <tr>\n",
       "      <th>0</th>\n",
       "      <td>0</td>\n",
       "      <td>0</td>\n",
       "      <td>weeklydiscoveries</td>\n",
       "      <td>3</td>\n",
       "      <td>1</td>\n",
       "      <td>1.596440e+09</td>\n",
       "      <td>0</td>\n",
       "      <td>16</td>\n",
       "      <td>0.693147</td>\n",
       "      <td>11.090355</td>\n",
       "    </tr>\n",
       "    <tr>\n",
       "      <th>1</th>\n",
       "      <td>1</td>\n",
       "      <td>1</td>\n",
       "      <td>elbowsafespace</td>\n",
       "      <td>3</td>\n",
       "      <td>3</td>\n",
       "      <td>1.495570e+09</td>\n",
       "      <td>0</td>\n",
       "      <td>55</td>\n",
       "      <td>1.386294</td>\n",
       "      <td>76.246190</td>\n",
       "    </tr>\n",
       "    <tr>\n",
       "      <th>2</th>\n",
       "      <td>2</td>\n",
       "      <td>2</td>\n",
       "      <td>canadastudentsnetwork</td>\n",
       "      <td>4</td>\n",
       "      <td>6</td>\n",
       "      <td>1.601373e+09</td>\n",
       "      <td>0</td>\n",
       "      <td>15</td>\n",
       "      <td>1.945910</td>\n",
       "      <td>29.188652</td>\n",
       "    </tr>\n",
       "    <tr>\n",
       "      <th>3</th>\n",
       "      <td>3</td>\n",
       "      <td>3</td>\n",
       "      <td>kermitcraftofficial</td>\n",
       "      <td>3</td>\n",
       "      <td>3</td>\n",
       "      <td>1.601383e+09</td>\n",
       "      <td>0</td>\n",
       "      <td>15</td>\n",
       "      <td>1.386294</td>\n",
       "      <td>20.794415</td>\n",
       "    </tr>\n",
       "    <tr>\n",
       "      <th>4</th>\n",
       "      <td>4</td>\n",
       "      <td>4</td>\n",
       "      <td>modded_server</td>\n",
       "      <td>2</td>\n",
       "      <td>2</td>\n",
       "      <td>1.601386e+09</td>\n",
       "      <td>0</td>\n",
       "      <td>15</td>\n",
       "      <td>1.098612</td>\n",
       "      <td>16.479184</td>\n",
       "    </tr>\n",
       "  </tbody>\n",
       "</table>\n",
       "</div>"
      ],
      "text/plain": [
       "   level_0  index            communityID  subscribers_1  subscribers_2  \\\n",
       "0        0      0      weeklydiscoveries              3              1   \n",
       "1        1      1         elbowsafespace              3              3   \n",
       "2        2      2  canadastudentsnetwork              4              6   \n",
       "3        3      3    kermitcraftofficial              3              3   \n",
       "4        4      4          modded_server              2              2   \n",
       "\n",
       "   founding_date  delta  age_in_months  log_subscribers  subscribers_and_age  \n",
       "0   1.596440e+09      0             16         0.693147            11.090355  \n",
       "1   1.495570e+09      0             55         1.386294            76.246190  \n",
       "2   1.601373e+09      0             15         1.945910            29.188652  \n",
       "3   1.601383e+09      0             15         1.386294            20.794415  \n",
       "4   1.601386e+09      0             15         1.098612            16.479184  "
      ]
     },
     "execution_count": 9,
     "metadata": {},
     "output_type": "execute_result"
    }
   ],
   "source": [
    "data['log_subscribers'] = np.log(data.subscribers_2 + 1) # natural logarithm\n",
    "data['subscribers_and_age'] = data.log_subscribers * data.age_in_months\n",
    "data.dropna(inplace=True)\n",
    "data.reset_index(inplace=True)\n",
    "data.head(5)"
   ]
  },
  {
   "cell_type": "code",
   "execution_count": 10,
   "metadata": {},
   "outputs": [],
   "source": [
    "data.replace([np.inf, -np.inf], np.nan, inplace=True) # for some reason some subs have negative number of subscribers\n",
    "data.dropna(inplace=True)\n",
    "data[['communityID', 'subscribers_2', 'log_subscribers', 'age_in_months', 'subscribers_and_age', 'delta']].to_csv('data_for_modelling.csv', index=False)"
   ]
  },
  {
   "cell_type": "markdown",
   "metadata": {},
   "source": [
    "# Regression Comparisons"
   ]
  },
  {
   "cell_type": "code",
   "execution_count": 11,
   "metadata": {},
   "outputs": [
    {
     "name": "stderr",
     "output_type": "stream",
     "text": [
      "C:\\Users\\nammy\\anaconda3\\lib\\site-packages\\statsmodels\\tsa\\base\\tsa_model.py:7: FutureWarning: pandas.Int64Index is deprecated and will be removed from pandas in a future version. Use pandas.Index with the appropriate dtype instead.\n",
      "  from pandas import (to_datetime, Int64Index, DatetimeIndex, Period,\n",
      "C:\\Users\\nammy\\anaconda3\\lib\\site-packages\\statsmodels\\tsa\\base\\tsa_model.py:7: FutureWarning: pandas.Float64Index is deprecated and will be removed from pandas in a future version. Use pandas.Index with the appropriate dtype instead.\n",
      "  from pandas import (to_datetime, Int64Index, DatetimeIndex, Period,\n"
     ]
    }
   ],
   "source": [
    "import matplotlib.pyplot as plt\n",
    "import statsmodels.api as sm\n",
    "from statsmodels.formula.api import ols\n",
    "from statsmodels.stats.anova import anova_lm"
   ]
  },
  {
   "cell_type": "code",
   "execution_count": 12,
   "metadata": {},
   "outputs": [
    {
     "name": "stderr",
     "output_type": "stream",
     "text": [
      "C:\\Users\\nammy\\anaconda3\\lib\\site-packages\\statsmodels\\tsa\\tsatools.py:130: FutureWarning: In a future version of pandas all arguments of concat except for the argument 'objs' will be keyword-only.\n",
      "  x = pd.concat(x[::order], 1)\n"
     ]
    }
   ],
   "source": [
    "X = data[['subscribers_2', 'log_subscribers', 'age_in_months', 'subscribers_and_age']]\n",
    "X = sm.add_constant(X) # add intercept\n",
    "y = data.delta"
   ]
  },
  {
   "cell_type": "code",
   "execution_count": 25,
   "metadata": {},
   "outputs": [],
   "source": [
    "def f_test(ssr1, ssr2):\n",
    "    if ssr1 > ssr2:\n",
    "        return (ssr1/ssr2)\n",
    "    else:\n",
    "        return(ssr2/ssr1)"
   ]
  },
  {
   "cell_type": "markdown",
   "metadata": {},
   "source": [
    "## All Features"
   ]
  },
  {
   "cell_type": "markdown",
   "metadata": {},
   "source": [
    "Critical value is 2.3719"
   ]
  },
  {
   "cell_type": "code",
   "execution_count": 16,
   "metadata": {},
   "outputs": [
    {
     "name": "stdout",
     "output_type": "stream",
     "text": [
      "<F test: F=array([[2703.9995492]]), p=0.0, df_denom=9.4e+04, df_num=4>\n"
     ]
    }
   ],
   "source": [
    "results = sm.OLS(y, X).fit()\n",
    "\n",
    "A = np.identity(len(results.params))\n",
    "A = A[1:,:]\n",
    "print(results.f_test(A))"
   ]
  },
  {
   "cell_type": "code",
   "execution_count": 19,
   "metadata": {},
   "outputs": [],
   "source": [
    "ss1 = results.ssr"
   ]
  },
  {
   "cell_type": "code",
   "execution_count": 14,
   "metadata": {},
   "outputs": [
    {
     "name": "stdout",
     "output_type": "stream",
     "text": [
      "                            OLS Regression Results                            \n",
      "==============================================================================\n",
      "Dep. Variable:                  delta   R-squared:                       0.103\n",
      "Model:                            OLS   Adj. R-squared:                  0.103\n",
      "Method:                 Least Squares   F-statistic:                     2704.\n",
      "Date:                Thu, 05 Jan 2023   Prob (F-statistic):               0.00\n",
      "Time:                        10:46:54   Log-Likelihood:            -1.2837e+05\n",
      "No. Observations:               93990   AIC:                         2.567e+05\n",
      "Df Residuals:                   93985   BIC:                         2.568e+05\n",
      "Df Model:                           4                                         \n",
      "Covariance Type:            nonrobust                                         \n",
      "=======================================================================================\n",
      "                          coef    std err          t      P>|t|      [0.025      0.975]\n",
      "---------------------------------------------------------------------------------------\n",
      "const                   0.0133      0.009      1.486      0.137      -0.004       0.031\n",
      "subscribers_2         2.42e-05   6.24e-07     38.812      0.000     2.3e-05    2.54e-05\n",
      "log_subscribers         0.0425      0.002     25.861      0.000       0.039       0.046\n",
      "age_in_months          -0.0026      0.000     -9.568      0.000      -0.003      -0.002\n",
      "subscribers_and_age     0.0005   3.88e-05     13.426      0.000       0.000       0.001\n",
      "==============================================================================\n",
      "Omnibus:                    71790.612   Durbin-Watson:                   1.983\n",
      "Prob(Omnibus):                  0.000   Jarque-Bera (JB):          4523582.599\n",
      "Skew:                           3.145   Prob(JB):                         0.00\n",
      "Kurtosis:                      36.399   Cond. No.                     1.94e+04\n",
      "==============================================================================\n",
      "\n",
      "Warnings:\n",
      "[1] Standard Errors assume that the covariance matrix of the errors is correctly specified.\n",
      "[2] The condition number is large, 1.94e+04. This might indicate that there are\n",
      "strong multicollinearity or other numerical problems.\n"
     ]
    }
   ],
   "source": [
    "print(results.summary())"
   ]
  },
  {
   "cell_type": "markdown",
   "metadata": {},
   "source": [
    "## Subscribers"
   ]
  },
  {
   "cell_type": "markdown",
   "metadata": {},
   "source": [
    "Critical value for all of the following is 3.8415"
   ]
  },
  {
   "cell_type": "code",
   "execution_count": 20,
   "metadata": {},
   "outputs": [
    {
     "name": "stdout",
     "output_type": "stream",
     "text": [
      "<F test: F=array([[11504.91111045]]), p=0.0, df_denom=9.4e+04, df_num=1>\n"
     ]
    }
   ],
   "source": [
    "subscribers_X = np.array(X.subscribers_2).reshape(-1, 1)\n",
    "\n",
    "results = sm.OLS(y, subscribers_X).fit()\n",
    "\n",
    "A = np.identity(len(results.params))\n",
    "A = A[1:,:]\n",
    "\n",
    "print(results.f_test(1))"
   ]
  },
  {
   "cell_type": "code",
   "execution_count": 29,
   "metadata": {},
   "outputs": [
    {
     "data": {
      "text/plain": [
       "84505.31022178079"
      ]
     },
     "execution_count": 29,
     "metadata": {},
     "output_type": "execute_result"
    }
   ],
   "source": [
    "ss1"
   ]
  },
  {
   "cell_type": "code",
   "execution_count": 28,
   "metadata": {},
   "outputs": [
    {
     "data": {
      "text/plain": [
       "89201.15465382104"
      ]
     },
     "execution_count": 28,
     "metadata": {},
     "output_type": "execute_result"
    }
   ],
   "source": [
    "results.ssr"
   ]
  },
  {
   "cell_type": "code",
   "execution_count": 27,
   "metadata": {},
   "outputs": [
    {
     "data": {
      "text/plain": [
       "0.9473566855691021"
      ]
     },
     "execution_count": 27,
     "metadata": {},
     "output_type": "execute_result"
    }
   ],
   "source": [
    "f_test(ss1, results.ssr)"
   ]
  },
  {
   "cell_type": "markdown",
   "metadata": {},
   "source": [
    "for calculating p value: https://www.statology.org/f-distribution-calculator/\n",
    "\n",
    "p value here is 0.51352"
   ]
  },
  {
   "cell_type": "markdown",
   "metadata": {},
   "source": [
    "## Log of Subscribers"
   ]
  },
  {
   "cell_type": "code",
   "execution_count": 30,
   "metadata": {},
   "outputs": [
    {
     "name": "stdout",
     "output_type": "stream",
     "text": [
      "<F test: F=array([[13935.95477599]]), p=0.0, df_denom=9.4e+04, df_num=1>\n"
     ]
    }
   ],
   "source": [
    "log_subscribers_X = np.array(X.log_subscribers).reshape(-1, 1)\n",
    "\n",
    "results = sm.OLS(y, log_subscribers_X).fit()\n",
    "\n",
    "A = np.identity(len(results.params))\n",
    "A = A[1:,:]\n",
    "\n",
    "print(results.f_test(1))"
   ]
  },
  {
   "cell_type": "code",
   "execution_count": 31,
   "metadata": {},
   "outputs": [
    {
     "data": {
      "text/plain": [
       "87191.8704949352"
      ]
     },
     "execution_count": 31,
     "metadata": {},
     "output_type": "execute_result"
    }
   ],
   "source": [
    "results.ssr"
   ]
  },
  {
   "cell_type": "markdown",
   "metadata": {},
   "source": [
    "## Age in Months"
   ]
  },
  {
   "cell_type": "code",
   "execution_count": 32,
   "metadata": {},
   "outputs": [
    {
     "name": "stdout",
     "output_type": "stream",
     "text": [
      "<F test: F=array([[8012.15383508]]), p=0.0, df_denom=9.4e+04, df_num=1>\n"
     ]
    }
   ],
   "source": [
    "age_X = np.array(X.age_in_months).reshape(-1, 1)\n",
    "\n",
    "results = sm.OLS(y, age_X).fit()\n",
    "\n",
    "A = np.identity(len(results.params))\n",
    "A = A[1:,:]\n",
    "\n",
    "print(results.f_test(1))"
   ]
  },
  {
   "cell_type": "code",
   "execution_count": 33,
   "metadata": {},
   "outputs": [
    {
     "data": {
      "text/plain": [
       "92255.6101200039"
      ]
     },
     "execution_count": 33,
     "metadata": {},
     "output_type": "execute_result"
    }
   ],
   "source": [
    "results.ssr"
   ]
  },
  {
   "cell_type": "markdown",
   "metadata": {},
   "source": [
    "## Relationship Between Age and Subscribers"
   ]
  },
  {
   "cell_type": "code",
   "execution_count": 34,
   "metadata": {},
   "outputs": [
    {
     "name": "stdout",
     "output_type": "stream",
     "text": [
      "<F test: F=array([[11603.16871187]]), p=0.0, df_denom=9.4e+04, df_num=1>\n"
     ]
    }
   ],
   "source": [
    "both_X = np.array(X.subscribers_and_age).reshape(-1, 1)\n",
    "\n",
    "results = sm.OLS(y, both_X).fit()\n",
    "\n",
    "A = np.identity(len(results.params))\n",
    "A = A[1:,:]\n",
    "\n",
    "print(results.f_test(1))"
   ]
  },
  {
   "cell_type": "code",
   "execution_count": 35,
   "metadata": {},
   "outputs": [
    {
     "data": {
      "text/plain": [
       "89118.14952562912"
      ]
     },
     "execution_count": 35,
     "metadata": {},
     "output_type": "execute_result"
    }
   ],
   "source": [
    "results.ssr"
   ]
  },
  {
   "cell_type": "code",
   "execution_count": null,
   "metadata": {},
   "outputs": [],
   "source": []
  }
 ],
 "metadata": {
  "kernelspec": {
   "display_name": "Python 3",
   "language": "python",
   "name": "python3"
  },
  "language_info": {
   "codemirror_mode": {
    "name": "ipython",
    "version": 3
   },
   "file_extension": ".py",
   "mimetype": "text/x-python",
   "name": "python",
   "nbconvert_exporter": "python",
   "pygments_lexer": "ipython3",
   "version": "3.8.3"
  }
 },
 "nbformat": 4,
 "nbformat_minor": 4
}
