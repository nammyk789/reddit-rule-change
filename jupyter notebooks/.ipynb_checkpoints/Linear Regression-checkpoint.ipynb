{
 "cells": [
  {
   "cell_type": "code",
   "execution_count": 1,
   "metadata": {},
   "outputs": [],
   "source": [
    "import pandas as pd\n",
    "import numpy as np\n",
    "from statsmodels.formula.api import ols\n",
    "from statsmodels.stats.anova import anova_lm\n",
    "import os"
   ]
  },
  {
   "cell_type": "markdown",
   "metadata": {},
   "source": [
    "# Setting Data Up"
   ]
  },
  {
   "cell_type": "code",
   "execution_count": 2,
   "metadata": {},
   "outputs": [],
   "source": [
    "data = pd.read_csv(\"step3_rules.csv\")\n",
    "data['simple_types'] = data.change_type.map({'added':'added',\n",
    " 'deleted':'deleted',\n",
    " 'changed':'changed',\n",
    " 'change_added':'changed',\n",
    " 'unchanged':'unchanged'})"
   ]
  },
  {
   "cell_type": "code",
   "execution_count": 3,
   "metadata": {},
   "outputs": [],
   "source": [
    "metadata = pd.read_csv(\"metadata.csv\")\n",
    "metadata['log_subscribers'] = np.log(metadata.subscribers_1 + 2)\n",
    "metadata.founding_date = pd.to_datetime(metadata.founding_date * 10**9)\n",
    "metadata['age_in_months'] = \\\n",
    "        (pd.to_datetime('2021-12-11') - metadata.founding_date)/ np.timedelta64(1, 'M')\n",
    "metadata.drop(columns=['subscribers_1', 'moderators_1', 'moderators_2', 'founding_date'], inplace=True)"
   ]
  },
  {
   "cell_type": "code",
   "execution_count": 4,
   "metadata": {},
   "outputs": [],
   "source": [
    "relevant_columns = data[[\"communityID\", \"simple_types\"]]\n",
    "piv_df = pd.pivot_table(relevant_columns, index=['communityID'], columns=['simple_types'], aggfunc=len, fill_value=0)\n",
    "piv_df['total'] = piv_df.added + piv_df.changed + piv_df.deleted + piv_df.unchanged"
   ]
  },
  {
   "cell_type": "code",
   "execution_count": 5,
   "metadata": {},
   "outputs": [],
   "source": [
    "piv_df['delta'] = piv_df.added - piv_df.deleted"
   ]
  },
  {
   "cell_type": "code",
   "execution_count": 6,
   "metadata": {},
   "outputs": [
    {
     "data": {
      "text/html": [
       "<div>\n",
       "<style scoped>\n",
       "    .dataframe tbody tr th:only-of-type {\n",
       "        vertical-align: middle;\n",
       "    }\n",
       "\n",
       "    .dataframe tbody tr th {\n",
       "        vertical-align: top;\n",
       "    }\n",
       "\n",
       "    .dataframe thead th {\n",
       "        text-align: right;\n",
       "    }\n",
       "</style>\n",
       "<table border=\"1\" class=\"dataframe\">\n",
       "  <thead>\n",
       "    <tr style=\"text-align: right;\">\n",
       "      <th></th>\n",
       "      <th>delta</th>\n",
       "      <th>subscribers_2</th>\n",
       "      <th>log_subscribers</th>\n",
       "      <th>age_in_months</th>\n",
       "      <th>age_and_subs</th>\n",
       "    </tr>\n",
       "    <tr>\n",
       "      <th>communityID</th>\n",
       "      <th></th>\n",
       "      <th></th>\n",
       "      <th></th>\n",
       "      <th></th>\n",
       "      <th></th>\n",
       "    </tr>\n",
       "  </thead>\n",
       "  <tbody>\n",
       "    <tr>\n",
       "      <th>000somethingintheway</th>\n",
       "      <td>0</td>\n",
       "      <td>0</td>\n",
       "      <td>0.693147</td>\n",
       "      <td>33.246182</td>\n",
       "      <td>23.044497</td>\n",
       "    </tr>\n",
       "    <tr>\n",
       "      <th>007nightfire</th>\n",
       "      <td>0</td>\n",
       "      <td>91</td>\n",
       "      <td>4.248495</td>\n",
       "      <td>11.148441</td>\n",
       "      <td>47.364097</td>\n",
       "    </tr>\n",
       "    <tr>\n",
       "      <th>00games</th>\n",
       "      <td>0</td>\n",
       "      <td>3</td>\n",
       "      <td>1.386294</td>\n",
       "      <td>22.218503</td>\n",
       "      <td>30.801385</td>\n",
       "    </tr>\n",
       "    <tr>\n",
       "      <th>00saesthetics</th>\n",
       "      <td>0</td>\n",
       "      <td>2995</td>\n",
       "      <td>7.950855</td>\n",
       "      <td>28.997690</td>\n",
       "      <td>230.556424</td>\n",
       "    </tr>\n",
       "    <tr>\n",
       "      <th>00sbabies</th>\n",
       "      <td>1</td>\n",
       "      <td>298</td>\n",
       "      <td>5.710427</td>\n",
       "      <td>16.535742</td>\n",
       "      <td>94.426147</td>\n",
       "    </tr>\n",
       "    <tr>\n",
       "      <th>...</th>\n",
       "      <td>...</td>\n",
       "      <td>...</td>\n",
       "      <td>...</td>\n",
       "      <td>...</td>\n",
       "      <td>...</td>\n",
       "    </tr>\n",
       "    <tr>\n",
       "      <th>zyramains</th>\n",
       "      <td>0</td>\n",
       "      <td>11382</td>\n",
       "      <td>9.219003</td>\n",
       "      <td>83.447118</td>\n",
       "      <td>769.299207</td>\n",
       "    </tr>\n",
       "    <tr>\n",
       "      <th>zyrocrimson</th>\n",
       "      <td>3</td>\n",
       "      <td>2</td>\n",
       "      <td>1.386294</td>\n",
       "      <td>15.794000</td>\n",
       "      <td>21.895133</td>\n",
       "    </tr>\n",
       "    <tr>\n",
       "      <th>zywieczdrojhomies</th>\n",
       "      <td>0</td>\n",
       "      <td>1</td>\n",
       "      <td>1.098612</td>\n",
       "      <td>8.089328</td>\n",
       "      <td>8.887036</td>\n",
       "    </tr>\n",
       "    <tr>\n",
       "      <th>zyzz</th>\n",
       "      <td>0</td>\n",
       "      <td>11991</td>\n",
       "      <td>8.888343</td>\n",
       "      <td>124.417792</td>\n",
       "      <td>1105.867998</td>\n",
       "    </tr>\n",
       "    <tr>\n",
       "      <th>zztails</th>\n",
       "      <td>0</td>\n",
       "      <td>142</td>\n",
       "      <td>4.934474</td>\n",
       "      <td>35.114908</td>\n",
       "      <td>173.273598</td>\n",
       "    </tr>\n",
       "  </tbody>\n",
       "</table>\n",
       "<p>94041 rows × 5 columns</p>\n",
       "</div>"
      ],
      "text/plain": [
       "                      delta  subscribers_2  log_subscribers  age_in_months  \\\n",
       "communityID                                                                  \n",
       "000somethingintheway      0              0         0.693147      33.246182   \n",
       "007nightfire              0             91         4.248495      11.148441   \n",
       "00games                   0              3         1.386294      22.218503   \n",
       "00saesthetics             0           2995         7.950855      28.997690   \n",
       "00sbabies                 1            298         5.710427      16.535742   \n",
       "...                     ...            ...              ...            ...   \n",
       "zyramains                 0          11382         9.219003      83.447118   \n",
       "zyrocrimson               3              2         1.386294      15.794000   \n",
       "zywieczdrojhomies         0              1         1.098612       8.089328   \n",
       "zyzz                      0          11991         8.888343     124.417792   \n",
       "zztails                   0            142         4.934474      35.114908   \n",
       "\n",
       "                      age_and_subs  \n",
       "communityID                         \n",
       "000somethingintheway     23.044497  \n",
       "007nightfire             47.364097  \n",
       "00games                  30.801385  \n",
       "00saesthetics           230.556424  \n",
       "00sbabies                94.426147  \n",
       "...                            ...  \n",
       "zyramains               769.299207  \n",
       "zyrocrimson              21.895133  \n",
       "zywieczdrojhomies         8.887036  \n",
       "zyzz                   1105.867998  \n",
       "zztails                 173.273598  \n",
       "\n",
       "[94041 rows x 5 columns]"
      ]
     },
     "execution_count": 6,
     "metadata": {},
     "output_type": "execute_result"
    }
   ],
   "source": [
    "regression_data = piv_df[['delta']].join(metadata.set_index('communityID'))\n",
    "regression_data['age_and_subs'] = regression_data.log_subscribers * regression_data.age_in_months\n",
    "regression_data"
   ]
  },
  {
   "cell_type": "code",
   "execution_count": 7,
   "metadata": {},
   "outputs": [
    {
     "data": {
      "text/plain": [
       "delta              False\n",
       "subscribers_2      False\n",
       "log_subscribers    False\n",
       "age_in_months      False\n",
       "age_and_subs       False\n",
       "dtype: bool"
      ]
     },
     "execution_count": 7,
     "metadata": {},
     "output_type": "execute_result"
    }
   ],
   "source": [
    "regression_data.replace([np.inf, -np.inf], np.nan, inplace=True)\n",
    "regression_data.isna().any()"
   ]
  },
  {
   "cell_type": "markdown",
   "metadata": {},
   "source": [
    "# Regression Comparisons"
   ]
  },
  {
   "cell_type": "code",
   "execution_count": 8,
   "metadata": {},
   "outputs": [
    {
     "name": "stdout",
     "output_type": "stream",
     "text": [
      "   df_resid           ssr  df_diff     ss_diff           F  Pr(>F)\n",
      "0   94036.0  84448.333498      0.0         NaN         NaN     NaN\n",
      "1   94039.0  87119.998448     -3.0 -2671.66495  961.282158     NaN\n"
     ]
    }
   ],
   "source": [
    "m01 = ols('delta ~ subscribers_2 + log_subscribers + age_in_months + age_and_subs', data=regression_data).fit()\n",
    "m02 = ols('delta ~ subscribers_2', data=regression_data).fit()\n",
    "m03 = ols('delta ~ log_subscribers', data=regression_data).fit()\n",
    "m04 = ols('delta ~ age_in_months', data=regression_data).fit()\n",
    "m05 = ols('delta ~ age_and_subs', data=regression_data).fit()\n",
    "anovaResults = anova_lm(m01, m02)\n",
    "print(anovaResults)"
   ]
  },
  {
   "cell_type": "code",
   "execution_count": 9,
   "metadata": {},
   "outputs": [
    {
     "name": "stdout",
     "output_type": "stream",
     "text": [
      "   df_resid           ssr  df_diff      ss_diff           F  Pr(>F)\n",
      "0   94036.0  84448.333498      0.0          NaN         NaN     NaN\n",
      "1   94039.0  86404.454175     -3.0 -1956.120677  709.653355     NaN\n"
     ]
    }
   ],
   "source": [
    "anovaResults = anova_lm(m01, m03)\n",
    "print(anovaResults)"
   ]
  },
  {
   "cell_type": "code",
   "execution_count": 10,
   "metadata": {},
   "outputs": [
    {
     "name": "stdout",
     "output_type": "stream",
     "text": [
      "   df_resid           ssr  df_diff      ss_diff            F  Pr(>F)\n",
      "0   94036.0  84448.333498      0.0          NaN          NaN     NaN\n",
      "1   94039.0  92085.684676     -3.0 -7637.351178  2599.784718     NaN\n"
     ]
    }
   ],
   "source": [
    "anovaResults = anova_lm(m01, m04)\n",
    "print(anovaResults)"
   ]
  },
  {
   "cell_type": "code",
   "execution_count": 11,
   "metadata": {},
   "outputs": [
    {
     "name": "stdout",
     "output_type": "stream",
     "text": [
      "   df_resid           ssr  df_diff      ss_diff            F  Pr(>F)\n",
      "0   94036.0  84448.333498      0.0          NaN          NaN     NaN\n",
      "1   94039.0  88854.517932     -3.0 -4406.184434  1554.425472     NaN\n"
     ]
    }
   ],
   "source": [
    "anovaResults = anova_lm(m01, m05)\n",
    "print(anovaResults)"
   ]
  },
  {
   "cell_type": "code",
   "execution_count": null,
   "metadata": {},
   "outputs": [],
   "source": []
  }
 ],
 "metadata": {
  "kernelspec": {
   "display_name": "Python 3",
   "language": "python",
   "name": "python3"
  },
  "language_info": {
   "codemirror_mode": {
    "name": "ipython",
    "version": 3
   },
   "file_extension": ".py",
   "mimetype": "text/x-python",
   "name": "python",
   "nbconvert_exporter": "python",
   "pygments_lexer": "ipython3",
   "version": "3.8.3"
  }
 },
 "nbformat": 4,
 "nbformat_minor": 4
}
