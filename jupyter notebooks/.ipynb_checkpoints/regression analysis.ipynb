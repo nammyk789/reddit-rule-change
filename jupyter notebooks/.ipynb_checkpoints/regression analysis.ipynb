{
 "cells": [
  {
   "cell_type": "markdown",
   "metadata": {},
   "source": [
    "https://medium.com/analytics-vidhya/f-statistic-understanding-model-significance-using-python-c1371980b796\n",
    "\n",
    "https://sites.duke.edu/bossbackup/files/2013/02/FTestTutorial.pdf"
   ]
  },
  {
   "cell_type": "code",
   "execution_count": 1,
   "metadata": {},
   "outputs": [],
   "source": [
    "import pandas as pd\n",
    "from datetime import datetime\n",
    "import numpy as np"
   ]
  },
  {
   "cell_type": "markdown",
   "metadata": {},
   "source": [
    "# Preparing Data"
   ]
  },
  {
   "cell_type": "code",
   "execution_count": 2,
   "metadata": {},
   "outputs": [
    {
     "data": {
      "text/html": [
       "<div>\n",
       "<style scoped>\n",
       "    .dataframe tbody tr th:only-of-type {\n",
       "        vertical-align: middle;\n",
       "    }\n",
       "\n",
       "    .dataframe tbody tr th {\n",
       "        vertical-align: top;\n",
       "    }\n",
       "\n",
       "    .dataframe thead th {\n",
       "        text-align: right;\n",
       "    }\n",
       "</style>\n",
       "<table border=\"1\" class=\"dataframe\">\n",
       "  <thead>\n",
       "    <tr style=\"text-align: right;\">\n",
       "      <th></th>\n",
       "      <th>communityID</th>\n",
       "      <th>subscribers_1</th>\n",
       "      <th>subscribers_2</th>\n",
       "      <th>founding_date</th>\n",
       "    </tr>\n",
       "  </thead>\n",
       "  <tbody>\n",
       "    <tr>\n",
       "      <th>0</th>\n",
       "      <td>weeklydiscoveries</td>\n",
       "      <td>3</td>\n",
       "      <td>1</td>\n",
       "      <td>1.596440e+09</td>\n",
       "    </tr>\n",
       "    <tr>\n",
       "      <th>1</th>\n",
       "      <td>elbowsafespace</td>\n",
       "      <td>3</td>\n",
       "      <td>3</td>\n",
       "      <td>1.495570e+09</td>\n",
       "    </tr>\n",
       "    <tr>\n",
       "      <th>2</th>\n",
       "      <td>canadastudentsnetwork</td>\n",
       "      <td>4</td>\n",
       "      <td>6</td>\n",
       "      <td>1.601373e+09</td>\n",
       "    </tr>\n",
       "    <tr>\n",
       "      <th>3</th>\n",
       "      <td>kermitcraftofficial</td>\n",
       "      <td>3</td>\n",
       "      <td>3</td>\n",
       "      <td>1.601383e+09</td>\n",
       "    </tr>\n",
       "    <tr>\n",
       "      <th>4</th>\n",
       "      <td>modded_server</td>\n",
       "      <td>2</td>\n",
       "      <td>2</td>\n",
       "      <td>1.601386e+09</td>\n",
       "    </tr>\n",
       "  </tbody>\n",
       "</table>\n",
       "</div>"
      ],
      "text/plain": [
       "             communityID  subscribers_1  subscribers_2  founding_date\n",
       "0      weeklydiscoveries              3              1   1.596440e+09\n",
       "1         elbowsafespace              3              3   1.495570e+09\n",
       "2  canadastudentsnetwork              4              6   1.601373e+09\n",
       "3    kermitcraftofficial              3              3   1.601383e+09\n",
       "4          modded_server              2              2   1.601386e+09"
      ]
     },
     "execution_count": 2,
     "metadata": {},
     "output_type": "execute_result"
    }
   ],
   "source": [
    "metadata = pd.read_csv('metadata.csv')\n",
    "metadata.drop(columns=['moderators_1', 'moderators_2'], inplace=True)\n",
    "metadata.head()"
   ]
  },
  {
   "cell_type": "code",
   "execution_count": 3,
   "metadata": {},
   "outputs": [],
   "source": [
    "df = pd.read_csv(\"step3_rules.csv\")\n",
    "df.sort_values(by=[\"communityID\", \"ruleID\", \"source\"], inplace=True)"
   ]
  },
  {
   "cell_type": "code",
   "execution_count": 4,
   "metadata": {},
   "outputs": [],
   "source": [
    "df['simple_types'] = df.change_type.map({'added':'added',\n",
    " 'change':'changed',\n",
    " 'deleted':'deleted',\n",
    " 'change_added':'changed',\n",
    " 'unchanged':'unchanged'})"
   ]
  },
  {
   "cell_type": "code",
   "execution_count": 5,
   "metadata": {},
   "outputs": [
    {
     "data": {
      "text/html": [
       "<div>\n",
       "<style scoped>\n",
       "    .dataframe tbody tr th:only-of-type {\n",
       "        vertical-align: middle;\n",
       "    }\n",
       "\n",
       "    .dataframe tbody tr th {\n",
       "        vertical-align: top;\n",
       "    }\n",
       "\n",
       "    .dataframe thead th {\n",
       "        text-align: right;\n",
       "    }\n",
       "</style>\n",
       "<table border=\"1\" class=\"dataframe\">\n",
       "  <thead>\n",
       "    <tr style=\"text-align: right;\">\n",
       "      <th>simple_types</th>\n",
       "      <th>added</th>\n",
       "      <th>changed</th>\n",
       "      <th>deleted</th>\n",
       "      <th>unchanged</th>\n",
       "      <th>delta</th>\n",
       "    </tr>\n",
       "    <tr>\n",
       "      <th>communityID</th>\n",
       "      <th></th>\n",
       "      <th></th>\n",
       "      <th></th>\n",
       "      <th></th>\n",
       "      <th></th>\n",
       "    </tr>\n",
       "  </thead>\n",
       "  <tbody>\n",
       "    <tr>\n",
       "      <th>000somethingintheway</th>\n",
       "      <td>0</td>\n",
       "      <td>0</td>\n",
       "      <td>0</td>\n",
       "      <td>1</td>\n",
       "      <td>0</td>\n",
       "    </tr>\n",
       "    <tr>\n",
       "      <th>007nightfire</th>\n",
       "      <td>0</td>\n",
       "      <td>0</td>\n",
       "      <td>0</td>\n",
       "      <td>5</td>\n",
       "      <td>0</td>\n",
       "    </tr>\n",
       "    <tr>\n",
       "      <th>00games</th>\n",
       "      <td>0</td>\n",
       "      <td>0</td>\n",
       "      <td>0</td>\n",
       "      <td>4</td>\n",
       "      <td>0</td>\n",
       "    </tr>\n",
       "    <tr>\n",
       "      <th>00saesthetics</th>\n",
       "      <td>0</td>\n",
       "      <td>0</td>\n",
       "      <td>0</td>\n",
       "      <td>6</td>\n",
       "      <td>0</td>\n",
       "    </tr>\n",
       "    <tr>\n",
       "      <th>00sbabies</th>\n",
       "      <td>1</td>\n",
       "      <td>0</td>\n",
       "      <td>0</td>\n",
       "      <td>5</td>\n",
       "      <td>1</td>\n",
       "    </tr>\n",
       "  </tbody>\n",
       "</table>\n",
       "</div>"
      ],
      "text/plain": [
       "simple_types          added  changed  deleted  unchanged  delta\n",
       "communityID                                                    \n",
       "000somethingintheway      0        0        0          1      0\n",
       "007nightfire              0        0        0          5      0\n",
       "00games                   0        0        0          4      0\n",
       "00saesthetics             0        0        0          6      0\n",
       "00sbabies                 1        0        0          5      1"
      ]
     },
     "execution_count": 5,
     "metadata": {},
     "output_type": "execute_result"
    }
   ],
   "source": [
    "relevant_columns = df[[\"communityID\", \"simple_types\"]]\n",
    "piv_df = pd.pivot_table(relevant_columns, index=['communityID'], columns=['simple_types'], aggfunc=len, fill_value=0)\n",
    "piv_df['delta'] = piv_df['added'] - piv_df['deleted']\n",
    "piv_df.head(5)"
   ]
  },
  {
   "cell_type": "code",
   "execution_count": 6,
   "metadata": {},
   "outputs": [],
   "source": [
    "data = metadata.join(piv_df[['delta']], on='communityID', how='inner')\n",
    "data.reset_index(inplace=True)"
   ]
  },
  {
   "cell_type": "code",
   "execution_count": 7,
   "metadata": {},
   "outputs": [],
   "source": [
    "def age_in_months(start_date):\n",
    "    start_date = datetime.fromtimestamp(start_date) \n",
    "    end_date = datetime.strptime(\"2021-12-10 00:00:00.000\", \"%Y-%m-%d %H:%M:%S.%f\") \n",
    "    return (end_date.year - start_date.year) * 12 + (end_date.month - start_date.month)"
   ]
  },
  {
   "cell_type": "code",
   "execution_count": 8,
   "metadata": {},
   "outputs": [],
   "source": [
    "age = [age_in_months(data.founding_date[i]) for i in range(len(data))]\n",
    "data['age_in_months'] = age"
   ]
  },
  {
   "cell_type": "code",
   "execution_count": 9,
   "metadata": {},
   "outputs": [
    {
     "name": "stderr",
     "output_type": "stream",
     "text": [
      "C:\\Users\\nammy\\anaconda3\\lib\\site-packages\\pandas\\core\\arraylike.py:397: RuntimeWarning: divide by zero encountered in log\n",
      "  result = getattr(ufunc, method)(*inputs, **kwargs)\n"
     ]
    },
    {
     "data": {
      "text/html": [
       "<div>\n",
       "<style scoped>\n",
       "    .dataframe tbody tr th:only-of-type {\n",
       "        vertical-align: middle;\n",
       "    }\n",
       "\n",
       "    .dataframe tbody tr th {\n",
       "        vertical-align: top;\n",
       "    }\n",
       "\n",
       "    .dataframe thead th {\n",
       "        text-align: right;\n",
       "    }\n",
       "</style>\n",
       "<table border=\"1\" class=\"dataframe\">\n",
       "  <thead>\n",
       "    <tr style=\"text-align: right;\">\n",
       "      <th></th>\n",
       "      <th>level_0</th>\n",
       "      <th>index</th>\n",
       "      <th>communityID</th>\n",
       "      <th>subscribers_1</th>\n",
       "      <th>subscribers_2</th>\n",
       "      <th>founding_date</th>\n",
       "      <th>delta</th>\n",
       "      <th>age_in_months</th>\n",
       "      <th>log_subscribers</th>\n",
       "      <th>subscribers_and_age</th>\n",
       "    </tr>\n",
       "  </thead>\n",
       "  <tbody>\n",
       "    <tr>\n",
       "      <th>0</th>\n",
       "      <td>0</td>\n",
       "      <td>0</td>\n",
       "      <td>weeklydiscoveries</td>\n",
       "      <td>3</td>\n",
       "      <td>1</td>\n",
       "      <td>1.596440e+09</td>\n",
       "      <td>0</td>\n",
       "      <td>16</td>\n",
       "      <td>0.693147</td>\n",
       "      <td>11.090355</td>\n",
       "    </tr>\n",
       "    <tr>\n",
       "      <th>1</th>\n",
       "      <td>1</td>\n",
       "      <td>1</td>\n",
       "      <td>elbowsafespace</td>\n",
       "      <td>3</td>\n",
       "      <td>3</td>\n",
       "      <td>1.495570e+09</td>\n",
       "      <td>0</td>\n",
       "      <td>55</td>\n",
       "      <td>1.386294</td>\n",
       "      <td>76.246190</td>\n",
       "    </tr>\n",
       "    <tr>\n",
       "      <th>2</th>\n",
       "      <td>2</td>\n",
       "      <td>2</td>\n",
       "      <td>canadastudentsnetwork</td>\n",
       "      <td>4</td>\n",
       "      <td>6</td>\n",
       "      <td>1.601373e+09</td>\n",
       "      <td>0</td>\n",
       "      <td>15</td>\n",
       "      <td>1.945910</td>\n",
       "      <td>29.188652</td>\n",
       "    </tr>\n",
       "    <tr>\n",
       "      <th>3</th>\n",
       "      <td>3</td>\n",
       "      <td>3</td>\n",
       "      <td>kermitcraftofficial</td>\n",
       "      <td>3</td>\n",
       "      <td>3</td>\n",
       "      <td>1.601383e+09</td>\n",
       "      <td>0</td>\n",
       "      <td>15</td>\n",
       "      <td>1.386294</td>\n",
       "      <td>20.794415</td>\n",
       "    </tr>\n",
       "    <tr>\n",
       "      <th>4</th>\n",
       "      <td>4</td>\n",
       "      <td>4</td>\n",
       "      <td>modded_server</td>\n",
       "      <td>2</td>\n",
       "      <td>2</td>\n",
       "      <td>1.601386e+09</td>\n",
       "      <td>0</td>\n",
       "      <td>15</td>\n",
       "      <td>1.098612</td>\n",
       "      <td>16.479184</td>\n",
       "    </tr>\n",
       "  </tbody>\n",
       "</table>\n",
       "</div>"
      ],
      "text/plain": [
       "   level_0  index            communityID  subscribers_1  subscribers_2  \\\n",
       "0        0      0      weeklydiscoveries              3              1   \n",
       "1        1      1         elbowsafespace              3              3   \n",
       "2        2      2  canadastudentsnetwork              4              6   \n",
       "3        3      3    kermitcraftofficial              3              3   \n",
       "4        4      4          modded_server              2              2   \n",
       "\n",
       "   founding_date  delta  age_in_months  log_subscribers  subscribers_and_age  \n",
       "0   1.596440e+09      0             16         0.693147            11.090355  \n",
       "1   1.495570e+09      0             55         1.386294            76.246190  \n",
       "2   1.601373e+09      0             15         1.945910            29.188652  \n",
       "3   1.601383e+09      0             15         1.386294            20.794415  \n",
       "4   1.601386e+09      0             15         1.098612            16.479184  "
      ]
     },
     "execution_count": 9,
     "metadata": {},
     "output_type": "execute_result"
    }
   ],
   "source": [
    "data['log_subscribers'] = np.log(data.subscribers_2 + 1) # natural logarithm\n",
    "data['subscribers_and_age'] = data.log_subscribers * data.age_in_months\n",
    "data.dropna(inplace=True)\n",
    "data.reset_index(inplace=True)\n",
    "data.head(5)"
   ]
  },
  {
   "cell_type": "code",
   "execution_count": 10,
   "metadata": {},
   "outputs": [],
   "source": [
    "data.replace([np.inf, -np.inf], np.nan, inplace=True) # for some reason some subs have negative number of subscribers\n",
    "data.dropna(inplace=True)\n",
    "data[['communityID', 'subscribers_2', 'log_subscribers', 'age_in_months', 'subscribers_and_age', 'delta']].to_csv('data_for_modelling.csv', index=False)"
   ]
  },
  {
   "cell_type": "markdown",
   "metadata": {},
   "source": [
    "# Regression Comparisons"
   ]
  },
  {
   "cell_type": "code",
   "execution_count": 43,
   "metadata": {},
   "outputs": [],
   "source": [
    "import matplotlib.pyplot as plt\n",
    "import statsmodels.api as sm\n",
    "from statsmodels.formula.api import ols\n",
    "from statsmodels.stats.anova import anova_lm"
   ]
  },
  {
   "cell_type": "code",
   "execution_count": 44,
   "metadata": {},
   "outputs": [],
   "source": [
    "model_data =  data[['subscribers_2', 'log_subscribers', 'age_in_months', 'subscribers_and_age']]"
   ]
  },
  {
   "cell_type": "code",
   "execution_count": 46,
   "metadata": {},
   "outputs": [
    {
     "name": "stdout",
     "output_type": "stream",
     "text": [
      "comparison with just age\n",
      "   df_resid           ssr  df_diff      ss_diff           F  Pr(>F)\n",
      "0   93988.0  92077.798809      0.0          NaN         NaN     NaN\n",
      "1   93985.0  84505.310222      3.0  7572.488587  2807.31999     0.0\n"
     ]
    }
   ],
   "source": [
    "m_age = ols('delta ~ age_in_months', data=subsection).fit()\n",
    "m_all = ols('delta ~ subscribers_2 + log_subscribers + age_in_months + subscribers_and_age', data=subsection).fit()\n",
    "anovaResults = anova_lm(m_age, m_all)\n",
    "print('comparison with just age')\n",
    "print(anovaResults)"
   ]
  },
  {
   "cell_type": "code",
   "execution_count": 47,
   "metadata": {},
   "outputs": [
    {
     "name": "stdout",
     "output_type": "stream",
     "text": [
      "comparison with just subscribers\n",
      "   df_resid           ssr  df_diff      ss_diff           F  Pr(>F)\n",
      "0   93988.0  87107.042734      0.0          NaN         NaN     NaN\n",
      "1   93985.0  84505.310222      3.0  2601.732512  964.530432     0.0\n"
     ]
    }
   ],
   "source": [
    "m_subscribers = ols('delta ~ subscribers_2', data=subsection).fit()\n",
    "anovaResults = anova_lm(m_subscribers, m_all)\n",
    "print('comparison with just subscribers')\n",
    "print(anovaResults)"
   ]
  },
  {
   "cell_type": "code",
   "execution_count": 48,
   "metadata": {},
   "outputs": [
    {
     "name": "stdout",
     "output_type": "stream",
     "text": [
      "comparison with just log(subscribers)\n",
      "   df_resid           ssr  df_diff      ss_diff           F  Pr(>F)\n",
      "0   93988.0  86632.104900      0.0          NaN         NaN     NaN\n",
      "1   93985.0  84505.310222      3.0  2126.794678  788.458529     0.0\n"
     ]
    }
   ],
   "source": [
    "m_l_subscribers = ols('delta ~ log_subscribers', data=subsection).fit()\n",
    "anovaResults = anova_lm(m_l_subscribers, m_all)\n",
    "print('comparison with just log(subscribers)')\n",
    "print(anovaResults)"
   ]
  },
  {
   "cell_type": "code",
   "execution_count": 49,
   "metadata": {},
   "outputs": [
    {
     "name": "stdout",
     "output_type": "stream",
     "text": [
      "comparison with just age\n",
      "   df_resid           ssr  df_diff      ss_diff           F  Pr(>F)\n",
      "0   93988.0  92077.798809      0.0          NaN         NaN     NaN\n",
      "1   93985.0  84505.310222      3.0  7572.488587  2807.31999     0.0\n"
     ]
    }
   ],
   "source": [
    "m_age = ols('delta ~ age_in_months', data=subsection).fit()\n",
    "anovaResults = anova_lm(m_age, m_all)\n",
    "print('comparison with just age')\n",
    "print(anovaResults)"
   ]
  },
  {
   "cell_type": "code",
   "execution_count": 50,
   "metadata": {},
   "outputs": [
    {
     "name": "stdout",
     "output_type": "stream",
     "text": [
      "comparison with just relationship between subscribers and age\n",
      "   df_resid           ssr  df_diff      ss_diff            F  Pr(>F)\n",
      "0   93988.0  88754.371710      0.0          NaN          NaN     NaN\n",
      "1   93985.0  84505.310222      3.0  4249.061488  1575.238459     0.0\n"
     ]
    }
   ],
   "source": [
    "m_subscribers_and_age = ols('delta ~ subscribers_and_age', data=subsection).fit()\n",
    "anovaResults = anova_lm(m_subscribers_and_age, m_all)\n",
    "print('comparison with just relationship between subscribers and age')\n",
    "print(anovaResults)"
   ]
  },
  {
   "cell_type": "code",
   "execution_count": 54,
   "metadata": {},
   "outputs": [
    {
     "name": "stdout",
     "output_type": "stream",
     "text": [
      "   df_resid           ssr  df_diff     ss_diff          F        Pr(>F)\n",
      "0   93986.0  84667.397791      0.0         NaN        NaN           NaN\n",
      "1   93985.0  84505.310222      1.0  162.087569  180.27033  4.616420e-41\n"
     ]
    }
   ],
   "source": [
    "m01 = ols('delta ~ subscribers_2 + log_subscribers + age_in_months + subscribers_and_age', data=subsection).fit()\n",
    "m02 = ols('delta ~ subscribers_2 + log_subscribers + age_in_months + subscribers_and_age', data=subsection).fit()\n",
    "anovaResults = anova_lm(m01, m02)\n",
    "print(anovaResults)"
   ]
  },
  {
   "cell_type": "code",
   "execution_count": null,
   "metadata": {},
   "outputs": [],
   "source": []
  }
 ],
 "metadata": {
  "kernelspec": {
   "display_name": "Python 3",
   "language": "python",
   "name": "python3"
  },
  "language_info": {
   "codemirror_mode": {
    "name": "ipython",
    "version": 3
   },
   "file_extension": ".py",
   "mimetype": "text/x-python",
   "name": "python",
   "nbconvert_exporter": "python",
   "pygments_lexer": "ipython3",
   "version": "3.8.3"
  }
 },
 "nbformat": 4,
 "nbformat_minor": 4
}
