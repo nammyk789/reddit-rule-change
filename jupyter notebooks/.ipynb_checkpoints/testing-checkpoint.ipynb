{
 "cells": [
  {
   "cell_type": "code",
   "execution_count": 1,
   "metadata": {},
   "outputs": [],
   "source": [
    "import json\n",
    "from pprint import pprint\n",
    "from collections import OrderedDict, Counter"
   ]
  },
  {
   "cell_type": "code",
   "execution_count": 2,
   "metadata": {},
   "outputs": [
    {
     "name": "stdout",
     "output_type": "stream",
     "text": [
      "10\n",
      "10\n",
      "10\n",
      "10\n",
      "10\n",
      "10\n",
      "10\n",
      "10\n",
      "10\n",
      "10\n",
      "10\n",
      "10\n",
      "10\n",
      "10\n",
      "10\n",
      "10\n",
      "10\n",
      "10\n",
      "10\n",
      "10\n",
      "10\n",
      "fails:0\n",
      "subs stored: ['funny', 'AskReddit', 'gaming', 'aww', 'Music', 'pics', 'science', 'worldnews', 'todayilearned', 'videos', 'movies', 'news', 'Showerthoughts', 'EarthPorn', 'IAmA', 'food', 'gifs', 'askscience', 'Jokes', 'LifeProTips']\n",
      "subs with mods: ['funny', 'AskReddit', 'gaming', 'aww', 'Music', 'pics', 'science', 'worldnews', 'todayilearned', 'videos', 'movies', 'news', 'Showerthoughts', 'EarthPorn', 'IAmA', 'food', 'gifs', 'askscience', 'Jokes', 'LifeProTips', 'explainlikeimfive']\n"
     ]
    }
   ],
   "source": [
    "mods = []\n",
    "sub_list_1 = []\n",
    "fails = 0\n",
    "count = 0\n",
    "with open('full_reddit_metadata_apr_23.jsonl') as apr_23:\n",
    "    with open('test1.jsonl', 'w') as test1:\n",
    "        for i, line in enumerate(apr_23):\n",
    "            try:\n",
    "                sub = json.loads(line)\n",
    "            except:\n",
    "                continue\n",
    "            if 'rules_widget' in sub.keys(): \n",
    "                if len(sub['rules_widget']) > 0: # if the sub has rules\n",
    "                    pass\n",
    "                else:\n",
    "                    continue\n",
    "            else:\n",
    "                continue\n",
    "            try:\n",
    "                if len(sub['moderator']['mod_list']) > 0:\n",
    "                    mods.append(sub['sub_name'])\n",
    "                    print(len(sub['moderator']['mod_list']))\n",
    "                else:\n",
    "                    continue\n",
    "            except:\n",
    "                fails += 1\n",
    "                continue\n",
    "            if count < 20:\n",
    "                sub_list_1.append(sub['sub_name'])\n",
    "                json.dump(sub, test1)\n",
    "                test1.write('\\n')\n",
    "                count += 1\n",
    "            else:\n",
    "                break\n",
    "print(f'fails:{fails}')\n",
    "print(f'subs stored: {sub_list_1}')\n",
    "print(f'subs with mods: {mods}')"
   ]
  },
  {
   "cell_type": "code",
   "execution_count": 3,
   "metadata": {},
   "outputs": [],
   "source": [
    "with open('test1.jsonl', 'r') as test1:\n",
    "    for i, line in enumerate(test1):\n",
    "            try:\n",
    "                sub = json.loads(line)\n",
    "            except:\n",
    "                continue\n",
    "            try:\n",
    "                if len(sub['moderator']['mod_list']) > 0:\n",
    "                    print('yep')\n",
    "            except:\n",
    "                print('nope')"
   ]
  },
  {
   "cell_type": "code",
   "execution_count": 3,
   "metadata": {},
   "outputs": [
    {
     "name": "stdout",
     "output_type": "stream",
     "text": [
      "0\n",
      "0\n",
      "0\n",
      "0\n",
      "0\n",
      "0\n",
      "0\n",
      "0\n",
      "0\n",
      "0\n",
      "0\n",
      "0\n",
      "0\n",
      "0\n",
      "0\n",
      "0\n",
      "0\n",
      "0\n",
      "0\n",
      "subs stored: ['funny', 'AskReddit', 'gaming', 'aww', 'Music', 'pics', 'worldnews', 'science', 'todayilearned', 'movies', 'videos', 'news', 'Showerthoughts', 'Jokes', 'food', 'askscience', 'EarthPorn', 'IAmA', 'gifs', 'nottheonion']\n",
      "subs with mods: ['funny', 'AskReddit', 'gaming', 'aww', 'Music', 'pics', 'worldnews', 'science', 'todayilearned', 'movies', 'videos', 'news', 'Showerthoughts', 'Jokes', 'food', 'askscience', 'EarthPorn', 'IAmA', 'gifs']\n",
      "intersection: 19\n"
     ]
    }
   ],
   "source": [
    "count = 0\n",
    "overlap = False\n",
    "sub_list_2 = []\n",
    "mods_2 = []\n",
    "with open('full_subreddit_metadata_dec_10.jsonl') as dec_10:\n",
    "    with open('test2.jsonl', 'w') as test2:\n",
    "        for i, line in enumerate(dec_10):\n",
    "            try:\n",
    "                sub = json.loads(line)\n",
    "            except:\n",
    "                continue\n",
    "            if 'rules_widget' in sub.keys(): \n",
    "                if len(sub['rules_widget']) > 0: # if the sub has rules\n",
    "                    pass\n",
    "                else:\n",
    "                    continue\n",
    "            else:\n",
    "                continue\n",
    "            if sub['sub_name'] in mods:\n",
    "                overlap = True\n",
    "                mods_2.append(sub['sub_name'])\n",
    "                print(len(sub['moderator']['mod_list']))\n",
    "            if count < 20:\n",
    "                json.dump(sub, test2)\n",
    "                test2.write('\\n')\n",
    "                count += 1\n",
    "                sub_list_2.append(sub['sub_name'])\n",
    "            elif sub['sub_name'] in mods and overlap == False:\n",
    "                json.dump(sub, test2)\n",
    "                test2.write('\\n')\n",
    "                sub_list_2.append(sub['sub_name'])\n",
    "                print(sub['sub_name'])\n",
    "                break\n",
    "            else:\n",
    "                break\n",
    "print(f'subs stored: {sub_list_2}')\n",
    "print(f'subs with mods: {mods_2}')\n",
    "print(f'intersection: {len(list(set(sub_list_1) & set(sub_list_2)))}')"
   ]
  }
 ],
 "metadata": {
  "kernelspec": {
   "display_name": "Python 3",
   "language": "python",
   "name": "python3"
  },
  "language_info": {
   "codemirror_mode": {
    "name": "ipython",
    "version": 3
   },
   "file_extension": ".py",
   "mimetype": "text/x-python",
   "name": "python",
   "nbconvert_exporter": "python",
   "pygments_lexer": "ipython3",
   "version": "3.8.3"
  },
  "vscode": {
   "interpreter": {
    "hash": "369f2c481f4da34e4445cda3fffd2e751bd1c4d706f27375911949ba6bb62e1c"
   }
  }
 },
 "nbformat": 4,
 "nbformat_minor": 4
}
