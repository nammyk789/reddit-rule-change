{
 "cells": [
  {
   "cell_type": "code",
   "execution_count": 1,
   "metadata": {},
   "outputs": [],
   "source": [
    "import pandas as pd\n",
    "import numpy as np\n",
    "from sklearn.linear_model import LogisticRegression\n",
    "from statsmodels.formula.api import logit\n",
    "from sklearn.model_selection import train_test_split\n",
    "import seaborn as sns\n",
    "from sklearn import metrics\n",
    "import matplotlib.pyplot as plt"
   ]
  },
  {
   "cell_type": "code",
   "execution_count": 6,
   "metadata": {},
   "outputs": [
    {
     "data": {
      "text/html": [
       "<div>\n",
       "<style scoped>\n",
       "    .dataframe tbody tr th:only-of-type {\n",
       "        vertical-align: middle;\n",
       "    }\n",
       "\n",
       "    .dataframe tbody tr th {\n",
       "        vertical-align: top;\n",
       "    }\n",
       "\n",
       "    .dataframe thead th {\n",
       "        text-align: right;\n",
       "    }\n",
       "</style>\n",
       "<table border=\"1\" class=\"dataframe\">\n",
       "  <thead>\n",
       "    <tr style=\"text-align: right;\">\n",
       "      <th></th>\n",
       "      <th>name_change_type</th>\n",
       "      <th>description_change_type</th>\n",
       "      <th>violation_change_type</th>\n",
       "      <th>date_observed</th>\n",
       "      <th>timestamp_rule</th>\n",
       "      <th>communityID</th>\n",
       "      <th>ref</th>\n",
       "      <th>ruleID</th>\n",
       "      <th>rule_age_in_days</th>\n",
       "    </tr>\n",
       "  </thead>\n",
       "  <tbody>\n",
       "    <tr>\n",
       "      <th>354500</th>\n",
       "      <td>unchanged</td>\n",
       "      <td>unchanged</td>\n",
       "      <td>never_present</td>\n",
       "      <td>2021-04-23 00:00:00</td>\n",
       "      <td>2020-01-01</td>\n",
       "      <td>007_link</td>\n",
       "      <td>https://www.reddit.com/r/007_link/</td>\n",
       "      <td>007_link_0</td>\n",
       "      <td>478</td>\n",
       "    </tr>\n",
       "    <tr>\n",
       "      <th>234325</th>\n",
       "      <td>unchanged</td>\n",
       "      <td>never_present</td>\n",
       "      <td>never_present</td>\n",
       "      <td>2021-04-23 00:00:00</td>\n",
       "      <td>2021-01-01</td>\n",
       "      <td>007nightfire</td>\n",
       "      <td>https://www.reddit.com/r/007nightfire/</td>\n",
       "      <td>007nightfire_0</td>\n",
       "      <td>112</td>\n",
       "    </tr>\n",
       "    <tr>\n",
       "      <th>234326</th>\n",
       "      <td>unchanged</td>\n",
       "      <td>never_present</td>\n",
       "      <td>never_present</td>\n",
       "      <td>2021-04-23 00:00:00</td>\n",
       "      <td>2021-01-01</td>\n",
       "      <td>007nightfire</td>\n",
       "      <td>https://www.reddit.com/r/007nightfire/</td>\n",
       "      <td>007nightfire_1</td>\n",
       "      <td>112</td>\n",
       "    </tr>\n",
       "    <tr>\n",
       "      <th>234327</th>\n",
       "      <td>unchanged</td>\n",
       "      <td>never_present</td>\n",
       "      <td>never_present</td>\n",
       "      <td>2021-04-23 00:00:00</td>\n",
       "      <td>2021-01-01</td>\n",
       "      <td>007nightfire</td>\n",
       "      <td>https://www.reddit.com/r/007nightfire/</td>\n",
       "      <td>007nightfire_2</td>\n",
       "      <td>112</td>\n",
       "    </tr>\n",
       "    <tr>\n",
       "      <th>234328</th>\n",
       "      <td>unchanged</td>\n",
       "      <td>never_present</td>\n",
       "      <td>never_present</td>\n",
       "      <td>2021-04-23 00:00:00</td>\n",
       "      <td>2021-01-01</td>\n",
       "      <td>007nightfire</td>\n",
       "      <td>https://www.reddit.com/r/007nightfire/</td>\n",
       "      <td>007nightfire_3</td>\n",
       "      <td>112</td>\n",
       "    </tr>\n",
       "  </tbody>\n",
       "</table>\n",
       "</div>"
      ],
      "text/plain": [
       "       name_change_type description_change_type violation_change_type  \\\n",
       "354500        unchanged               unchanged         never_present   \n",
       "234325        unchanged           never_present         never_present   \n",
       "234326        unchanged           never_present         never_present   \n",
       "234327        unchanged           never_present         never_present   \n",
       "234328        unchanged           never_present         never_present   \n",
       "\n",
       "              date_observed timestamp_rule   communityID  \\\n",
       "354500  2021-04-23 00:00:00     2020-01-01      007_link   \n",
       "234325  2021-04-23 00:00:00     2021-01-01  007nightfire   \n",
       "234326  2021-04-23 00:00:00     2021-01-01  007nightfire   \n",
       "234327  2021-04-23 00:00:00     2021-01-01  007nightfire   \n",
       "234328  2021-04-23 00:00:00     2021-01-01  007nightfire   \n",
       "\n",
       "                                           ref          ruleID  \\\n",
       "354500      https://www.reddit.com/r/007_link/      007_link_0   \n",
       "234325  https://www.reddit.com/r/007nightfire/  007nightfire_0   \n",
       "234326  https://www.reddit.com/r/007nightfire/  007nightfire_1   \n",
       "234327  https://www.reddit.com/r/007nightfire/  007nightfire_2   \n",
       "234328  https://www.reddit.com/r/007nightfire/  007nightfire_3   \n",
       "\n",
       "        rule_age_in_days  \n",
       "354500               478  \n",
       "234325               112  \n",
       "234326               112  \n",
       "234327               112  \n",
       "234328               112  "
      ]
     },
     "execution_count": 6,
     "metadata": {},
     "output_type": "execute_result"
    }
   ],
   "source": [
    "rules = pd.read_csv(\"../output_data/seth/rule_level_data.csv\")\n",
    "rules.sort_values(by=[\"communityID\", \"ruleID\"], inplace=True)\n",
    "rules = rules[rules.name_change_type != 'added']\n",
    "rules[:5]"
   ]
  },
  {
   "cell_type": "code",
   "execution_count": 7,
   "metadata": {},
   "outputs": [],
   "source": [
    "rules['deleted'] = np.where(rules.name_change_type == 'deleted', 1, 0)"
   ]
  },
  {
   "cell_type": "code",
   "execution_count": 8,
   "metadata": {},
   "outputs": [
    {
     "name": "stdout",
     "output_type": "stream",
     "text": [
      "Optimization terminated successfully.\n",
      "         Current function value: 0.092980\n",
      "         Iterations 8\n",
      "                           Logit Regression Results                           \n",
      "==============================================================================\n",
      "Dep. Variable:                deleted   No. Observations:               508313\n",
      "Model:                          Logit   Df Residuals:                   508311\n",
      "Method:                           MLE   Df Model:                            1\n",
      "Date:                Sat, 13 May 2023   Pseudo R-squ.:                0.003910\n",
      "Time:                        13:07:38   Log-Likelihood:                -47263.\n",
      "converged:                       True   LL-Null:                       -47448.\n",
      "Covariance Type:            nonrobust   LLR p-value:                 1.087e-82\n",
      "====================================================================================\n",
      "                       coef    std err          z      P>|z|      [0.025      0.975]\n",
      "------------------------------------------------------------------------------------\n",
      "Intercept           -3.7116      0.016   -232.796      0.000      -3.743      -3.680\n",
      "rule_age_in_days    -0.0005   2.52e-05    -18.442      0.000      -0.001      -0.000\n",
      "====================================================================================\n"
     ]
    }
   ],
   "source": [
    "m01 = logit('deleted ~ rule_age_in_days', data=rules).fit()\n",
    "print(m01.summary())"
   ]
  },
  {
   "cell_type": "code",
   "execution_count": null,
   "metadata": {},
   "outputs": [],
   "source": []
  }
 ],
 "metadata": {
  "kernelspec": {
   "display_name": "Python 3",
   "language": "python",
   "name": "python3"
  },
  "language_info": {
   "codemirror_mode": {
    "name": "ipython",
    "version": 3
   },
   "file_extension": ".py",
   "mimetype": "text/x-python",
   "name": "python",
   "nbconvert_exporter": "python",
   "pygments_lexer": "ipython3",
   "version": "3.8.3"
  }
 },
 "nbformat": 4,
 "nbformat_minor": 4
}
