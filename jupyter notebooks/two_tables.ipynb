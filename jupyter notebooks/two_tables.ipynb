{
 "cells": [
  {
   "cell_type": "code",
   "execution_count": 2,
   "metadata": {},
   "outputs": [],
   "source": [
    "import pandas as pd"
   ]
  },
  {
   "cell_type": "code",
   "execution_count": 9,
   "metadata": {},
   "outputs": [
    {
     "data": {
      "text/html": [
       "<div>\n",
       "<style scoped>\n",
       "    .dataframe tbody tr th:only-of-type {\n",
       "        vertical-align: middle;\n",
       "    }\n",
       "\n",
       "    .dataframe tbody tr th {\n",
       "        vertical-align: top;\n",
       "    }\n",
       "\n",
       "    .dataframe thead th {\n",
       "        text-align: right;\n",
       "    }\n",
       "</style>\n",
       "<table border=\"1\" class=\"dataframe\">\n",
       "  <thead>\n",
       "    <tr style=\"text-align: right;\">\n",
       "      <th></th>\n",
       "      <th>source</th>\n",
       "      <th>name_change_type</th>\n",
       "      <th>description_change_type</th>\n",
       "      <th>violation_change_type</th>\n",
       "      <th>timestamp</th>\n",
       "      <th>timestamp_rule</th>\n",
       "      <th>communityID</th>\n",
       "      <th>ref</th>\n",
       "      <th>ruleID</th>\n",
       "    </tr>\n",
       "  </thead>\n",
       "  <tbody>\n",
       "    <tr>\n",
       "      <th>0</th>\n",
       "      <td>earliest</td>\n",
       "      <td>deleted</td>\n",
       "      <td>deleted</td>\n",
       "      <td>never_present</td>\n",
       "      <td>2021-04-23 00:00:00</td>\n",
       "      <td>20210401</td>\n",
       "      <td>artesbr</td>\n",
       "      <td>https://www.reddit.com/r/artesbr/</td>\n",
       "      <td>artesbr_0</td>\n",
       "    </tr>\n",
       "    <tr>\n",
       "      <th>1</th>\n",
       "      <td>earliest</td>\n",
       "      <td>deleted</td>\n",
       "      <td>deleted</td>\n",
       "      <td>never_present</td>\n",
       "      <td>2021-04-23 00:00:00</td>\n",
       "      <td>20210401</td>\n",
       "      <td>artesbr</td>\n",
       "      <td>https://www.reddit.com/r/artesbr/</td>\n",
       "      <td>artesbr_5</td>\n",
       "    </tr>\n",
       "    <tr>\n",
       "      <th>2</th>\n",
       "      <td>latest</td>\n",
       "      <td>added</td>\n",
       "      <td>added</td>\n",
       "      <td>never_present</td>\n",
       "      <td>2021-12-10 00:00:00</td>\n",
       "      <td>20210401</td>\n",
       "      <td>artesbr</td>\n",
       "      <td>https://www.reddit.com/r/artesbr/</td>\n",
       "      <td>artesbr_6</td>\n",
       "    </tr>\n",
       "    <tr>\n",
       "      <th>3</th>\n",
       "      <td>latest</td>\n",
       "      <td>added</td>\n",
       "      <td>added</td>\n",
       "      <td>never_present</td>\n",
       "      <td>2021-12-10 00:00:00</td>\n",
       "      <td>20210401</td>\n",
       "      <td>artesbr</td>\n",
       "      <td>https://www.reddit.com/r/artesbr/</td>\n",
       "      <td>artesbr_7</td>\n",
       "    </tr>\n",
       "    <tr>\n",
       "      <th>4</th>\n",
       "      <td>latest</td>\n",
       "      <td>added</td>\n",
       "      <td>never_present</td>\n",
       "      <td>never_present</td>\n",
       "      <td>2021-12-10 00:00:00</td>\n",
       "      <td>20211201</td>\n",
       "      <td>chubbygirltiktoks</td>\n",
       "      <td>https://www.reddit.com/r/chubbygirltiktoks/</td>\n",
       "      <td>chubbygirltiktoks_1</td>\n",
       "    </tr>\n",
       "  </tbody>\n",
       "</table>\n",
       "</div>"
      ],
      "text/plain": [
       "     source name_change_type description_change_type violation_change_type  \\\n",
       "0  earliest          deleted                 deleted         never_present   \n",
       "1  earliest          deleted                 deleted         never_present   \n",
       "2    latest            added                   added         never_present   \n",
       "3    latest            added                   added         never_present   \n",
       "4    latest            added           never_present         never_present   \n",
       "\n",
       "             timestamp  timestamp_rule        communityID  \\\n",
       "0  2021-04-23 00:00:00        20210401            artesbr   \n",
       "1  2021-04-23 00:00:00        20210401            artesbr   \n",
       "2  2021-12-10 00:00:00        20210401            artesbr   \n",
       "3  2021-12-10 00:00:00        20210401            artesbr   \n",
       "4  2021-12-10 00:00:00        20211201  chubbygirltiktoks   \n",
       "\n",
       "                                           ref               ruleID  \n",
       "0            https://www.reddit.com/r/artesbr/            artesbr_0  \n",
       "1            https://www.reddit.com/r/artesbr/            artesbr_5  \n",
       "2            https://www.reddit.com/r/artesbr/            artesbr_6  \n",
       "3            https://www.reddit.com/r/artesbr/            artesbr_7  \n",
       "4  https://www.reddit.com/r/chubbygirltiktoks/  chubbygirltiktoks_1  "
      ]
     },
     "execution_count": 9,
     "metadata": {},
     "output_type": "execute_result"
    }
   ],
   "source": [
    "added_deleted = pd.read_csv('../output_data/seth/added_or_deleted_rules_data.csv')\n",
    "added_deleted.head()"
   ]
  },
  {
   "cell_type": "code",
   "execution_count": 16,
   "metadata": {},
   "outputs": [
    {
     "data": {
      "text/plain": [
       "source                       0\n",
       "name_change_type           385\n",
       "description_change_type    296\n",
       "violation_change_type       83\n",
       "timestamp                    0\n",
       "timestamp_rule               0\n",
       "communityID                  0\n",
       "ref                          0\n",
       "ruleID                       0\n",
       "dtype: int64"
      ]
     },
     "execution_count": 16,
     "metadata": {},
     "output_type": "execute_result"
    }
   ],
   "source": [
    "(added_deleted == 'added').sum()"
   ]
  },
  {
   "cell_type": "code",
   "execution_count": 10,
   "metadata": {},
   "outputs": [
    {
     "data": {
      "text/html": [
       "<div>\n",
       "<style scoped>\n",
       "    .dataframe tbody tr th:only-of-type {\n",
       "        vertical-align: middle;\n",
       "    }\n",
       "\n",
       "    .dataframe tbody tr th {\n",
       "        vertical-align: top;\n",
       "    }\n",
       "\n",
       "    .dataframe thead th {\n",
       "        text-align: right;\n",
       "    }\n",
       "</style>\n",
       "<table border=\"1\" class=\"dataframe\">\n",
       "  <thead>\n",
       "    <tr style=\"text-align: right;\">\n",
       "      <th></th>\n",
       "      <th>source</th>\n",
       "      <th>name_change_type</th>\n",
       "      <th>description_change_type</th>\n",
       "      <th>violation_change_type</th>\n",
       "      <th>timestamp</th>\n",
       "      <th>timestamp_rule</th>\n",
       "      <th>communityID</th>\n",
       "      <th>ref</th>\n",
       "      <th>ruleID</th>\n",
       "    </tr>\n",
       "  </thead>\n",
       "  <tbody>\n",
       "    <tr>\n",
       "      <th>0</th>\n",
       "      <td>earliest</td>\n",
       "      <td>unchanged</td>\n",
       "      <td>unchanged</td>\n",
       "      <td>never_present</td>\n",
       "      <td>2021-04-23 00:00:00</td>\n",
       "      <td>20210401</td>\n",
       "      <td>tslt</td>\n",
       "      <td>https://www.reddit.com/r/tslt/</td>\n",
       "      <td>tslt_0</td>\n",
       "    </tr>\n",
       "    <tr>\n",
       "      <th>1</th>\n",
       "      <td>earliest</td>\n",
       "      <td>unchanged</td>\n",
       "      <td>unchanged</td>\n",
       "      <td>never_present</td>\n",
       "      <td>2021-04-23 00:00:00</td>\n",
       "      <td>20210301</td>\n",
       "      <td>okanaganbiking</td>\n",
       "      <td>https://www.reddit.com/r/okanaganbiking/</td>\n",
       "      <td>okanaganbiking_0</td>\n",
       "    </tr>\n",
       "    <tr>\n",
       "      <th>2</th>\n",
       "      <td>earliest</td>\n",
       "      <td>unchanged</td>\n",
       "      <td>unchanged</td>\n",
       "      <td>never_present</td>\n",
       "      <td>2021-04-23 00:00:00</td>\n",
       "      <td>20210301</td>\n",
       "      <td>okanaganbiking</td>\n",
       "      <td>https://www.reddit.com/r/okanaganbiking/</td>\n",
       "      <td>okanaganbiking_1</td>\n",
       "    </tr>\n",
       "    <tr>\n",
       "      <th>3</th>\n",
       "      <td>earliest</td>\n",
       "      <td>unchanged</td>\n",
       "      <td>unchanged</td>\n",
       "      <td>never_present</td>\n",
       "      <td>2021-04-23 00:00:00</td>\n",
       "      <td>20210301</td>\n",
       "      <td>okanaganbiking</td>\n",
       "      <td>https://www.reddit.com/r/okanaganbiking/</td>\n",
       "      <td>okanaganbiking_2</td>\n",
       "    </tr>\n",
       "    <tr>\n",
       "      <th>4</th>\n",
       "      <td>earliest</td>\n",
       "      <td>unchanged</td>\n",
       "      <td>unchanged</td>\n",
       "      <td>never_present</td>\n",
       "      <td>2021-04-23 00:00:00</td>\n",
       "      <td>20210301</td>\n",
       "      <td>okanaganbiking</td>\n",
       "      <td>https://www.reddit.com/r/okanaganbiking/</td>\n",
       "      <td>okanaganbiking_3</td>\n",
       "    </tr>\n",
       "  </tbody>\n",
       "</table>\n",
       "</div>"
      ],
      "text/plain": [
       "     source name_change_type description_change_type violation_change_type  \\\n",
       "0  earliest        unchanged               unchanged         never_present   \n",
       "1  earliest        unchanged               unchanged         never_present   \n",
       "2  earliest        unchanged               unchanged         never_present   \n",
       "3  earliest        unchanged               unchanged         never_present   \n",
       "4  earliest        unchanged               unchanged         never_present   \n",
       "\n",
       "             timestamp  timestamp_rule     communityID  \\\n",
       "0  2021-04-23 00:00:00        20210401            tslt   \n",
       "1  2021-04-23 00:00:00        20210301  okanaganbiking   \n",
       "2  2021-04-23 00:00:00        20210301  okanaganbiking   \n",
       "3  2021-04-23 00:00:00        20210301  okanaganbiking   \n",
       "4  2021-04-23 00:00:00        20210301  okanaganbiking   \n",
       "\n",
       "                                        ref            ruleID  \n",
       "0            https://www.reddit.com/r/tslt/            tslt_0  \n",
       "1  https://www.reddit.com/r/okanaganbiking/  okanaganbiking_0  \n",
       "2  https://www.reddit.com/r/okanaganbiking/  okanaganbiking_1  \n",
       "3  https://www.reddit.com/r/okanaganbiking/  okanaganbiking_2  \n",
       "4  https://www.reddit.com/r/okanaganbiking/  okanaganbiking_3  "
      ]
     },
     "execution_count": 10,
     "metadata": {},
     "output_type": "execute_result"
    }
   ],
   "source": [
    "in_both = pd.read_csv('../output_data/seth/rules_in_both_snaps_data.csv')\n",
    "in_both.head()"
   ]
  },
  {
   "cell_type": "code",
   "execution_count": 18,
   "metadata": {},
   "outputs": [
    {
     "name": "stdout",
     "output_type": "stream",
     "text": [
      "{'never_present', 'added', 'unchanged', 'changed'}\n"
     ]
    }
   ],
   "source": [
    "print(set(in_both.description_change_type))"
   ]
  },
  {
   "cell_type": "code",
   "execution_count": 12,
   "metadata": {},
   "outputs": [
    {
     "name": "stdout",
     "output_type": "stream",
     "text": [
      "{'deleted', 'added', 'unchanged', 'never_present', 'changed'}\n"
     ]
    }
   ],
   "source": [
    "print(set(in_both.violation_change_type))\n"
   ]
  },
  {
   "cell_type": "code",
   "execution_count": null,
   "metadata": {},
   "outputs": [],
   "source": []
  }
 ],
 "metadata": {
  "kernelspec": {
   "display_name": "myenv",
   "language": "python",
   "name": "python3"
  },
  "language_info": {
   "codemirror_mode": {
    "name": "ipython",
    "version": 3
   },
   "file_extension": ".py",
   "mimetype": "text/x-python",
   "name": "python",
   "nbconvert_exporter": "python",
   "pygments_lexer": "ipython3",
   "version": "3.11.0"
  },
  "orig_nbformat": 4
 },
 "nbformat": 4,
 "nbformat_minor": 2
}
