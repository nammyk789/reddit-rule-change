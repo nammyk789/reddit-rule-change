{
 "cells": [
  {
   "cell_type": "code",
   "execution_count": 1,
   "metadata": {},
   "outputs": [],
   "source": [
    "import pandas as pd\n",
    "import numpy as np\n",
    "from sklearn.linear_model import LogisticRegression\n",
    "from statsmodels.formula.api import logit\n",
    "from sklearn.model_selection import train_test_split\n",
    "import seaborn as sns\n",
    "from sklearn import metrics"
   ]
  },
  {
   "cell_type": "markdown",
   "metadata": {},
   "source": [
    "# Setting Data Up"
   ]
  },
  {
   "cell_type": "code",
   "execution_count": 2,
   "metadata": {},
   "outputs": [
    {
     "data": {
      "text/html": [
       "<div>\n",
       "<style scoped>\n",
       "    .dataframe tbody tr th:only-of-type {\n",
       "        vertical-align: middle;\n",
       "    }\n",
       "\n",
       "    .dataframe tbody tr th {\n",
       "        vertical-align: top;\n",
       "    }\n",
       "\n",
       "    .dataframe thead th {\n",
       "        text-align: right;\n",
       "    }\n",
       "</style>\n",
       "<table border=\"1\" class=\"dataframe\">\n",
       "  <thead>\n",
       "    <tr style=\"text-align: right;\">\n",
       "      <th></th>\n",
       "      <th>communityID</th>\n",
       "      <th>added</th>\n",
       "      <th>changed</th>\n",
       "      <th>deleted</th>\n",
       "      <th>unchanged</th>\n",
       "      <th>subscribers_1</th>\n",
       "      <th>subscribers_2</th>\n",
       "      <th>rules_1</th>\n",
       "      <th>rules_2</th>\n",
       "      <th>timestamp_1</th>\n",
       "      <th>timestamp_2</th>\n",
       "      <th>founding_date</th>\n",
       "      <th>age_in_months</th>\n",
       "      <th>log_subscribers</th>\n",
       "      <th>age_and_subs</th>\n",
       "    </tr>\n",
       "  </thead>\n",
       "  <tbody>\n",
       "    <tr>\n",
       "      <th>0</th>\n",
       "      <td>007_link</td>\n",
       "      <td>0.0</td>\n",
       "      <td>0.0</td>\n",
       "      <td>0.0</td>\n",
       "      <td>1.0</td>\n",
       "      <td>7</td>\n",
       "      <td>7</td>\n",
       "      <td>1</td>\n",
       "      <td>1</td>\n",
       "      <td>1.627687e+09</td>\n",
       "      <td>1.644941e+09</td>\n",
       "      <td>1.579930e+09</td>\n",
       "      <td>14.908671</td>\n",
       "      <td>2.197225</td>\n",
       "      <td>32.757698</td>\n",
       "    </tr>\n",
       "    <tr>\n",
       "      <th>1</th>\n",
       "      <td>007nightfire</td>\n",
       "      <td>0.0</td>\n",
       "      <td>0.0</td>\n",
       "      <td>0.0</td>\n",
       "      <td>5.0</td>\n",
       "      <td>68</td>\n",
       "      <td>91</td>\n",
       "      <td>5</td>\n",
       "      <td>5</td>\n",
       "      <td>1.625925e+09</td>\n",
       "      <td>1.643361e+09</td>\n",
       "      <td>1.609863e+09</td>\n",
       "      <td>3.526107</td>\n",
       "      <td>4.248495</td>\n",
       "      <td>14.980651</td>\n",
       "    </tr>\n",
       "    <tr>\n",
       "      <th>2</th>\n",
       "      <td>00games</td>\n",
       "      <td>0.0</td>\n",
       "      <td>0.0</td>\n",
       "      <td>0.0</td>\n",
       "      <td>4.0</td>\n",
       "      <td>2</td>\n",
       "      <td>3</td>\n",
       "      <td>4</td>\n",
       "      <td>4</td>\n",
       "      <td>1.630524e+09</td>\n",
       "      <td>1.646246e+09</td>\n",
       "      <td>1.580752e+09</td>\n",
       "      <td>14.596170</td>\n",
       "      <td>1.386294</td>\n",
       "      <td>20.234588</td>\n",
       "    </tr>\n",
       "    <tr>\n",
       "      <th>3</th>\n",
       "      <td>00saesthetics</td>\n",
       "      <td>0.0</td>\n",
       "      <td>0.0</td>\n",
       "      <td>0.0</td>\n",
       "      <td>6.0</td>\n",
       "      <td>2836</td>\n",
       "      <td>2995</td>\n",
       "      <td>6</td>\n",
       "      <td>6</td>\n",
       "      <td>1.624697e+09</td>\n",
       "      <td>1.642362e+09</td>\n",
       "      <td>1.562924e+09</td>\n",
       "      <td>21.375357</td>\n",
       "      <td>7.950855</td>\n",
       "      <td>169.952359</td>\n",
       "    </tr>\n",
       "    <tr>\n",
       "      <th>4</th>\n",
       "      <td>00sbabies</td>\n",
       "      <td>0.0</td>\n",
       "      <td>0.0</td>\n",
       "      <td>0.0</td>\n",
       "      <td>6.0</td>\n",
       "      <td>300</td>\n",
       "      <td>298</td>\n",
       "      <td>6</td>\n",
       "      <td>6</td>\n",
       "      <td>1.625180e+09</td>\n",
       "      <td>1.642880e+09</td>\n",
       "      <td>1.595696e+09</td>\n",
       "      <td>8.913409</td>\n",
       "      <td>5.710427</td>\n",
       "      <td>50.899370</td>\n",
       "    </tr>\n",
       "    <tr>\n",
       "      <th>...</th>\n",
       "      <td>...</td>\n",
       "      <td>...</td>\n",
       "      <td>...</td>\n",
       "      <td>...</td>\n",
       "      <td>...</td>\n",
       "      <td>...</td>\n",
       "      <td>...</td>\n",
       "      <td>...</td>\n",
       "      <td>...</td>\n",
       "      <td>...</td>\n",
       "      <td>...</td>\n",
       "      <td>...</td>\n",
       "      <td>...</td>\n",
       "      <td>...</td>\n",
       "      <td>...</td>\n",
       "    </tr>\n",
       "    <tr>\n",
       "      <th>130846</th>\n",
       "      <td>zyramains</td>\n",
       "      <td>0.0</td>\n",
       "      <td>0.0</td>\n",
       "      <td>0.0</td>\n",
       "      <td>9.0</td>\n",
       "      <td>10085</td>\n",
       "      <td>11382</td>\n",
       "      <td>9</td>\n",
       "      <td>9</td>\n",
       "      <td>1.624172e+09</td>\n",
       "      <td>1.642224e+09</td>\n",
       "      <td>1.419736e+09</td>\n",
       "      <td>75.824785</td>\n",
       "      <td>9.219003</td>\n",
       "      <td>699.028897</td>\n",
       "    </tr>\n",
       "    <tr>\n",
       "      <th>130847</th>\n",
       "      <td>zyxcomments</td>\n",
       "      <td>0.0</td>\n",
       "      <td>0.0</td>\n",
       "      <td>0.0</td>\n",
       "      <td>1.0</td>\n",
       "      <td>8</td>\n",
       "      <td>8</td>\n",
       "      <td>1</td>\n",
       "      <td>1</td>\n",
       "      <td>1.627579e+09</td>\n",
       "      <td>1.644794e+09</td>\n",
       "      <td>1.562897e+09</td>\n",
       "      <td>21.385681</td>\n",
       "      <td>2.302585</td>\n",
       "      <td>49.242349</td>\n",
       "    </tr>\n",
       "    <tr>\n",
       "      <th>130848</th>\n",
       "      <td>zyzz</td>\n",
       "      <td>1.0</td>\n",
       "      <td>0.0</td>\n",
       "      <td>1.0</td>\n",
       "      <td>1.0</td>\n",
       "      <td>7245</td>\n",
       "      <td>11991</td>\n",
       "      <td>2</td>\n",
       "      <td>2</td>\n",
       "      <td>1.624310e+09</td>\n",
       "      <td>1.642229e+09</td>\n",
       "      <td>1.311994e+09</td>\n",
       "      <td>116.795459</td>\n",
       "      <td>8.888343</td>\n",
       "      <td>1038.118088</td>\n",
       "    </tr>\n",
       "    <tr>\n",
       "      <th>130849</th>\n",
       "      <td>zztails</td>\n",
       "      <td>0.0</td>\n",
       "      <td>0.0</td>\n",
       "      <td>0.0</td>\n",
       "      <td>2.0</td>\n",
       "      <td>137</td>\n",
       "      <td>142</td>\n",
       "      <td>2</td>\n",
       "      <td>2</td>\n",
       "      <td>1.625469e+09</td>\n",
       "      <td>1.643165e+09</td>\n",
       "      <td>1.546838e+09</td>\n",
       "      <td>27.492575</td>\n",
       "      <td>4.934474</td>\n",
       "      <td>135.661394</td>\n",
       "    </tr>\n",
       "    <tr>\n",
       "      <th>130850</th>\n",
       "      <td>zzzbleeeeppzzz</td>\n",
       "      <td>0.0</td>\n",
       "      <td>0.0</td>\n",
       "      <td>0.0</td>\n",
       "      <td>1.0</td>\n",
       "      <td>3</td>\n",
       "      <td>3</td>\n",
       "      <td>1</td>\n",
       "      <td>1</td>\n",
       "      <td>1.628945e+09</td>\n",
       "      <td>1.645972e+09</td>\n",
       "      <td>1.560556e+09</td>\n",
       "      <td>22.276055</td>\n",
       "      <td>1.609438</td>\n",
       "      <td>35.851928</td>\n",
       "    </tr>\n",
       "  </tbody>\n",
       "</table>\n",
       "<p>130851 rows × 15 columns</p>\n",
       "</div>"
      ],
      "text/plain": [
       "           communityID  added  changed  deleted  unchanged  subscribers_1  \\\n",
       "0             007_link    0.0      0.0      0.0        1.0              7   \n",
       "1         007nightfire    0.0      0.0      0.0        5.0             68   \n",
       "2              00games    0.0      0.0      0.0        4.0              2   \n",
       "3        00saesthetics    0.0      0.0      0.0        6.0           2836   \n",
       "4            00sbabies    0.0      0.0      0.0        6.0            300   \n",
       "...                ...    ...      ...      ...        ...            ...   \n",
       "130846       zyramains    0.0      0.0      0.0        9.0          10085   \n",
       "130847     zyxcomments    0.0      0.0      0.0        1.0              8   \n",
       "130848            zyzz    1.0      0.0      1.0        1.0           7245   \n",
       "130849         zztails    0.0      0.0      0.0        2.0            137   \n",
       "130850  zzzbleeeeppzzz    0.0      0.0      0.0        1.0              3   \n",
       "\n",
       "        subscribers_2  rules_1  rules_2   timestamp_1   timestamp_2  \\\n",
       "0                   7        1        1  1.627687e+09  1.644941e+09   \n",
       "1                  91        5        5  1.625925e+09  1.643361e+09   \n",
       "2                   3        4        4  1.630524e+09  1.646246e+09   \n",
       "3                2995        6        6  1.624697e+09  1.642362e+09   \n",
       "4                 298        6        6  1.625180e+09  1.642880e+09   \n",
       "...               ...      ...      ...           ...           ...   \n",
       "130846          11382        9        9  1.624172e+09  1.642224e+09   \n",
       "130847              8        1        1  1.627579e+09  1.644794e+09   \n",
       "130848          11991        2        2  1.624310e+09  1.642229e+09   \n",
       "130849            142        2        2  1.625469e+09  1.643165e+09   \n",
       "130850              3        1        1  1.628945e+09  1.645972e+09   \n",
       "\n",
       "        founding_date  age_in_months  log_subscribers  age_and_subs  \n",
       "0        1.579930e+09      14.908671         2.197225     32.757698  \n",
       "1        1.609863e+09       3.526107         4.248495     14.980651  \n",
       "2        1.580752e+09      14.596170         1.386294     20.234588  \n",
       "3        1.562924e+09      21.375357         7.950855    169.952359  \n",
       "4        1.595696e+09       8.913409         5.710427     50.899370  \n",
       "...               ...            ...              ...           ...  \n",
       "130846   1.419736e+09      75.824785         9.219003    699.028897  \n",
       "130847   1.562897e+09      21.385681         2.302585     49.242349  \n",
       "130848   1.311994e+09     116.795459         8.888343   1038.118088  \n",
       "130849   1.546838e+09      27.492575         4.934474    135.661394  \n",
       "130850   1.560556e+09      22.276055         1.609438     35.851928  \n",
       "\n",
       "[130851 rows x 15 columns]"
      ]
     },
     "execution_count": 2,
     "metadata": {},
     "output_type": "execute_result"
    }
   ],
   "source": [
    "regression_data = pd.read_csv(\"../output_data/seth/sub_level_data.csv\")\n",
    "regression_data['log_subscribers'] = np.log(regression_data.subscribers_1 + 2)\n",
    "regression_data['age_and_subs'] = regression_data.log_subscribers * regression_data.age_in_months\n",
    "regression_data"
   ]
  },
  {
   "cell_type": "code",
   "execution_count": 3,
   "metadata": {},
   "outputs": [],
   "source": [
    "regression_data['added_1'] = np.where(regression_data.added > 0, 1, 0)"
   ]
  },
  {
   "cell_type": "code",
   "execution_count": 4,
   "metadata": {},
   "outputs": [],
   "source": [
    "regression_data.replace([np.inf, -np.inf], np.nan, inplace=True)"
   ]
  },
  {
   "cell_type": "markdown",
   "metadata": {},
   "source": [
    "# Regression"
   ]
  },
  {
   "cell_type": "markdown",
   "metadata": {},
   "source": [
    "## Subscribers"
   ]
  },
  {
   "cell_type": "code",
   "execution_count": 5,
   "metadata": {},
   "outputs": [
    {
     "name": "stdout",
     "output_type": "stream",
     "text": [
      "accuracy: 0.9502751171795394\n",
      "precision: 0.17777777777777778\n",
      "recall: 0.004160166406656267\n",
      "f1: 0.008130081300813009\n"
     ]
    }
   ],
   "source": [
    "X = np.array(regression_data.log_subscribers)\n",
    "y = np.array(regression_data.added_1)\n",
    "\n",
    "# Split the data into training and testing sets with a 70:30 ratio\n",
    "X_train, X_test, y_train, y_test = train_test_split(X, y, test_size=0.3)\n",
    "\n",
    "# logistic regression\n",
    "reg = LogisticRegression().fit(X_train.reshape(-1, 1), y_train)\n",
    "predictions = reg.predict(X_test.reshape(-1, 1))\n",
    "score = reg.score(X_test.reshape(-1, 1), y_test)\n",
    "print(f'accuracy: {score}')\n",
    "print(f'precision: {metrics.precision_score(y_test, predictions)}')\n",
    "print(f'recall: {metrics.recall_score(y_test, predictions)}')\n",
    "print(f'f1: {metrics.f1_score(y_test, predictions)}')"
   ]
  },
  {
   "cell_type": "code",
   "execution_count": 6,
   "metadata": {},
   "outputs": [
    {
     "data": {
      "image/png": "[encoded data removed]",
      "text/plain": [
       "<Figure size 648x648 with 2 Axes>"
      ]
     },
     "metadata": {
      "needs_background": "light"
     },
     "output_type": "display_data"
    }
   ],
   "source": [
    "cm = metrics.confusion_matrix(y_test, predictions)\n",
    "plt.figure(figsize=(9,9))\n",
    "sns.heatmap(cm, annot=True, fmt=\".3f\", linewidths=.5, square = True, cmap = 'Blues_r');\n",
    "plt.ylabel('Actual label');\n",
    "plt.xlabel('Predicted label');\n",
    "all_sample_title = 'Accuracy Score: {0}'.format(score)\n",
    "plt.title(all_sample_title, size = 15);"
   ]
  },
  {
   "cell_type": "markdown",
   "metadata": {},
   "source": [
    "## Age"
   ]
  },
  {
   "cell_type": "code",
   "execution_count": 7,
   "metadata": {},
   "outputs": [
    {
     "name": "stdout",
     "output_type": "stream",
     "text": [
      "accuracy: 0.9498930099857347\n",
      "precision: 0.0\n",
      "recall: 0.0\n",
      "f1: 0.0\n"
     ]
    },
    {
     "name": "stderr",
     "output_type": "stream",
     "text": [
      "C:\\Users\\nammy\\anaconda3\\lib\\site-packages\\sklearn\\metrics\\_classification.py:1327: UndefinedMetricWarning: Precision is ill-defined and being set to 0.0 due to no predicted samples. Use `zero_division` parameter to control this behavior.\n",
      "  _warn_prf(average, modifier, msg_start, len(result))\n"
     ]
    }
   ],
   "source": [
    "X = np.array(regression_data.age_in_months + 2)\n",
    "y = np.array(regression_data.added_1)\n",
    "\n",
    "# Split the data into training and testing sets with a 70:30 ratio\n",
    "X_train, X_test, y_train, y_test = train_test_split(X, y, test_size=0.3)\n",
    "\n",
    "# logistic regression\n",
    "reg = LogisticRegression().fit(X_train.reshape(-1, 1), y_train)\n",
    "predictions = reg.predict(X_test.reshape(-1, 1))\n",
    "score = reg.score(X_test.reshape(-1, 1), y_test)\n",
    "print(f'accuracy: {score}')\n",
    "print(f'precision: {metrics.precision_score(y_test, predictions)}')\n",
    "print(f'recall: {metrics.recall_score(y_test, predictions)}')\n",
    "print(f'f1: {metrics.f1_score(y_test, predictions)}')"
   ]
  },
  {
   "cell_type": "code",
   "execution_count": 8,
   "metadata": {},
   "outputs": [
    {
     "data": {
      "image/png": "[encoded data removed]",
      "text/plain": [
       "<Figure size 648x648 with 2 Axes>"
      ]
     },
     "metadata": {
      "needs_background": "light"
     },
     "output_type": "display_data"
    }
   ],
   "source": [
    "cm = metrics.confusion_matrix(y_test, predictions)\n",
    "plt.figure(figsize=(9,9))\n",
    "sns.heatmap(cm, annot=True, fmt=\".3f\", linewidths=.5, square = True, cmap = 'Blues_r');\n",
    "plt.ylabel('Actual label');\n",
    "plt.xlabel('Predicted label');\n",
    "all_sample_title = 'Accuracy Score: {0}'.format(score)\n",
    "plt.title(all_sample_title, size = 15);"
   ]
  },
  {
   "cell_type": "markdown",
   "metadata": {},
   "source": [
    "# Age and Subscribers"
   ]
  },
  {
   "cell_type": "code",
   "execution_count": 9,
   "metadata": {},
   "outputs": [],
   "source": [
    "X = regression_data[['age_in_months', 'log_subscribers', 'subscribers_1', 'age_and_subs']].values.astype(np.ndarray)\n",
    "y = np.array(regression_data.added_1)"
   ]
  },
  {
   "cell_type": "code",
   "execution_count": 10,
   "metadata": {},
   "outputs": [
    {
     "name": "stdout",
     "output_type": "stream",
     "text": [
      "accuracy: 0.945995516608926\n",
      "precision: 0.2879581151832461\n",
      "recall: 0.056179775280898875\n",
      "f1: 0.09401709401709402\n"
     ]
    }
   ],
   "source": [
    "\n",
    "# Split the data into training and testing sets with a 70:30 ratio\n",
    "X_train, X_test, y_train, y_test = train_test_split(X, y, test_size=0.3)\n",
    "\n",
    "# logistic regression\n",
    "reg = LogisticRegression().fit(X_train, y_train)\n",
    "predictions = reg.predict(X_test)\n",
    "score = reg.score(X_test, y_test)\n",
    "print(f'accuracy: {score}')\n",
    "print(f'precision: {metrics.precision_score(y_test, predictions)}')\n",
    "print(f'recall: {metrics.recall_score(y_test, predictions)}')\n",
    "print(f'f1: {metrics.f1_score(y_test, predictions)}')"
   ]
  },
  {
   "cell_type": "code",
   "execution_count": 11,
   "metadata": {},
   "outputs": [
    {
     "data": {
      "image/png": "[encoded data removed]",
      "text/plain": [
       "<Figure size 648x648 with 2 Axes>"
      ]
     },
     "metadata": {
      "needs_background": "light"
     },
     "output_type": "display_data"
    }
   ],
   "source": [
    "cm = metrics.confusion_matrix(y_test, predictions)\n",
    "plt.figure(figsize=(9,9))\n",
    "sns.heatmap(cm, annot=True, fmt=\".3f\", linewidths=.5, square = True, cmap = 'Blues_r');\n",
    "plt.ylabel('Actual label');\n",
    "plt.xlabel('Predicted label');\n",
    "all_sample_title = 'Accuracy Score: {0}'.format(score)\n",
    "plt.title(all_sample_title, size = 15);"
   ]
  },
  {
   "cell_type": "markdown",
   "metadata": {},
   "source": [
    "# Regression Comparisons"
   ]
  },
  {
   "cell_type": "code",
   "execution_count": 6,
   "metadata": {},
   "outputs": [
    {
     "name": "stdout",
     "output_type": "stream",
     "text": [
      "Optimization terminated successfully.\n",
      "         Current function value: 0.163475\n",
      "         Iterations 8\n",
      "                           Logit Regression Results                           \n",
      "==============================================================================\n",
      "Dep. Variable:                added_1   No. Observations:               130851\n",
      "Model:                          Logit   Df Residuals:                   130846\n",
      "Method:                           MLE   Df Model:                            4\n",
      "Date:                Sun, 07 May 2023   Pseudo R-squ.:                  0.1693\n",
      "Time:                        14:41:04   Log-Likelihood:                -21391.\n",
      "converged:                       True   LL-Null:                       -25750.\n",
      "Covariance Type:            nonrobust   LLR p-value:                     0.000\n",
      "===================================================================================\n",
      "                      coef    std err          z      P>|z|      [0.025      0.975]\n",
      "-----------------------------------------------------------------------------------\n",
      "Intercept          -5.8005      0.060    -96.901      0.000      -5.918      -5.683\n",
      "subscribers_2   -1.194e-07   2.15e-08     -5.555      0.000   -1.62e-07   -7.73e-08\n",
      "log_subscribers     0.4256      0.008     56.016      0.000       0.411       0.440\n",
      "age_in_months       0.0051      0.001      4.415      0.000       0.003       0.007\n",
      "age_and_subs       -0.0007      0.000     -5.533      0.000      -0.001      -0.000\n",
      "===================================================================================\n"
     ]
    }
   ],
   "source": [
    "m01 = logit('added_1 ~ subscribers_2 + log_subscribers + age_in_months + age_and_subs', data=regression_data).fit()\n",
    "print(m01.summary())"
   ]
  },
  {
   "cell_type": "code",
   "execution_count": 7,
   "metadata": {},
   "outputs": [
    {
     "name": "stdout",
     "output_type": "stream",
     "text": [
      "Optimization terminated successfully.\n",
      "         Current function value: 0.196221\n",
      "         Iterations 7\n",
      "                           Logit Regression Results                           \n",
      "==============================================================================\n",
      "Dep. Variable:                added_1   No. Observations:               130851\n",
      "Model:                          Logit   Df Residuals:                   130849\n",
      "Method:                           MLE   Df Model:                            1\n",
      "Date:                Sun, 07 May 2023   Pseudo R-squ.:                0.002889\n",
      "Time:                        14:41:04   Log-Likelihood:                -25676.\n",
      "converged:                       True   LL-Null:                       -25750.\n",
      "Covariance Type:            nonrobust   LLR p-value:                 3.204e-34\n",
      "=================================================================================\n",
      "                    coef    std err          z      P>|z|      [0.025      0.975]\n",
      "---------------------------------------------------------------------------------\n",
      "Intercept        -2.9656      0.013   -231.594      0.000      -2.991      -2.940\n",
      "subscribers_2  1.847e-07   1.63e-08     11.321      0.000    1.53e-07    2.17e-07\n",
      "=================================================================================\n"
     ]
    }
   ],
   "source": [
    "m02 = logit('added_1 ~ subscribers_2', data=regression_data).fit()\n",
    "print(m02.summary())"
   ]
  },
  {
   "cell_type": "code",
   "execution_count": 8,
   "metadata": {},
   "outputs": [
    {
     "name": "stdout",
     "output_type": "stream",
     "text": [
      "Optimization terminated successfully.\n",
      "         Current function value: 0.163996\n",
      "         Iterations 8\n",
      "                           Logit Regression Results                           \n",
      "==============================================================================\n",
      "Dep. Variable:                added_1   No. Observations:               130851\n",
      "Model:                          Logit   Df Residuals:                   130849\n",
      "Method:                           MLE   Df Model:                            1\n",
      "Date:                Sun, 07 May 2023   Pseudo R-squ.:                  0.1666\n",
      "Time:                        14:41:05   Log-Likelihood:                -21459.\n",
      "converged:                       True   LL-Null:                       -25750.\n",
      "Covariance Type:            nonrobust   LLR p-value:                     0.000\n",
      "===================================================================================\n",
      "                      coef    std err          z      P>|z|      [0.025      0.975]\n",
      "-----------------------------------------------------------------------------------\n",
      "Intercept          -5.4685      0.038   -142.689      0.000      -5.544      -5.393\n",
      "log_subscribers     0.3755      0.004     85.914      0.000       0.367       0.384\n",
      "===================================================================================\n"
     ]
    }
   ],
   "source": [
    "m03 = logit('added_1 ~ log_subscribers', data=regression_data).fit()\n",
    "print(m03.summary())"
   ]
  },
  {
   "cell_type": "code",
   "execution_count": 9,
   "metadata": {},
   "outputs": [
    {
     "name": "stdout",
     "output_type": "stream",
     "text": [
      "Optimization terminated successfully.\n",
      "         Current function value: 0.187135\n",
      "         Iterations 7\n",
      "                           Logit Regression Results                           \n",
      "==============================================================================\n",
      "Dep. Variable:                added_1   No. Observations:               130851\n",
      "Model:                          Logit   Df Residuals:                   130849\n",
      "Method:                           MLE   Df Model:                            1\n",
      "Date:                Sun, 07 May 2023   Pseudo R-squ.:                 0.04906\n",
      "Time:                        14:41:05   Log-Likelihood:                -24487.\n",
      "converged:                       True   LL-Null:                       -25750.\n",
      "Covariance Type:            nonrobust   LLR p-value:                     0.000\n",
      "=================================================================================\n",
      "                    coef    std err          z      P>|z|      [0.025      0.975]\n",
      "---------------------------------------------------------------------------------\n",
      "Intercept        -3.6417      0.021   -176.479      0.000      -3.682      -3.601\n",
      "age_in_months     0.0149      0.000     53.222      0.000       0.014       0.015\n",
      "=================================================================================\n"
     ]
    }
   ],
   "source": [
    "m04 = logit('added_1 ~ age_in_months', data=regression_data).fit()\n",
    "print(m04.summary())"
   ]
  },
  {
   "cell_type": "code",
   "execution_count": 10,
   "metadata": {},
   "outputs": [
    {
     "name": "stdout",
     "output_type": "stream",
     "text": [
      "Optimization terminated successfully.\n",
      "         Current function value: 0.180452\n",
      "         Iterations 7\n",
      "                           Logit Regression Results                           \n",
      "==============================================================================\n",
      "Dep. Variable:                added_1   No. Observations:               130851\n",
      "Model:                          Logit   Df Residuals:                   130849\n",
      "Method:                           MLE   Df Model:                            1\n",
      "Date:                Sun, 07 May 2023   Pseudo R-squ.:                 0.08302\n",
      "Time:                        14:41:06   Log-Likelihood:                -23612.\n",
      "converged:                       True   LL-Null:                       -25750.\n",
      "Covariance Type:            nonrobust   LLR p-value:                     0.000\n",
      "================================================================================\n",
      "                   coef    std err          z      P>|z|      [0.025      0.975]\n",
      "--------------------------------------------------------------------------------\n",
      "Intercept       -3.5650      0.018   -199.881      0.000      -3.600      -3.530\n",
      "age_and_subs     0.0017   2.36e-05     70.765      0.000       0.002       0.002\n",
      "================================================================================\n"
     ]
    }
   ],
   "source": [
    "m05 = logit('added_1 ~ age_and_subs', data=regression_data).fit()\n",
    "print(m05.summary())"
   ]
  },
  {
   "cell_type": "code",
   "execution_count": 11,
   "metadata": {},
   "outputs": [
    {
     "name": "stdout",
     "output_type": "stream",
     "text": [
      "Optimization terminated successfully.\n",
      "         Current function value: 0.163953\n",
      "         Iterations 8\n",
      "                           Logit Regression Results                           \n",
      "==============================================================================\n",
      "Dep. Variable:                added_1   No. Observations:               130851\n",
      "Model:                          Logit   Df Residuals:                   130848\n",
      "Method:                           MLE   Df Model:                            2\n",
      "Date:                Sun, 07 May 2023   Pseudo R-squ.:                  0.1669\n",
      "Time:                        14:41:06   Log-Likelihood:                -21453.\n",
      "converged:                       True   LL-Null:                       -25750.\n",
      "Covariance Type:            nonrobust   LLR p-value:                     0.000\n",
      "===================================================================================\n",
      "                      coef    std err          z      P>|z|      [0.025      0.975]\n",
      "-----------------------------------------------------------------------------------\n",
      "Intercept          -5.4790      0.039   -142.050      0.000      -5.555      -5.403\n",
      "log_subscribers     0.3849      0.005     73.667      0.000       0.375       0.395\n",
      "age_in_months      -0.0012      0.000     -3.317      0.001      -0.002      -0.000\n",
      "===================================================================================\n"
     ]
    }
   ],
   "source": [
    "m06 = logit('added_1 ~ log_subscribers + age_in_months', data=regression_data).fit()\n",
    "print(m06.summary())"
   ]
  },
  {
   "cell_type": "code",
   "execution_count": null,
   "metadata": {},
   "outputs": [],
   "source": []
  }
 ],
 "metadata": {
  "kernelspec": {
   "display_name": "Python 3",
   "language": "python",
   "name": "python3"
  },
  "language_info": {
   "codemirror_mode": {
    "name": "ipython",
    "version": 3
   },
   "file_extension": ".py",
   "mimetype": "text/x-python",
   "name": "python",
   "nbconvert_exporter": "python",
   "pygments_lexer": "ipython3",
   "version": "3.8.3"
  }
 },
 "nbformat": 4,
 "nbformat_minor": 4
}
