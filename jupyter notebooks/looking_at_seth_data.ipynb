{
 "cells": [
  {
   "cell_type": "code",
   "execution_count": 70,
   "metadata": {},
   "outputs": [],
   "source": [
    "import pandas as pd\n",
    "import numpy as np\n",
    "import plotly.express as px\n",
    "from datetime import datetime, timedelta\n",
    "import matplotlib.pyplot as plt"
   ]
  },
  {
   "cell_type": "markdown",
   "metadata": {},
   "source": [
    "# Rule Level Data"
   ]
  },
  {
   "cell_type": "code",
   "execution_count": 71,
   "metadata": {},
   "outputs": [],
   "source": [
    "df = pd.read_csv(\"../output_data/seth/all_fields_data.csv\")\n",
    "df.sort_values(by=[\"communityID\", \"ruleID\"], inplace=True)"
   ]
  },
  {
   "cell_type": "code",
   "execution_count": 72,
   "metadata": {},
   "outputs": [
    {
     "data": {
      "text/html": [
       "<div>\n",
       "<style scoped>\n",
       "    .dataframe tbody tr th:only-of-type {\n",
       "        vertical-align: middle;\n",
       "    }\n",
       "\n",
       "    .dataframe tbody tr th {\n",
       "        vertical-align: top;\n",
       "    }\n",
       "\n",
       "    .dataframe thead th {\n",
       "        text-align: right;\n",
       "    }\n",
       "</style>\n",
       "<table border=\"1\" class=\"dataframe\">\n",
       "  <thead>\n",
       "    <tr style=\"text-align: right;\">\n",
       "      <th></th>\n",
       "      <th>name_change_type</th>\n",
       "      <th>description_change_type</th>\n",
       "      <th>violation_change_type</th>\n",
       "      <th>date_observed</th>\n",
       "      <th>timestamp_rule</th>\n",
       "      <th>communityID</th>\n",
       "      <th>ref</th>\n",
       "      <th>ruleID</th>\n",
       "      <th>rule_age_in_days</th>\n",
       "    </tr>\n",
       "  </thead>\n",
       "  <tbody>\n",
       "    <tr>\n",
       "      <th>9252</th>\n",
       "      <td>unchanged</td>\n",
       "      <td>unchanged</td>\n",
       "      <td>never_present</td>\n",
       "      <td>2021-04-23 00:00:00</td>\n",
       "      <td>2021-04-01</td>\n",
       "      <td>0ne_0f_us</td>\n",
       "      <td>https://www.reddit.com/r/0ne_0f_us/</td>\n",
       "      <td>0ne_0f_us_0</td>\n",
       "      <td>22</td>\n",
       "    </tr>\n",
       "    <tr>\n",
       "      <th>11862</th>\n",
       "      <td>unchanged</td>\n",
       "      <td>unchanged</td>\n",
       "      <td>never_present</td>\n",
       "      <td>2021-04-23 00:00:00</td>\n",
       "      <td>2021-03-01</td>\n",
       "      <td>100waysto</td>\n",
       "      <td>https://www.reddit.com/r/100waysto/</td>\n",
       "      <td>100waysto_0</td>\n",
       "      <td>53</td>\n",
       "    </tr>\n",
       "    <tr>\n",
       "      <th>11863</th>\n",
       "      <td>unchanged</td>\n",
       "      <td>unchanged</td>\n",
       "      <td>never_present</td>\n",
       "      <td>2021-04-23 00:00:00</td>\n",
       "      <td>2021-03-01</td>\n",
       "      <td>100waysto</td>\n",
       "      <td>https://www.reddit.com/r/100waysto/</td>\n",
       "      <td>100waysto_1</td>\n",
       "      <td>53</td>\n",
       "    </tr>\n",
       "    <tr>\n",
       "      <th>11864</th>\n",
       "      <td>unchanged</td>\n",
       "      <td>unchanged</td>\n",
       "      <td>never_present</td>\n",
       "      <td>2021-04-23 00:00:00</td>\n",
       "      <td>2021-03-01</td>\n",
       "      <td>100waysto</td>\n",
       "      <td>https://www.reddit.com/r/100waysto/</td>\n",
       "      <td>100waysto_2</td>\n",
       "      <td>53</td>\n",
       "    </tr>\n",
       "    <tr>\n",
       "      <th>3221</th>\n",
       "      <td>unchanged</td>\n",
       "      <td>unchanged</td>\n",
       "      <td>never_present</td>\n",
       "      <td>2021-04-23 00:00:00</td>\n",
       "      <td>2021-04-01</td>\n",
       "      <td>100xcoin</td>\n",
       "      <td>https://www.reddit.com/r/100xcoin/</td>\n",
       "      <td>100xcoin_0</td>\n",
       "      <td>22</td>\n",
       "    </tr>\n",
       "  </tbody>\n",
       "</table>\n",
       "</div>"
      ],
      "text/plain": [
       "      name_change_type description_change_type violation_change_type  \\\n",
       "9252         unchanged               unchanged         never_present   \n",
       "11862        unchanged               unchanged         never_present   \n",
       "11863        unchanged               unchanged         never_present   \n",
       "11864        unchanged               unchanged         never_present   \n",
       "3221         unchanged               unchanged         never_present   \n",
       "\n",
       "             date_observed timestamp_rule communityID  \\\n",
       "9252   2021-04-23 00:00:00     2021-04-01   0ne_0f_us   \n",
       "11862  2021-04-23 00:00:00     2021-03-01   100waysto   \n",
       "11863  2021-04-23 00:00:00     2021-03-01   100waysto   \n",
       "11864  2021-04-23 00:00:00     2021-03-01   100waysto   \n",
       "3221   2021-04-23 00:00:00     2021-04-01    100xcoin   \n",
       "\n",
       "                                       ref       ruleID  rule_age_in_days  \n",
       "9252   https://www.reddit.com/r/0ne_0f_us/  0ne_0f_us_0                22  \n",
       "11862  https://www.reddit.com/r/100waysto/  100waysto_0                53  \n",
       "11863  https://www.reddit.com/r/100waysto/  100waysto_1                53  \n",
       "11864  https://www.reddit.com/r/100waysto/  100waysto_2                53  \n",
       "3221    https://www.reddit.com/r/100xcoin/   100xcoin_0                22  "
      ]
     },
     "execution_count": 72,
     "metadata": {},
     "output_type": "execute_result"
    }
   ],
   "source": [
    "df.head(5)"
   ]
  },
  {
   "cell_type": "markdown",
   "metadata": {},
   "source": [
    "# Sub Level Data"
   ]
  },
  {
   "cell_type": "code",
   "execution_count": 73,
   "metadata": {},
   "outputs": [],
   "source": [
    "agg_data = pd.DataFrame(df[['communityID', 'name_change_type']].groupby(['communityID', 'name_change_type']).agg(len)).reset_index()"
   ]
  },
  {
   "cell_type": "code",
   "execution_count": 74,
   "metadata": {},
   "outputs": [],
   "source": [
    "sub_data = agg_data.pivot(index='communityID', columns='name_change_type', values=0).fillna(0).reset_index()"
   ]
  },
  {
   "cell_type": "code",
   "execution_count": 75,
   "metadata": {},
   "outputs": [],
   "source": [
    "df = pd.read_csv(\"../output_data/seth/sub_metadata.csv\")"
   ]
  },
  {
   "cell_type": "code",
   "execution_count": 76,
   "metadata": {},
   "outputs": [],
   "source": [
    "sub_metadata = sub_data.set_index('communityID').join(df.set_index('communityID'), on=['communityID'])"
   ]
  },
  {
   "cell_type": "code",
   "execution_count": 77,
   "metadata": {},
   "outputs": [
    {
     "data": {
      "text/html": [
       "<div>\n",
       "<style scoped>\n",
       "    .dataframe tbody tr th:only-of-type {\n",
       "        vertical-align: middle;\n",
       "    }\n",
       "\n",
       "    .dataframe tbody tr th {\n",
       "        vertical-align: top;\n",
       "    }\n",
       "\n",
       "    .dataframe thead th {\n",
       "        text-align: right;\n",
       "    }\n",
       "</style>\n",
       "<table border=\"1\" class=\"dataframe\">\n",
       "  <thead>\n",
       "    <tr style=\"text-align: right;\">\n",
       "      <th></th>\n",
       "      <th>added</th>\n",
       "      <th>changed</th>\n",
       "      <th>deleted</th>\n",
       "      <th>unchanged</th>\n",
       "      <th>subscribers_1</th>\n",
       "      <th>subscribers_2</th>\n",
       "      <th>rules_1</th>\n",
       "      <th>rules_2</th>\n",
       "      <th>founding_date</th>\n",
       "      <th>age_in_months</th>\n",
       "    </tr>\n",
       "    <tr>\n",
       "      <th>communityID</th>\n",
       "      <th></th>\n",
       "      <th></th>\n",
       "      <th></th>\n",
       "      <th></th>\n",
       "      <th></th>\n",
       "      <th></th>\n",
       "      <th></th>\n",
       "      <th></th>\n",
       "      <th></th>\n",
       "      <th></th>\n",
       "    </tr>\n",
       "  </thead>\n",
       "  <tbody>\n",
       "    <tr>\n",
       "      <th>0ne_0f_us</th>\n",
       "      <td>0.0</td>\n",
       "      <td>0.0</td>\n",
       "      <td>0.0</td>\n",
       "      <td>1.0</td>\n",
       "      <td>9</td>\n",
       "      <td>9</td>\n",
       "      <td>1</td>\n",
       "      <td>1</td>\n",
       "      <td>1.618169e+09</td>\n",
       "      <td>0.367704</td>\n",
       "    </tr>\n",
       "    <tr>\n",
       "      <th>100waysto</th>\n",
       "      <td>0.0</td>\n",
       "      <td>0.0</td>\n",
       "      <td>0.0</td>\n",
       "      <td>3.0</td>\n",
       "      <td>3</td>\n",
       "      <td>3</td>\n",
       "      <td>3</td>\n",
       "      <td>3</td>\n",
       "      <td>1.617180e+09</td>\n",
       "      <td>0.743731</td>\n",
       "    </tr>\n",
       "    <tr>\n",
       "      <th>100xcoin</th>\n",
       "      <td>0.0</td>\n",
       "      <td>0.0</td>\n",
       "      <td>0.0</td>\n",
       "      <td>7.0</td>\n",
       "      <td>12667</td>\n",
       "      <td>14013</td>\n",
       "      <td>7</td>\n",
       "      <td>7</td>\n",
       "      <td>1.617505e+09</td>\n",
       "      <td>0.620121</td>\n",
       "    </tr>\n",
       "    <tr>\n",
       "      <th>14x14</th>\n",
       "      <td>0.0</td>\n",
       "      <td>0.0</td>\n",
       "      <td>0.0</td>\n",
       "      <td>1.0</td>\n",
       "      <td>1</td>\n",
       "      <td>15</td>\n",
       "      <td>1</td>\n",
       "      <td>1</td>\n",
       "      <td>1.617822e+09</td>\n",
       "      <td>0.499537</td>\n",
       "    </tr>\n",
       "    <tr>\n",
       "      <th>180gameplaybannypro</th>\n",
       "      <td>0.0</td>\n",
       "      <td>0.0</td>\n",
       "      <td>0.0</td>\n",
       "      <td>1.0</td>\n",
       "      <td>6</td>\n",
       "      <td>6</td>\n",
       "      <td>1</td>\n",
       "      <td>1</td>\n",
       "      <td>1.617916e+09</td>\n",
       "      <td>0.463958</td>\n",
       "    </tr>\n",
       "    <tr>\n",
       "      <th>...</th>\n",
       "      <td>...</td>\n",
       "      <td>...</td>\n",
       "      <td>...</td>\n",
       "      <td>...</td>\n",
       "      <td>...</td>\n",
       "      <td>...</td>\n",
       "      <td>...</td>\n",
       "      <td>...</td>\n",
       "      <td>...</td>\n",
       "      <td>...</td>\n",
       "    </tr>\n",
       "    <tr>\n",
       "      <th>zone8gardening</th>\n",
       "      <td>0.0</td>\n",
       "      <td>0.0</td>\n",
       "      <td>0.0</td>\n",
       "      <td>4.0</td>\n",
       "      <td>20</td>\n",
       "      <td>53</td>\n",
       "      <td>4</td>\n",
       "      <td>4</td>\n",
       "      <td>1.617749e+09</td>\n",
       "      <td>0.527567</td>\n",
       "    </tr>\n",
       "    <tr>\n",
       "      <th>zoomiestoken</th>\n",
       "      <td>0.0</td>\n",
       "      <td>0.0</td>\n",
       "      <td>0.0</td>\n",
       "      <td>4.0</td>\n",
       "      <td>148</td>\n",
       "      <td>143</td>\n",
       "      <td>4</td>\n",
       "      <td>4</td>\n",
       "      <td>1.618574e+09</td>\n",
       "      <td>0.213581</td>\n",
       "    </tr>\n",
       "    <tr>\n",
       "      <th>zoosandaquariums</th>\n",
       "      <td>0.0</td>\n",
       "      <td>0.0</td>\n",
       "      <td>0.0</td>\n",
       "      <td>3.0</td>\n",
       "      <td>3</td>\n",
       "      <td>3</td>\n",
       "      <td>3</td>\n",
       "      <td>3</td>\n",
       "      <td>1.616605e+09</td>\n",
       "      <td>0.962436</td>\n",
       "    </tr>\n",
       "    <tr>\n",
       "      <th>zumpaxd</th>\n",
       "      <td>0.0</td>\n",
       "      <td>0.0</td>\n",
       "      <td>0.0</td>\n",
       "      <td>1.0</td>\n",
       "      <td>5</td>\n",
       "      <td>5</td>\n",
       "      <td>1</td>\n",
       "      <td>1</td>\n",
       "      <td>1.617699e+09</td>\n",
       "      <td>0.546263</td>\n",
       "    </tr>\n",
       "    <tr>\n",
       "      <th>zzz_gvng</th>\n",
       "      <td>0.0</td>\n",
       "      <td>0.0</td>\n",
       "      <td>0.0</td>\n",
       "      <td>2.0</td>\n",
       "      <td>6</td>\n",
       "      <td>7</td>\n",
       "      <td>2</td>\n",
       "      <td>2</td>\n",
       "      <td>1.617294e+09</td>\n",
       "      <td>0.700305</td>\n",
       "    </tr>\n",
       "  </tbody>\n",
       "</table>\n",
       "<p>3078 rows × 10 columns</p>\n",
       "</div>"
      ],
      "text/plain": [
       "                     added  changed  deleted  unchanged  subscribers_1  \\\n",
       "communityID                                                              \n",
       "0ne_0f_us              0.0      0.0      0.0        1.0              9   \n",
       "100waysto              0.0      0.0      0.0        3.0              3   \n",
       "100xcoin               0.0      0.0      0.0        7.0          12667   \n",
       "14x14                  0.0      0.0      0.0        1.0              1   \n",
       "180gameplaybannypro    0.0      0.0      0.0        1.0              6   \n",
       "...                    ...      ...      ...        ...            ...   \n",
       "zone8gardening         0.0      0.0      0.0        4.0             20   \n",
       "zoomiestoken           0.0      0.0      0.0        4.0            148   \n",
       "zoosandaquariums       0.0      0.0      0.0        3.0              3   \n",
       "zumpaxd                0.0      0.0      0.0        1.0              5   \n",
       "zzz_gvng               0.0      0.0      0.0        2.0              6   \n",
       "\n",
       "                     subscribers_2  rules_1  rules_2  founding_date  \\\n",
       "communityID                                                           \n",
       "0ne_0f_us                        9        1        1   1.618169e+09   \n",
       "100waysto                        3        3        3   1.617180e+09   \n",
       "100xcoin                     14013        7        7   1.617505e+09   \n",
       "14x14                           15        1        1   1.617822e+09   \n",
       "180gameplaybannypro              6        1        1   1.617916e+09   \n",
       "...                            ...      ...      ...            ...   \n",
       "zone8gardening                  53        4        4   1.617749e+09   \n",
       "zoomiestoken                   143        4        4   1.618574e+09   \n",
       "zoosandaquariums                 3        3        3   1.616605e+09   \n",
       "zumpaxd                          5        1        1   1.617699e+09   \n",
       "zzz_gvng                         7        2        2   1.617294e+09   \n",
       "\n",
       "                     age_in_months  \n",
       "communityID                         \n",
       "0ne_0f_us                 0.367704  \n",
       "100waysto                 0.743731  \n",
       "100xcoin                  0.620121  \n",
       "14x14                     0.499537  \n",
       "180gameplaybannypro       0.463958  \n",
       "...                            ...  \n",
       "zone8gardening            0.527567  \n",
       "zoomiestoken              0.213581  \n",
       "zoosandaquariums          0.962436  \n",
       "zumpaxd                   0.546263  \n",
       "zzz_gvng                  0.700305  \n",
       "\n",
       "[3078 rows x 10 columns]"
      ]
     },
     "execution_count": 77,
     "metadata": {},
     "output_type": "execute_result"
    }
   ],
   "source": [
    "sub_metadata['age_in_months'] = \\\n",
    "        (pd.to_datetime('2021-04-23') - pd.to_datetime(sub_metadata['founding_date'] * 10**9))/ np.timedelta64(1, 'M')\n",
    "sub_metadata\n"
   ]
  },
  {
   "cell_type": "markdown",
   "metadata": {},
   "source": [
    "## Punctuated Eq Scatterplot"
   ]
  },
  {
   "cell_type": "code",
   "execution_count": 78,
   "metadata": {},
   "outputs": [
    {
     "data": {
      "image/png": "[encoded data removed]",
      "text/plain": [
       "<Figure size 432x288 with 1 Axes>"
      ]
     },
     "metadata": {
      "needs_background": "light"
     },
     "output_type": "display_data"
    }
   ],
   "source": [
    "x = np.array((sub_metadata.added + sub_metadata.deleted + sub_metadata.changed)/sub_metadata.rules_1)\n",
    "y = np.array(sub_metadata.rules_1)\n",
    "\n",
    "# Plot the scatter plot with the calculated area\n",
    "colors = np.random.rand(N)\n",
    "plt.scatter(x, y, alpha=0.3)\n",
    "\n",
    "plt.xlabel(\"# Rules Turned Over / # Rules in First Snap\")\n",
    "plt.ylabel(\"# Rules in First Snap\")\n",
    "plt.title(\"Rule Turnover and Size of Rule Corpus\")\n",
    "\n",
    "plt.show()"
   ]
  },
  {
   "cell_type": "markdown",
   "metadata": {},
   "source": [
    "## H: The bigger the sub, the more likely that they will add >=1 rule"
   ]
  },
  {
   "cell_type": "code",
   "execution_count": 79,
   "metadata": {},
   "outputs": [
    {
     "data": {
      "image/png": "[encoded data removed]",
      "text/plain": [
       "<Figure size 216x432 with 1 Axes>"
      ]
     },
     "metadata": {
      "needs_background": "light"
     },
     "output_type": "display_data"
    }
   ],
   "source": [
    "# Creating dataset\n",
    "added = np.array(sub_metadata[sub_metadata.added > 0].subscribers_1)\n",
    "not_added = np.array(sub_metadata[sub_metadata.added == 0].subscribers_1)\n",
    "data = np.array([added, not_added], dtype=object)\n",
    " \n",
    "fig = plt.figure(figsize =(3, 6))\n",
    " \n",
    "# Creating axes instance\n",
    "ax = fig.add_axes([0, 0, 1, 1])\n",
    " \n",
    "# Creating plot\n",
    "bp = ax.boxplot(data,\n",
    "                 notch=True,  # notch shape\n",
    "                 vert=True,  # vertical box alignment\n",
    "                 patch_artist=True,  # fill with color\n",
    "                 labels=['added >= 1 rule', 'did not add rules'])  # will be used to label x-ticks\n",
    "plt.yscale(\"log\")\n",
    "\n",
    "# ax.set_xticklabels(['added >= 1 rule', 'did not add rules'])\n",
    "plt.ylabel(\"# Subscribers\")\n",
    "plt.title(\"Subreddit Size and Adding a Rule\")\n",
    "\n",
    "# show plot\n",
    "plt.show()"
   ]
  },
  {
   "cell_type": "markdown",
   "metadata": {},
   "source": [
    "## H: the bigger the sub, the more rules they add"
   ]
  },
  {
   "cell_type": "code",
   "execution_count": 92,
   "metadata": {},
   "outputs": [
    {
     "data": {
      "image/png": "[encoded data removed]",
      "text/plain": [
       "<Figure size 432x288 with 1 Axes>"
      ]
     },
     "metadata": {
      "needs_background": "light"
     },
     "output_type": "display_data"
    }
   ],
   "source": [
    "y = np.array(sub_metadata.subscribers_1 + 2)\n",
    "x = np.array(sub_metadata.added)\n",
    "\n",
    "# Plot the scatter plot with the calculated area\n",
    "plt.scatter(x, y, alpha=0.3)\n",
    "plt.yscale(\"log\")\n",
    "\n",
    "plt.ylabel(\"# Subscribers\")\n",
    "plt.xlabel(\"# Rules Added\")\n",
    "plt.title(\"Subreddit Size and Rule Additions\")\n",
    "\n",
    "plt.show()"
   ]
  },
  {
   "cell_type": "markdown",
   "metadata": {},
   "source": [
    "## H: the bigger the sub, the more rules they add"
   ]
  },
  {
   "cell_type": "code",
   "execution_count": 93,
   "metadata": {},
   "outputs": [
    {
     "data": {
      "image/png": "[encoded data removed]",
      "text/plain": [
       "<Figure size 432x288 with 1 Axes>"
      ]
     },
     "metadata": {
      "needs_background": "light"
     },
     "output_type": "display_data"
    }
   ],
   "source": [
    "y = np.array(sub_metadata.subscribers_1 + 2)\n",
    "x = np.array(sub_metadata.deleted)\n",
    "\n",
    "# Plot the scatter plot with the calculated area\n",
    "plt.scatter(x, y, alpha=0.3)\n",
    "plt.yscale(\"log\")\n",
    "\n",
    "plt.ylabel(\"Log # Subscribers\")\n",
    "plt.xlabel(\"# Rules Deleted\")\n",
    "plt.title(\"Subreddit Size and Rule Deletions\")\n",
    "\n",
    "plt.show()"
   ]
  },
  {
   "cell_type": "markdown",
   "metadata": {},
   "source": [
    "## H: The bigger the sub, the more likely they will delete >=1 rule"
   ]
  },
  {
   "cell_type": "code",
   "execution_count": 80,
   "metadata": {},
   "outputs": [
    {
     "data": {
      "image/png": "[encoded data removed]",
      "text/plain": [
       "<Figure size 216x432 with 1 Axes>"
      ]
     },
     "metadata": {
      "needs_background": "light"
     },
     "output_type": "display_data"
    }
   ],
   "source": [
    "# Creating dataset\n",
    "deleted = np.array(sub_metadata[sub_metadata.deleted > 0].subscribers_1)\n",
    "not_deleted = np.array(sub_metadata[sub_metadata.deleted == 0].subscribers_1)\n",
    "data = np.array([deleted, not_deleted], dtype=object)\n",
    " \n",
    "fig = plt.figure(figsize =(3, 6))\n",
    " \n",
    "# Creating axes instance\n",
    "ax = fig.add_axes([0, 0, 1, 1])\n",
    " \n",
    "# Creating plot\n",
    "bp = ax.boxplot(data,\n",
    "                 notch=True,  # notch shape\n",
    "                 vert=True,  # vertical box alignment\n",
    "                 patch_artist=True,  # fill with color\n",
    "                 labels=['deleted >= 1 rule', 'did not delete rules'])  # will be used to label x-ticks\n",
    "plt.yscale(\"log\")\n",
    "\n",
    "# ax.set_xticklabels(['added >= 1 rule', 'did not add rules'])\n",
    "plt.ylabel(\"# Subscribers\")\n",
    "plt.title(\"Subreddit Size and Deleting a Rule\")\n",
    "\n",
    "# show plot\n",
    "plt.show()"
   ]
  },
  {
   "cell_type": "code",
   "execution_count": null,
   "metadata": {},
   "outputs": [],
   "source": []
  }
 ],
 "metadata": {
  "kernelspec": {
   "display_name": "Python 3",
   "language": "python",
   "name": "python3"
  },
  "language_info": {
   "codemirror_mode": {
    "name": "ipython",
    "version": 3
   },
   "file_extension": ".py",
   "mimetype": "text/x-python",
   "name": "python",
   "nbconvert_exporter": "python",
   "pygments_lexer": "ipython3",
   "version": "3.8.3"
  },
  "vscode": {
   "interpreter": {
    "hash": "369f2c481f4da34e4445cda3fffd2e751bd1c4d706f27375911949ba6bb62e1c"
   }
  }
 },
 "nbformat": 4,
 "nbformat_minor": 2
}
